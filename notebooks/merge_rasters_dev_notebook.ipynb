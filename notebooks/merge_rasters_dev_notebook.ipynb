{
 "cells": [
  {
   "cell_type": "markdown",
   "id": "c880efff",
   "metadata": {},
   "source": [
    "# Useful to test syntaxes, data, structure before adding them to scripts"
   ]
  },
  {
   "cell_type": "code",
   "execution_count": 3,
   "id": "775e98cf",
   "metadata": {
    "ExecuteTime": {
     "end_time": "2021-06-08T15:06:19.950896Z",
     "start_time": "2021-06-08T15:06:19.842977Z"
    },
    "init_cell": true
   },
   "outputs": [
    {
     "name": "stdout",
     "output_type": "stream",
     "text": [
      "False\n",
      "Everything is imported\n"
     ]
    }
   ],
   "source": [
    "import warnings\n",
    "warnings.simplefilter(action='ignore')\n",
    "\n",
    "import functools\n",
    "import argparse\n",
    "import numpy as np\n",
    "import pandas as pd\n",
    "\n",
    "from sklearn.model_selection import KFold\n",
    "from torch.utils.tensorboard import SummaryWriter\n",
    "from scipy.stats import gamma\n",
    "import os\n",
    "import time\n",
    "import torch\n",
    "import torch.optim as optim\n",
    "from torch.optim.lr_scheduler import StepLR\n",
    "import torchnet as tnt\n",
    "from sklearn.neighbors import NearestNeighbors\n",
    "import gc\n",
    "\n",
    "import torch.nn as nn\n",
    "from scipy.special import digamma, polygamma\n",
    "\n",
    "import matplotlib\n",
    "# Weird behavior: loading twice in cell appears to remove an elsewise occuring error.\n",
    "for i in range(2):\n",
    "    try:\n",
    "        matplotlib.use('TkAgg')  # rerun this cell if an error occurs.\n",
    "    except:\n",
    "        print(\"!\")\n",
    "import matplotlib.pyplot as plt\n",
    "\n",
    "\n",
    "import pickle\n",
    "from torch_scatter import scatter_max, scatter_mean\n",
    "\n",
    "print(torch.cuda.is_available())\n",
    "np.random.seed(42)\n",
    "torch.cuda.empty_cache()\n",
    "print(\"Everything is imported\")"
   ]
  },
  {
   "cell_type": "code",
   "execution_count": 4,
   "id": "3e68f216",
   "metadata": {
    "ExecuteTime": {
     "end_time": "2021-06-08T15:06:19.962531Z",
     "start_time": "2021-06-08T15:06:19.952308Z"
    },
    "init_cell": true
   },
   "outputs": [],
   "source": [
    "%matplotlib inline\n",
    "import matplotlib.colors as clr"
   ]
  },
  {
   "cell_type": "code",
   "execution_count": 5,
   "id": "eb065b2a",
   "metadata": {
    "ExecuteTime": {
     "end_time": "2021-06-08T15:06:20.198390Z",
     "start_time": "2021-06-08T15:06:19.963542Z"
    }
   },
   "outputs": [
    {
     "name": "stdout",
     "output_type": "stream",
     "text": [
      "Dataset folder in use: /home/CGaydon/Documents/LIDAR PAC/plot_vegetation_coverage/data/\n",
      "Arguments were imported in DEV mode\n"
     ]
    }
   ],
   "source": [
    "from osgeo import gdal\n",
    "import sys\n",
    "import os\n",
    "sys.path.append(\"/home/CGaydon/Documents/LIDAR PAC/plot_vegetation_coverage/\")\n",
    "from config import args\n",
    "from utils.useful_functions import create_new_experiment_folder, print_stats\n",
    "# from data_loader.loader import normalize_cloud_data\n",
    "# from utils.point_cloud_classifier import PointCloudClassifier\n",
    "# from model.infer_utils import (\n",
    "#     divide_parcel_las_and_get_disk_centers,\n",
    "#     extract_points_within_disk,\n",
    "#     create_geotiff_raster,\n",
    "# )\n",
    "\n",
    "\n",
    "# work with previous inference results\n",
    "args.stats_path = \"/home/CGaydon/Documents/LIDAR PAC/plot_vegetation_coverage/experiments/RESULTS_3_strata/only_stratum/DEV/inference/2021-06-08_15h55m34s/\""
   ]
  },
  {
   "cell_type": "code",
   "execution_count": 6,
   "id": "9e8b8abc",
   "metadata": {
    "ExecuteTime": {
     "end_time": "2021-06-08T15:06:20.206618Z",
     "start_time": "2021-06-08T15:06:20.200256Z"
    }
   },
   "outputs": [],
   "source": [
    "# create_new_experiment_folder(args)  # new paths are added to args\n",
    "\n",
    "tiff_folder_path = os.path.join(args.stats_path, \"img/rasters/004000715-5-18/\")\n",
    "input_file_list = os.path.join(tiff_folder_path, \"rasters_paths.txt\")\n",
    "\n",
    "with open(input_file_list, \"w\") as f:\n",
    "    for fname in os.listdir(tiff_folder_path):\n",
    "        path = os.path.join(tiff_folder_path, fname)\n",
    "        f.write(path)\n",
    "        f.write(\"\\n\")"
   ]
  },
  {
   "cell_type": "code",
   "execution_count": 7,
   "id": "6401e476",
   "metadata": {
    "ExecuteTime": {
     "end_time": "2021-06-08T15:06:20.325485Z",
     "start_time": "2021-06-08T15:06:20.209026Z"
    }
   },
   "outputs": [],
   "source": [
    "# GDAL python APIs doc: https://gdal.org/python/index.html\n",
    "# PixelFunction in python - doc : https://gdal.org/drivers/raster/vrt.html#examples\n",
    "# To add python function in vrt file: https://github.com/aerospaceresearch/DirectDemod/blob/1435456bbe4073faec2e812122be03e7094a582c/directdemod/merger.py#L29\n",
    "\n",
    "tiff_paths = [\n",
    "    os.path.join(tiff_folder_path, fname) for fname in os.listdir(tiff_folder_path)\n",
    "]\n",
    "\n",
    "vrt_raster_fname = os.path.join(tiff_folder_path, \"merged_raster.vrt\")\n",
    "raster_fname = vrt_raster_fname.replace(\".vrt\",\".tif\")\n",
    "\n",
    "vrt_options = gdal.BuildVRTOptions(\n",
    "    resolution=\"highest\",\n",
    "    outputBounds=None,\n",
    "    xRes=None,\n",
    "    yRes=None,\n",
    "    targetAlignedPixels=None,\n",
    "    separate=None,\n",
    "    bandList=None,\n",
    "    addAlpha=None,\n",
    "    resampleAlg=None,\n",
    "    outputSRS=None,\n",
    "    allowProjectionDifference=False,\n",
    "    srcNodata=None,  # Carefull, perhaps to be specified\n",
    "    VRTNodata=None,\n",
    "    hideNodata=None,\n",
    "    callback=None,\n",
    "    callback_data=None,\n",
    ")\n",
    "\n",
    "vrt = gdal.BuildVRT(vrt_raster_fname, tiff_paths, options=vrt_options)\n",
    "vrt.FlushCache()  # needed elsewise vrt not saved, see"
   ]
  },
  {
   "cell_type": "code",
   "execution_count": 8,
   "id": "184df4ab",
   "metadata": {
    "ExecuteTime": {
     "end_time": "2021-06-08T15:06:20.332766Z",
     "start_time": "2021-06-08T15:06:20.327257Z"
    }
   },
   "outputs": [],
   "source": [
    "\"\"\"inserts pixel-function 'average' into vrt file named 'filename'\n",
    "Args:\n",
    "    filename (:obj:`string`): name of file, into which the function will be inserted\n",
    "    resample_name (:obj:`string`): name of resampling method\n",
    "\"\"\"\n",
    "\n",
    "\n",
    "\n",
    "\n",
    "pixelfunction_str =\"\"\"\n",
    "import numpy as np\n",
    "def average(in_ar, out_ar, xoff, yoff, xsize, ysize, raster_xsize,raster_ysize, buf_radius, gt, **kwargs):\n",
    "    div = np.zeros(in_ar[0].shape)\n",
    "    for i in range(len(in_ar)):\n",
    "        div += (in_ar[i] != 0)\n",
    "    div[div == 0] = 1\n",
    "    \n",
    "    y = np.sum(in_ar, axis = 0, dtype = 'uint16')\n",
    "    y = y / div\n",
    "    \n",
    "    np.clip(y,0,255, out = out_ar)\n",
    "\"\"\"\n",
    "\n",
    "\n",
    "header = \"\"\"  <VRTRasterBand dataType=\"Byte\" band=\"1\" subClass=\"VRTDerivedRasterBand\">\"\"\"\n",
    "\n",
    "\n",
    "contents = f\"\"\"\n",
    "<PixelFunctionType>{\"average\"}</PixelFunctionType>\n",
    "<PixelFunctionLanguage>Python</PixelFunctionLanguage>\n",
    "<PixelFunctionCode><![CDATA[{pixelfunction_str}]]>\n",
    "</PixelFunctionCode>\"\"\"\n",
    "\n",
    "# rewrite\n",
    "lines = open(vrt_raster_fname, 'r').readlines()\n",
    "lines[3] = header  # FIX ME: 3 is a hand constant\n",
    "lines.insert(4, contents)\n",
    "with open(vrt_raster_fname, 'w') as f:\n",
    "    f.write(\"\".join(lines))"
   ]
  },
  {
   "cell_type": "code",
   "execution_count": 15,
   "id": "e32a5fcc",
   "metadata": {
    "ExecuteTime": {
     "end_time": "2021-06-08T15:07:19.948742Z",
     "start_time": "2021-06-08T15:07:19.931584Z"
    }
   },
   "outputs": [],
   "source": [
    "translated_options = gdal.TranslateOptions(\n",
    "    options=None,\n",
    "    format=\"GTiff\",\n",
    "    bandList=None,\n",
    "    maskBand=None,\n",
    "    width=0,\n",
    "    height=0,\n",
    "    widthPct=0.0,\n",
    "    heightPct=0.0,\n",
    "    xRes=0.0,\n",
    "    yRes=0.0,\n",
    "    creationOptions=None,\n",
    "    srcWin=None,\n",
    "    projWin=None,\n",
    "    projWinSRS=None,\n",
    "    strict=False,\n",
    "    unscale=False,\n",
    "    scaleParams=None,\n",
    "    exponents=None,\n",
    "    outputBounds=None,\n",
    "    metadataOptions=None,\n",
    "    outputSRS=None,\n",
    "    nogcp=False,\n",
    "    GCPs=None,\n",
    "    noData=None,\n",
    "    rgbExpand=None,\n",
    "    stats=False,\n",
    "    rat=True,\n",
    "    resampleAlg=None,\n",
    "    callback=None,\n",
    "    callback_data=None,\n",
    ")\n",
    "vrt_ds = gdal.Open(vrt_raster_fname, gdal.GA_ReadOnly)\n",
    "ds = gdal.Translate(raster_fname, vrt_ds, options=translated_options)\n",
    "ds = None"
   ]
  },
  {
   "cell_type": "code",
   "execution_count": 13,
   "id": "18f4dd0d",
   "metadata": {
    "ExecuteTime": {
     "end_time": "2021-06-08T15:06:33.296266Z",
     "start_time": "2021-06-08T15:06:33.291161Z"
    }
   },
   "outputs": [
    {
     "data": {
      "text/plain": [
       "(True, False)"
      ]
     },
     "execution_count": 13,
     "metadata": {},
     "output_type": "execute_result"
    }
   ],
   "source": [
    "# problème 1: ok si ds objetc mais pas si file !\n",
    "os.path.isfile(vrt_raster_fname),os.path.isfile(raster_fname)"
   ]
  },
  {
   "cell_type": "code",
   "execution_count": 16,
   "id": "dc3a0ad9",
   "metadata": {
    "ExecuteTime": {
     "end_time": "2021-06-08T15:07:33.721468Z",
     "start_time": "2021-06-08T15:07:33.715934Z"
    }
   },
   "outputs": [
    {
     "data": {
      "text/plain": [
       "<osgeo.gdal.Dataset; proxy of <Swig Object of type 'GDALDatasetShadow *' at 0x7ff6fc42b6f0> >"
      ]
     },
     "execution_count": 16,
     "metadata": {},
     "output_type": "execute_result"
    }
   ],
   "source": [
    "vrt_ds"
   ]
  }
 ],
 "metadata": {
  "celltoolbar": "Initialization Cell",
  "kernelspec": {
   "display_name": "Python 3",
   "language": "python",
   "name": "python3"
  },
  "language_info": {
   "codemirror_mode": {
    "name": "ipython",
    "version": 3
   },
   "file_extension": ".py",
   "mimetype": "text/x-python",
   "name": "python",
   "nbconvert_exporter": "python",
   "pygments_lexer": "ipython3",
   "version": "3.9.4"
  }
 },
 "nbformat": 4,
 "nbformat_minor": 5
}
