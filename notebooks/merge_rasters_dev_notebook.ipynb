{
 "cells": [
  {
   "cell_type": "markdown",
   "id": "c880efff",
   "metadata": {},
   "source": [
    "# Useful to test syntaxes, data, structure before adding them to scripts"
   ]
  },
  {
   "cell_type": "code",
   "execution_count": 1,
   "id": "775e98cf",
   "metadata": {
    "ExecuteTime": {
     "end_time": "2021-06-09T10:13:22.834375Z",
     "start_time": "2021-06-09T10:13:19.410500Z"
    },
    "init_cell": true
   },
   "outputs": [
    {
     "name": "stdout",
     "output_type": "stream",
     "text": [
      "False\n",
      "Everything is imported\n"
     ]
    }
   ],
   "source": [
    "import warnings\n",
    "warnings.simplefilter(action='ignore')\n",
    "\n",
    "import functools\n",
    "import argparse\n",
    "import numpy as np\n",
    "import pandas as pd\n",
    "\n",
    "from sklearn.model_selection import KFold\n",
    "from torch.utils.tensorboard import SummaryWriter\n",
    "from scipy.stats import gamma\n",
    "import os\n",
    "import time\n",
    "import torch\n",
    "import torch.optim as optim\n",
    "from torch.optim.lr_scheduler import StepLR\n",
    "import torchnet as tnt\n",
    "from sklearn.neighbors import NearestNeighbors\n",
    "import gc\n",
    "\n",
    "import torch.nn as nn\n",
    "from scipy.special import digamma, polygamma\n",
    "\n",
    "import matplotlib\n",
    "# Weird behavior: loading twice in cell appears to remove an elsewise occuring error.\n",
    "for i in range(2):\n",
    "    try:\n",
    "        matplotlib.use('TkAgg')  # rerun this cell if an error occurs.\n",
    "    except:\n",
    "        print(\"!\")\n",
    "import matplotlib.pyplot as plt\n",
    "\n",
    "\n",
    "import pickle\n",
    "from torch_scatter import scatter_max, scatter_mean\n",
    "\n",
    "print(torch.cuda.is_available())\n",
    "np.random.seed(42)\n",
    "torch.cuda.empty_cache()\n",
    "print(\"Everything is imported\")"
   ]
  },
  {
   "cell_type": "code",
   "execution_count": 2,
   "id": "3e68f216",
   "metadata": {
    "ExecuteTime": {
     "end_time": "2021-06-09T10:13:22.850829Z",
     "start_time": "2021-06-09T10:13:22.836549Z"
    },
    "init_cell": true
   },
   "outputs": [],
   "source": [
    "%matplotlib inline\n",
    "import matplotlib.colors as clr"
   ]
  },
  {
   "cell_type": "code",
   "execution_count": 5,
   "id": "89ed9153",
   "metadata": {
    "ExecuteTime": {
     "end_time": "2021-06-08T16:11:22.753223Z",
     "start_time": "2021-06-08T16:11:22.498905Z"
    }
   },
   "outputs": [
    {
     "name": "stdout",
     "output_type": "stream",
     "text": [
      "Dataset folder in use: /home/CGaydon/Documents/LIDAR PAC/plot_vegetation_coverage/data/\n",
      "Arguments were imported in DEV mode\n"
     ]
    }
   ],
   "source": [
    "from osgeo import gdal\n",
    "import sys\n",
    "import os\n",
    "sys.path.append(\"/home/CGaydon/Documents/LIDAR PAC/plot_vegetation_coverage/\")\n",
    "from config import args\n",
    "from utils.useful_functions import create_new_experiment_folder, print_stats"
   ]
  },
  {
   "cell_type": "code",
   "execution_count": 6,
   "id": "d3244dfb",
   "metadata": {
    "ExecuteTime": {
     "end_time": "2021-06-08T16:11:22.757698Z",
     "start_time": "2021-06-08T16:11:22.754332Z"
    }
   },
   "outputs": [],
   "source": [
    "# create_new_experiment_folder(args)  # new paths are added to args\n",
    "# work with previous inference results\n",
    "args.stats_path = \"/home/CGaydon/Documents/LIDAR PAC/plot_vegetation_coverage/experiments/RESULTS_3_strata/only_stratum/DEV/inference/2021-06-08_17h51m52s/\"\n",
    "tiff_folder_path = os.path.join(args.stats_path, \"img/rasters/004000715-5-18/\")\n",
    "input_file_list = os.path.join(tiff_folder_path, \"rasters_paths.txt\")\n",
    "\n",
    "# with open(input_file_list, \"w\") as f:\n",
    "#     for fname in os.listdir(tiff_folder_path):\n",
    "#         path = os.path.join(tiff_folder_path, fname)\n",
    "#         f.write(path)\n",
    "#         f.write(\"\\n\")"
   ]
  },
  {
   "cell_type": "code",
   "execution_count": 7,
   "id": "d24911d1",
   "metadata": {
    "ExecuteTime": {
     "end_time": "2021-06-08T16:11:22.891858Z",
     "start_time": "2021-06-08T16:11:22.760137Z"
    }
   },
   "outputs": [],
   "source": [
    "# GDAL python APIs doc: https://gdal.org/python/index.html\n",
    "# PixelFunction in python - doc : https://gdal.org/drivers/raster/vrt.html#examples\n",
    "# To add python function in vrt file: https://github.com/aerospaceresearch/DirectDemod/blob/1435456bbe4073faec2e812122be03e7094a582c/directdemod/merger.py#L29\n",
    "\n",
    "tiff_paths = [\n",
    "    os.path.join(tiff_folder_path, fname) for fname in os.listdir(tiff_folder_path) if fname.endswith(\".tif\")\n",
    "]\n",
    "\n",
    "vrt_raster_fname = os.path.join(tiff_folder_path, \"merged_raster.vrt\")\n",
    "raster_fname = vrt_raster_fname.replace(\".vrt\",\".tif\")\n",
    "\n",
    "vrt_options = gdal.BuildVRTOptions(\n",
    "    resolution=\"highest\",\n",
    "    outputBounds=None,\n",
    "    xRes=None,\n",
    "    yRes=None,\n",
    "    targetAlignedPixels=None,\n",
    "    separate=None,\n",
    "    bandList=None,\n",
    "    addAlpha=None,\n",
    "    resampleAlg=None,\n",
    "    outputSRS=None,\n",
    "    allowProjectionDifference=False,\n",
    "    srcNodata=None,  # Carefull, perhaps to be specified\n",
    "    VRTNodata=None,\n",
    "    hideNodata=None,\n",
    "    callback=None,\n",
    "    callback_data=None,\n",
    ")\n",
    "\n",
    "vrt = gdal.BuildVRT(vrt_raster_fname, tiff_paths, options=vrt_options)\n",
    "vrt.FlushCache()  # needed elsewise vrt not saved, see"
   ]
  },
  {
   "cell_type": "code",
   "execution_count": 8,
   "id": "46c56bd0",
   "metadata": {
    "ExecuteTime": {
     "end_time": "2021-06-08T16:11:22.895657Z",
     "start_time": "2021-06-08T16:11:22.893191Z"
    }
   },
   "outputs": [
    {
     "name": "stdout",
     "output_type": "stream",
     "text": [
      "\n",
      "import numpy as np\n",
      "\n",
      "def average(in_ar, out_ar, xoff, yoff, xsize, ysize, raster_xsize,raster_ysize, buf_radius, gt, **kwargs):\n",
      "    x = np.ma.masked_greater(in_ar, 1)\n",
      "    np.mean(x, axis = 0,out = out_ar, dtype = 'uint8')\n",
      "    mask = np.all(x.mask,axis = 0)\n",
      "    out_ar[mask]=255\n",
      "\n",
      "\n"
     ]
    }
   ],
   "source": [
    "use_custom_average = True\n",
    "pixelfunction_str =\"\"\"\n",
    "import numpy as np\n",
    "def average(in_ar, out_ar, xoff, yoff, xsize, ysize, raster_xsize,raster_ysize, buf_radius, gt, **kwargs):\n",
    "    div = np.zeros(in_ar[0].shape)\n",
    "    for i in range(len(in_ar)):\n",
    "        div += (in_ar[i] != 0)\n",
    "    div[div == 0] = 1\n",
    "    \n",
    "    y = np.sum(in_ar, axis = 0, dtype = 'uint16')\n",
    "    y = y / div\n",
    "    \n",
    "    np.clip(y,0,255, out = out_ar)\n",
    "\"\"\"\n",
    "# v2\n",
    "pixelfunction_str = \"\"\"\n",
    "import numpy as np\n",
    "def average(in_ar, out_ar, xoff, yoff, xsize, ysize, raster_xsize,raster_ysize, buf_radius, gt, **kwargs):\n",
    "        x = np.ma.masked_equal(in_ar, -3.4e+38)\n",
    "        np.nanmean(x, axis = 0,out = out_ar, dtype = 'float64')\n",
    "        mask = np.all(x.mask,axis = 0)\n",
    "        out_ar[mask]=-3.4e+38\n",
    "\"\"\"\n",
    "\n",
    "# tst\n",
    "pixelfunction_str = \"\"\"\n",
    "import numpy as np\n",
    "\n",
    "def average(in_ar, out_ar, xoff, yoff, xsize, ysize, raster_xsize,raster_ysize, buf_radius, gt, **kwargs):\n",
    "    x = np.ma.masked_greater(in_ar, 1)\n",
    "    np.mean(x, axis = 0,out = out_ar, dtype = 'uint8')\n",
    "    mask = np.all(x.mask,axis = 0)\n",
    "    out_ar[mask]=255\n",
    "\n",
    "\"\"\"\n",
    "\n",
    "print(pixelfunction_str)"
   ]
  },
  {
   "cell_type": "code",
   "execution_count": 9,
   "id": "67180785",
   "metadata": {
    "ExecuteTime": {
     "end_time": "2021-06-08T16:11:22.904069Z",
     "start_time": "2021-06-08T16:11:22.896871Z"
    }
   },
   "outputs": [],
   "source": [
    "\"\"\"inserts pixel-function 'average' into vrt file named 'filename'\n",
    "Args:\n",
    "    filename (:obj:`string`): name of file, into which the function will be inserted\n",
    "    resample_name (:obj:`string`): name of resampling method\n",
    "\"\"\"\n",
    "\n",
    "header = \"\"\"  <VRTRasterBand dataType=\"Byte\" band=\"1\" subClass=\"VRTDerivedRasterBand\">\"\"\"\n",
    "contents = f\"\"\"\n",
    "<PixelFunctionType>add</PixelFunctionType>\n",
    "<PixelFunctionLanguage>Python</PixelFunctionLanguage>\n",
    "<PixelFunctionCode><![CDATA[{pixelfunction_str}]]>\n",
    "</PixelFunctionCode>\n",
    "\"\"\"\n",
    "\n",
    "# rewrite vrt file\n",
    "if use_custom_average:\n",
    "    lines = open(vrt_raster_fname, 'r').readlines()\n",
    "    lines[3] = header  # FIX ME: 3 is a hand constant\n",
    "    lines.insert(4, contents)\n",
    "    with open(vrt_raster_fname, 'w') as f:\n",
    "        f.write(\"\".join(lines))"
   ]
  },
  {
   "cell_type": "code",
   "execution_count": 22,
   "id": "97c0a74c",
   "metadata": {
    "ExecuteTime": {
     "end_time": "2021-06-08T16:13:44.753324Z",
     "start_time": "2021-06-08T16:13:44.703178Z"
    }
   },
   "outputs": [],
   "source": [
    "# create the tif file to check results !\n",
    "vrt_ds = gdal.Open(vrt_raster_fname, gdal.GA_ReadOnly)\n",
    "ds = gdal.Translate(raster_fname, vrt_ds)\n",
    "ds = None"
   ]
  },
  {
   "cell_type": "code",
   "execution_count": 21,
   "id": "1b852129",
   "metadata": {
    "ExecuteTime": {
     "end_time": "2021-06-08T16:13:42.724762Z",
     "start_time": "2021-06-08T16:13:42.717936Z"
    }
   },
   "outputs": [
    {
     "data": {
      "text/plain": [
       "(True, False)"
      ]
     },
     "execution_count": 21,
     "metadata": {},
     "output_type": "execute_result"
    }
   ],
   "source": [
    "# test\n",
    "os.path.isfile(vrt_raster_fname),os.path.isfile(raster_fname)"
   ]
  },
  {
   "cell_type": "code",
   "execution_count": null,
   "id": "73b05032",
   "metadata": {},
   "outputs": [],
   "source": []
  },
  {
   "cell_type": "code",
   "execution_count": null,
   "id": "2e53a439",
   "metadata": {},
   "outputs": [],
   "source": []
  },
  {
   "cell_type": "code",
   "execution_count": null,
   "id": "f3feac04",
   "metadata": {},
   "outputs": [],
   "source": []
  },
  {
   "cell_type": "code",
   "execution_count": 12,
   "id": "2153cd07",
   "metadata": {
    "ExecuteTime": {
     "end_time": "2021-06-08T16:11:23.010555Z",
     "start_time": "2021-06-08T16:11:23.002669Z"
    }
   },
   "outputs": [],
   "source": [
    "# !gdalinfo \"$vrt_raster_fname\""
   ]
  },
  {
   "cell_type": "code",
   "execution_count": 13,
   "id": "235a700d",
   "metadata": {
    "ExecuteTime": {
     "end_time": "2021-06-08T16:11:23.015742Z",
     "start_time": "2021-06-08T16:11:23.011897Z"
    }
   },
   "outputs": [
    {
     "data": {
      "text/plain": [
       "'/home/CGaydon/Documents/LIDAR PAC/plot_vegetation_coverage/experiments/RESULTS_3_strata/only_stratum/DEV/inference/2021-06-08_17h51m52s/img/rasters/004000715-5-18/merged_raster.vrt'"
      ]
     },
     "execution_count": 13,
     "metadata": {},
     "output_type": "execute_result"
    }
   ],
   "source": [
    "vrt_raster_fname"
   ]
  },
  {
   "cell_type": "code",
   "execution_count": 14,
   "id": "7c2d4cca",
   "metadata": {
    "ExecuteTime": {
     "end_time": "2021-06-08T16:11:23.020477Z",
     "start_time": "2021-06-08T16:11:23.017451Z"
    }
   },
   "outputs": [],
   "source": [
    "# ! gdal_translate --config GDAL_VRT_ENABLE_PYTHON YES -colorinterp red \"$vrt_raster_fname\" \"$raster_fname\""
   ]
  },
  {
   "cell_type": "code",
   "execution_count": null,
   "id": "41f35fd6",
   "metadata": {},
   "outputs": [],
   "source": []
  },
  {
   "cell_type": "code",
   "execution_count": null,
   "id": "6371fb86",
   "metadata": {},
   "outputs": [],
   "source": []
  },
  {
   "cell_type": "markdown",
   "id": "469a9c17",
   "metadata": {},
   "source": [
    "# Create fake TIF and merge them with all options and NODATA"
   ]
  },
  {
   "cell_type": "code",
   "execution_count": 174,
   "id": "c9c3b405",
   "metadata": {
    "ExecuteTime": {
     "end_time": "2021-06-09T14:53:42.035912Z",
     "start_time": "2021-06-09T14:53:42.018137Z"
    }
   },
   "outputs": [
    {
     "name": "stdout",
     "output_type": "stream",
     "text": [
      "0\n",
      "1\n"
     ]
    }
   ],
   "source": [
    "from osgeo import osr\n",
    "from osgeo import gdal\n",
    "\n",
    "nb_channels = 4\n",
    "a = np.clip(np.random.random((nb_channels, 32, 32))+0.4, 0,1)\n",
    "b = np.random.random((nb_channels, 32, 32))\n",
    "\n",
    "# We set Lambert 93 projection\n",
    "srs = osr.SpatialReference()\n",
    "srs.ImportFromEPSG(2154)\n",
    "proj = srs.ExportToWkt()\n",
    "geotransformation = [\n",
    "    [\n",
    "        924462.2800000001,  # x coordinate upper_left of upper_left pixel\n",
    "        0.6199999999989814,  # pixel width - not 0.625 ?? -> calculated with min/max of points !\n",
    "        0,  # rotation\n",
    "        6323318.64,  # same for y\n",
    "        0,\n",
    "        -0.6224999999976717,  # pixel height - can be negative to reverse !\n",
    "    ],\n",
    "    [\n",
    "        924462.2800000001+8,  # x coordinate upper_left of upper_left pixel\n",
    "        0.6199999999989814,  # pixel width - not 0.625 ?? -> calculated with min/max of points !\n",
    "        0,  # rotation\n",
    "        6323318.64+8,  # same for y\n",
    "        0,\n",
    "        -0.6224999999976717,  # pixel height - can be negative to reverse !\n",
    "    ],\n",
    "]  # from vscode\n",
    "\n",
    "NODATAVALUE = 0\n",
    "\n",
    "b[:,:,:3] = NODATAVALUE\n",
    "a[:,-3:,:] = NODATAVALUE\n",
    "\n",
    "for idx, data_array in enumerate([a, b]):\n",
    "    print(idx)\n",
    "    srs = osr.SpatialReference()\n",
    "    srs.ImportFromEPSG(2154)\n",
    "    proj = srs.ExportToWkt()\n",
    "\n",
    "    driver_tiff = gdal.GetDriverByName(\"GTiff\")\n",
    "    dst_ds = driver_tiff.Create(\n",
    "        f\"./test_{idx}.tif\", 32, 32, nb_channels, gdal.GDT_Float32\n",
    "    )\n",
    "    dst_ds.SetGeoTransform(geotransformation[idx])\n",
    "    dst_ds.SetProjection(proj)\n",
    "\n",
    "    if nb_channels == 1:\n",
    "        outband = dst_ds.GetRasterBand(1)\n",
    "        outband.WriteArray(data_array)\n",
    "        outband.SetNoDataValue(NODATAVALUE)\n",
    "        outband = None\n",
    "    else:\n",
    "        for ch in range(nb_channels):\n",
    "            outband = dst_ds.GetRasterBand(ch + 1)\n",
    "            outband.WriteArray(data_array[ch])\n",
    "            outband.SetNoDataValue(NODATAVALUE)\n",
    "            outband = None\n",
    "\n",
    "    dst_ds.FlushCache()  # write to file\n",
    "    dst_ds = None"
   ]
  },
  {
   "cell_type": "code",
   "execution_count": 190,
   "id": "1002f64b",
   "metadata": {
    "ExecuteTime": {
     "end_time": "2021-06-09T15:01:35.634822Z",
     "start_time": "2021-06-09T15:01:35.526661Z"
    }
   },
   "outputs": [
    {
     "data": {
      "image/png": "[encoded data removed]",
      "text/plain": [
       "<Figure size 432x288 with 1 Axes>"
      ]
     },
     "metadata": {
      "needs_background": "light"
     },
     "output_type": "display_data"
    },
    {
     "data": {
      "text/plain": [
       "<AxesSubplot:>"
      ]
     },
     "execution_count": 190,
     "metadata": {},
     "output_type": "execute_result"
    }
   ],
   "source": [
    "# test merge with rasterio\n",
    "import rasterio\n",
    "import glob\n",
    "from rasterio.merge import merge\n",
    "from rasterio.plot import show\n",
    "\n",
    "# https://automating-gis-processes.github.io/CSC18/lessons/L6/raster-mosaic.html\n",
    "# merge :; https://rasterio.readthedocs.io/en/latest/api/rasterio.merge.html\n",
    "# show :\n",
    "\n",
    "\n",
    "def weighted_mean(\n",
    "    old_data, new_data, old_nodata, new_nodata, index=None, roff=None, coff=None\n",
    "):\n",
    "#     # TODO DEBUG all nodata = 0 -> no nodata\n",
    "#     old_nodata = np.zeros_like(old_nodata)\n",
    "#     new_nodata = np.zeros_like(new_nodata)\n",
    "\n",
    "    #     # weights at last dim -> change with a param\n",
    "    #     old_data[:-1][old_nodata[:-1]] = np.nan\n",
    "    #     new_data[:-1][new_nodata[:-1]] = np.nan\n",
    "\n",
    "    weights_sum = np.zeros_like(old_data)\n",
    "\n",
    "    for band_idx in range(len(old_data)):\n",
    "\n",
    "        # scale the data with weights and ignore nodata\n",
    "        old_data[band_idx] = (\n",
    "            old_data[band_idx] * old_data[-1] * (1 - old_nodata[band_idx])\n",
    "        )\n",
    "        new_data[band_idx] = (\n",
    "            new_data[band_idx] * new_data[-1] * (1 - new_nodata[band_idx])\n",
    "        )\n",
    "\n",
    "        # add weights to themselves if not nan\n",
    "        w1 = old_data[-1] * (1 - old_nodata[band_idx])  # set contrib to zero if nodata\n",
    "        w2 = new_data[-1] * (1 - new_nodata[band_idx])\n",
    "        weights_sum[band_idx] = w1 + w2  # w1 + w2 at each location\n",
    "    \n",
    "    # we also do a weighted sum of weights !\n",
    "    data_sum = np.nansum(\n",
    "        [old_data, new_data], axis=0\n",
    "    )  # nansum the two rasters -> (N,32,32) output\n",
    "    average = data_sum / weights_sum\n",
    "    average[np.isnan(average)] = NODATAVALUE\n",
    "    np.clip(average, 0, 1, out=old_data)\n",
    "\n",
    "\n",
    "a0 = f\"./test_0.tif\"\n",
    "a1 = f\"./test_1.tif\"\n",
    "dem_fps = [a0, a1]\n",
    "src_files_to_mosaic = []\n",
    "for fp in dem_fps:\n",
    "    src = rasterio.open(fp)\n",
    "    src_files_to_mosaic.append(src)\n",
    "\n",
    "mosaic, out_trans = merge(src_files_to_mosaic, method=weighted_mean)\n",
    "show(mosaic)"
   ]
  },
  {
   "cell_type": "code",
   "execution_count": 191,
   "id": "2501ad49",
   "metadata": {
    "ExecuteTime": {
     "end_time": "2021-06-09T15:01:49.989277Z",
     "start_time": "2021-06-09T15:01:49.979828Z"
    }
   },
   "outputs": [],
   "source": [
    "# save to\n",
    "out_fp = \"./merged.tif\"\n",
    "\n",
    "\n",
    "# Copy the metadata\n",
    "out_meta = src.meta.copy()\n",
    "\n",
    "# Update the metadata\n",
    "out_meta.update(\n",
    "    {\n",
    "        \"driver\": \"GTiff\",\n",
    "        \"height\": mosaic.shape[1],\n",
    "        \"width\": mosaic.shape[2],\n",
    "        \"transform\": out_trans,\n",
    "        #         \"crs\": \"+proj=utm +zone=35 +ellps=GRS80 +units=m +no_defs \",\n",
    "    }\n",
    ")\n",
    "with rasterio.open(out_fp, \"w\", **out_meta) as dest:\n",
    "    dest.write(mosaic)"
   ]
  },
  {
   "cell_type": "code",
   "execution_count": 187,
   "id": "36b39dfb",
   "metadata": {
    "ExecuteTime": {
     "end_time": "2021-06-09T15:00:26.450835Z",
     "start_time": "2021-06-09T15:00:26.443899Z"
    }
   },
   "outputs": [
    {
     "data": {
      "text/plain": [
       "0.0"
      ]
     },
     "execution_count": 187,
     "metadata": {},
     "output_type": "execute_result"
    }
   ],
   "source": [
    "mosaic.max()"
   ]
  }
 ],
 "metadata": {
  "celltoolbar": "Initialization Cell",
  "kernelspec": {
   "display_name": "Python 3",
   "language": "python",
   "name": "python3"
  },
  "language_info": {
   "codemirror_mode": {
    "name": "ipython",
    "version": 3
   },
   "file_extension": ".py",
   "mimetype": "text/x-python",
   "name": "python",
   "nbconvert_exporter": "python",
   "pygments_lexer": "ipython3",
   "version": "3.9.4"
  }
 },
 "nbformat": 4,
 "nbformat_minor": 5
}
