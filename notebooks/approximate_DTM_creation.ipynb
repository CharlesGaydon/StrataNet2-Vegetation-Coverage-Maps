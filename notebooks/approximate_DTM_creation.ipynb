{
 "cells": [
  {
   "cell_type": "code",
   "execution_count": 69,
   "id": "df7e89e3",
   "metadata": {
    "ExecuteTime": {
     "end_time": "2021-06-11T08:40:36.688843Z",
     "start_time": "2021-06-11T08:40:36.647487Z"
    }
   },
   "outputs": [],
   "source": [
    "import matplotlib.pyplot as plt\n",
    "import numpy as np\n",
    "from scipy.integrate import simps\n",
    "import pandas as pd\n",
    "import sys\n",
    "import math\n",
    "from mpl_toolkits import mplot3d\n",
    "%matplotlib inline\n",
    "import numpy as np\n",
    "import matplotlib.pyplot as plt\n",
    "from scipy import interpolate"
   ]
  },
  {
   "cell_type": "code",
   "execution_count": 58,
   "id": "ebc95709",
   "metadata": {
    "ExecuteTime": {
     "end_time": "2021-06-11T08:38:32.917665Z",
     "start_time": "2021-06-11T08:38:32.863634Z"
    }
   },
   "outputs": [
    {
     "data": {
      "text/html": [
       "<div>\n",
       "<style scoped>\n",
       "    .dataframe tbody tr th:only-of-type {\n",
       "        vertical-align: middle;\n",
       "    }\n",
       "\n",
       "    .dataframe tbody tr th {\n",
       "        vertical-align: top;\n",
       "    }\n",
       "\n",
       "    .dataframe thead th {\n",
       "        text-align: right;\n",
       "    }\n",
       "</style>\n",
       "<table border=\"1\" class=\"dataframe\">\n",
       "  <thead>\n",
       "    <tr style=\"text-align: right;\">\n",
       "      <th></th>\n",
       "      <th>x</th>\n",
       "      <th>y</th>\n",
       "      <th>z</th>\n",
       "    </tr>\n",
       "  </thead>\n",
       "  <tbody>\n",
       "    <tr>\n",
       "      <th>0</th>\n",
       "      <td>0.2</td>\n",
       "      <td>0.5</td>\n",
       "      <td>2.291753</td>\n",
       "    </tr>\n",
       "    <tr>\n",
       "      <th>1</th>\n",
       "      <td>0.3</td>\n",
       "      <td>0.3</td>\n",
       "      <td>2.168124</td>\n",
       "    </tr>\n",
       "    <tr>\n",
       "      <th>2</th>\n",
       "      <td>0.6</td>\n",
       "      <td>0.2</td>\n",
       "      <td>2.021103</td>\n",
       "    </tr>\n",
       "    <tr>\n",
       "      <th>3</th>\n",
       "      <td>0.2</td>\n",
       "      <td>0.0</td>\n",
       "      <td>2.419020</td>\n",
       "    </tr>\n",
       "    <tr>\n",
       "      <th>4</th>\n",
       "      <td>0.5</td>\n",
       "      <td>0.2</td>\n",
       "      <td>1.983479</td>\n",
       "    </tr>\n",
       "    <tr>\n",
       "      <th>...</th>\n",
       "      <td>...</td>\n",
       "      <td>...</td>\n",
       "      <td>...</td>\n",
       "    </tr>\n",
       "    <tr>\n",
       "      <th>995</th>\n",
       "      <td>0.6</td>\n",
       "      <td>0.0</td>\n",
       "      <td>1.979426</td>\n",
       "    </tr>\n",
       "    <tr>\n",
       "      <th>996</th>\n",
       "      <td>0.4</td>\n",
       "      <td>0.5</td>\n",
       "      <td>2.032057</td>\n",
       "    </tr>\n",
       "    <tr>\n",
       "      <th>997</th>\n",
       "      <td>0.1</td>\n",
       "      <td>0.9</td>\n",
       "      <td>2.725905</td>\n",
       "    </tr>\n",
       "    <tr>\n",
       "      <th>998</th>\n",
       "      <td>0.3</td>\n",
       "      <td>0.6</td>\n",
       "      <td>2.287348</td>\n",
       "    </tr>\n",
       "    <tr>\n",
       "      <th>999</th>\n",
       "      <td>0.1</td>\n",
       "      <td>0.8</td>\n",
       "      <td>2.646395</td>\n",
       "    </tr>\n",
       "  </tbody>\n",
       "</table>\n",
       "<p>1000 rows × 3 columns</p>\n",
       "</div>"
      ],
      "text/plain": [
       "       x    y         z\n",
       "0    0.2  0.5  2.291753\n",
       "1    0.3  0.3  2.168124\n",
       "2    0.6  0.2  2.021103\n",
       "3    0.2  0.0  2.419020\n",
       "4    0.5  0.2  1.983479\n",
       "..   ...  ...       ...\n",
       "995  0.6  0.0  1.979426\n",
       "996  0.4  0.5  2.032057\n",
       "997  0.1  0.9  2.725905\n",
       "998  0.3  0.6  2.287348\n",
       "999  0.1  0.8  2.646395\n",
       "\n",
       "[1000 rows x 3 columns]"
      ]
     },
     "execution_count": 58,
     "metadata": {},
     "output_type": "execute_result"
    }
   ],
   "source": [
    "xy = np.random.random((1000, 2))\n",
    "def fxy(x,y):\n",
    "    return -np.sin(x*3) - np.cos(3)*3\n",
    "\n",
    "\n",
    "xy = (xy - xy.min(axis=0)) / (xy.max(axis=0) - xy.min(axis=0))\n",
    "z = fxy(xy[:,0:1], xy[:,1:2])\n",
    "xyz = np.append(xy,z, axis=1)\n",
    "df = pd.DataFrame(xyz)\n",
    "df.values[:, :2] = np.round(df.values[:, :2], 1)\n",
    "df.columns = [\"x\",\"y\",\"z\"]\n",
    "df"
   ]
  },
  {
   "cell_type": "code",
   "execution_count": 59,
   "id": "52c7419e",
   "metadata": {
    "ExecuteTime": {
     "end_time": "2021-06-11T08:38:34.878863Z",
     "start_time": "2021-06-11T08:38:34.775195Z"
    }
   },
   "outputs": [
    {
     "data": {
      "image/png": "[encoded data removed]",
      "text/plain": [
       "<Figure size 432x288 with 1 Axes>"
      ]
     },
     "metadata": {
      "needs_background": "light"
     },
     "output_type": "display_data"
    }
   ],
   "source": [
    "ax = plt.axes(projection='3d')\n",
    "ax.scatter3D(df.values[:,0], df.values[:,1], df.values[:,2], c= df.values[:,2], cmap='Greens');"
   ]
  },
  {
   "cell_type": "code",
   "execution_count": 90,
   "id": "5c0eb503",
   "metadata": {
    "ExecuteTime": {
     "end_time": "2021-06-11T11:58:34.652722Z",
     "start_time": "2021-06-11T11:58:34.416148Z"
    }
   },
   "outputs": [],
   "source": [
    "xzmin = df.groupby([\"x\",\"y\"])[\"z\"].min()+0.5\n",
    "xzmin = xzmin.reset_index()\n",
    "f = interpolate.interp2d(df.values[:,0], df.values[:,1], df.values[:,2], kind='cubic')"
   ]
  },
  {
   "cell_type": "code",
   "execution_count": 146,
   "id": "7166ace5",
   "metadata": {
    "ExecuteTime": {
     "end_time": "2021-06-11T12:50:16.510987Z",
     "start_time": "2021-06-11T12:50:16.503371Z"
    }
   },
   "outputs": [],
   "source": [
    "x = (np.arange(-10, 10, 1) + 0.5) / 20\n",
    "y = (np.arange(-10, 10, 1) + 0.5) / 20\n",
    "xx, yy = np.meshgrid(x, y)\n",
    "image_weights = f(xx.flatten(),yy.flatten())"
   ]
  },
  {
   "cell_type": "code",
   "execution_count": 150,
   "id": "02882d49",
   "metadata": {
    "ExecuteTime": {
     "end_time": "2021-06-11T12:50:56.327242Z",
     "start_time": "2021-06-11T12:50:56.320042Z"
    }
   },
   "outputs": [
    {
     "data": {
      "text/plain": [
       "array([[-0.475, -0.425, -0.375, -0.325, -0.275, -0.225, -0.175, -0.125,\n",
       "        -0.075, -0.025,  0.025,  0.075,  0.125,  0.175,  0.225,  0.275,\n",
       "         0.325,  0.375,  0.425,  0.475],\n",
       "       [-0.475, -0.425, -0.375, -0.325, -0.275, -0.225, -0.175, -0.125,\n",
       "        -0.075, -0.025,  0.025,  0.075,  0.125,  0.175,  0.225,  0.275,\n",
       "         0.325,  0.375,  0.425,  0.475],\n",
       "       [-0.475, -0.425, -0.375, -0.325, -0.275, -0.225, -0.175, -0.125,\n",
       "        -0.075, -0.025,  0.025,  0.075,  0.125,  0.175,  0.225,  0.275,\n",
       "         0.325,  0.375,  0.425,  0.475],\n",
       "       [-0.475, -0.425, -0.375, -0.325, -0.275, -0.225, -0.175, -0.125,\n",
       "        -0.075, -0.025,  0.025,  0.075,  0.125,  0.175,  0.225,  0.275,\n",
       "         0.325,  0.375,  0.425,  0.475],\n",
       "       [-0.475, -0.425, -0.375, -0.325, -0.275, -0.225, -0.175, -0.125,\n",
       "        -0.075, -0.025,  0.025,  0.075,  0.125,  0.175,  0.225,  0.275,\n",
       "         0.325,  0.375,  0.425,  0.475],\n",
       "       [-0.475, -0.425, -0.375, -0.325, -0.275, -0.225, -0.175, -0.125,\n",
       "        -0.075, -0.025,  0.025,  0.075,  0.125,  0.175,  0.225,  0.275,\n",
       "         0.325,  0.375,  0.425,  0.475],\n",
       "       [-0.475, -0.425, -0.375, -0.325, -0.275, -0.225, -0.175, -0.125,\n",
       "        -0.075, -0.025,  0.025,  0.075,  0.125,  0.175,  0.225,  0.275,\n",
       "         0.325,  0.375,  0.425,  0.475],\n",
       "       [-0.475, -0.425, -0.375, -0.325, -0.275, -0.225, -0.175, -0.125,\n",
       "        -0.075, -0.025,  0.025,  0.075,  0.125,  0.175,  0.225,  0.275,\n",
       "         0.325,  0.375,  0.425,  0.475],\n",
       "       [-0.475, -0.425, -0.375, -0.325, -0.275, -0.225, -0.175, -0.125,\n",
       "        -0.075, -0.025,  0.025,  0.075,  0.125,  0.175,  0.225,  0.275,\n",
       "         0.325,  0.375,  0.425,  0.475],\n",
       "       [-0.475, -0.425, -0.375, -0.325, -0.275, -0.225, -0.175, -0.125,\n",
       "        -0.075, -0.025,  0.025,  0.075,  0.125,  0.175,  0.225,  0.275,\n",
       "         0.325,  0.375,  0.425,  0.475],\n",
       "       [-0.475, -0.425, -0.375, -0.325, -0.275, -0.225, -0.175, -0.125,\n",
       "        -0.075, -0.025,  0.025,  0.075,  0.125,  0.175,  0.225,  0.275,\n",
       "         0.325,  0.375,  0.425,  0.475],\n",
       "       [-0.475, -0.425, -0.375, -0.325, -0.275, -0.225, -0.175, -0.125,\n",
       "        -0.075, -0.025,  0.025,  0.075,  0.125,  0.175,  0.225,  0.275,\n",
       "         0.325,  0.375,  0.425,  0.475],\n",
       "       [-0.475, -0.425, -0.375, -0.325, -0.275, -0.225, -0.175, -0.125,\n",
       "        -0.075, -0.025,  0.025,  0.075,  0.125,  0.175,  0.225,  0.275,\n",
       "         0.325,  0.375,  0.425,  0.475],\n",
       "       [-0.475, -0.425, -0.375, -0.325, -0.275, -0.225, -0.175, -0.125,\n",
       "        -0.075, -0.025,  0.025,  0.075,  0.125,  0.175,  0.225,  0.275,\n",
       "         0.325,  0.375,  0.425,  0.475],\n",
       "       [-0.475, -0.425, -0.375, -0.325, -0.275, -0.225, -0.175, -0.125,\n",
       "        -0.075, -0.025,  0.025,  0.075,  0.125,  0.175,  0.225,  0.275,\n",
       "         0.325,  0.375,  0.425,  0.475],\n",
       "       [-0.475, -0.425, -0.375, -0.325, -0.275, -0.225, -0.175, -0.125,\n",
       "        -0.075, -0.025,  0.025,  0.075,  0.125,  0.175,  0.225,  0.275,\n",
       "         0.325,  0.375,  0.425,  0.475],\n",
       "       [-0.475, -0.425, -0.375, -0.325, -0.275, -0.225, -0.175, -0.125,\n",
       "        -0.075, -0.025,  0.025,  0.075,  0.125,  0.175,  0.225,  0.275,\n",
       "         0.325,  0.375,  0.425,  0.475],\n",
       "       [-0.475, -0.425, -0.375, -0.325, -0.275, -0.225, -0.175, -0.125,\n",
       "        -0.075, -0.025,  0.025,  0.075,  0.125,  0.175,  0.225,  0.275,\n",
       "         0.325,  0.375,  0.425,  0.475],\n",
       "       [-0.475, -0.425, -0.375, -0.325, -0.275, -0.225, -0.175, -0.125,\n",
       "        -0.075, -0.025,  0.025,  0.075,  0.125,  0.175,  0.225,  0.275,\n",
       "         0.325,  0.375,  0.425,  0.475],\n",
       "       [-0.475, -0.425, -0.375, -0.325, -0.275, -0.225, -0.175, -0.125,\n",
       "        -0.075, -0.025,  0.025,  0.075,  0.125,  0.175,  0.225,  0.275,\n",
       "         0.325,  0.375,  0.425,  0.475]])"
      ]
     },
     "execution_count": 150,
     "metadata": {},
     "output_type": "execute_result"
    }
   ],
   "source": []
  },
  {
   "cell_type": "code",
   "execution_count": 93,
   "id": "41f90e03",
   "metadata": {
    "ExecuteTime": {
     "end_time": "2021-06-11T11:58:39.964410Z",
     "start_time": "2021-06-11T11:58:39.945149Z"
    }
   },
   "outputs": [
    {
     "data": {
      "text/plain": [
       "array([[ 2.89444932e+00,  2.89444932e+00,  2.89444932e+00,\n",
       "         2.89444932e+00,  2.89444932e+00,  2.89444932e+00,\n",
       "         2.89444932e+00,  2.89444932e+00,  2.89444932e+00,\n",
       "         2.89444932e+00,  1.82709145e+00,  1.59151978e+00,\n",
       "         2.40989396e+00,  2.69742371e+00,  2.63426594e+00,\n",
       "         2.50187619e+00,  2.39570352e+00,  2.32201906e+00,\n",
       "         2.26511196e+00,  2.21247361e+00],\n",
       "       [ 2.89444932e+00,  2.89444932e+00,  2.89444932e+00,\n",
       "         2.89444932e+00,  2.89444932e+00,  2.89444932e+00,\n",
       "         2.89444932e+00,  2.89444932e+00,  2.89444932e+00,\n",
       "         2.89444932e+00,  1.82709145e+00,  1.59151978e+00,\n",
       "         2.40989396e+00,  2.69742371e+00,  2.63426594e+00,\n",
       "         2.50187619e+00,  2.39570352e+00,  2.32201906e+00,\n",
       "         2.26511196e+00,  2.21247361e+00],\n",
       "       [ 2.89444932e+00,  2.89444932e+00,  2.89444932e+00,\n",
       "         2.89444932e+00,  2.89444932e+00,  2.89444932e+00,\n",
       "         2.89444932e+00,  2.89444932e+00,  2.89444932e+00,\n",
       "         2.89444932e+00,  1.82709145e+00,  1.59151978e+00,\n",
       "         2.40989396e+00,  2.69742371e+00,  2.63426594e+00,\n",
       "         2.50187619e+00,  2.39570352e+00,  2.32201906e+00,\n",
       "         2.26511196e+00,  2.21247361e+00],\n",
       "       [ 2.89444932e+00,  2.89444932e+00,  2.89444932e+00,\n",
       "         2.89444932e+00,  2.89444932e+00,  2.89444932e+00,\n",
       "         2.89444932e+00,  2.89444932e+00,  2.89444932e+00,\n",
       "         2.89444932e+00,  1.82709145e+00,  1.59151978e+00,\n",
       "         2.40989396e+00,  2.69742371e+00,  2.63426594e+00,\n",
       "         2.50187619e+00,  2.39570352e+00,  2.32201906e+00,\n",
       "         2.26511196e+00,  2.21247361e+00],\n",
       "       [ 2.89444932e+00,  2.89444932e+00,  2.89444932e+00,\n",
       "         2.89444932e+00,  2.89444932e+00,  2.89444932e+00,\n",
       "         2.89444932e+00,  2.89444932e+00,  2.89444932e+00,\n",
       "         2.89444932e+00,  1.82709145e+00,  1.59151978e+00,\n",
       "         2.40989396e+00,  2.69742371e+00,  2.63426594e+00,\n",
       "         2.50187619e+00,  2.39570352e+00,  2.32201906e+00,\n",
       "         2.26511196e+00,  2.21247361e+00],\n",
       "       [ 2.89444932e+00,  2.89444932e+00,  2.89444932e+00,\n",
       "         2.89444932e+00,  2.89444932e+00,  2.89444932e+00,\n",
       "         2.89444932e+00,  2.89444932e+00,  2.89444932e+00,\n",
       "         2.89444932e+00,  1.82709145e+00,  1.59151978e+00,\n",
       "         2.40989396e+00,  2.69742371e+00,  2.63426594e+00,\n",
       "         2.50187619e+00,  2.39570352e+00,  2.32201906e+00,\n",
       "         2.26511196e+00,  2.21247361e+00],\n",
       "       [ 2.89444932e+00,  2.89444932e+00,  2.89444932e+00,\n",
       "         2.89444932e+00,  2.89444932e+00,  2.89444932e+00,\n",
       "         2.89444932e+00,  2.89444932e+00,  2.89444932e+00,\n",
       "         2.89444932e+00,  1.82709145e+00,  1.59151978e+00,\n",
       "         2.40989396e+00,  2.69742371e+00,  2.63426594e+00,\n",
       "         2.50187619e+00,  2.39570352e+00,  2.32201906e+00,\n",
       "         2.26511196e+00,  2.21247361e+00],\n",
       "       [ 2.89444932e+00,  2.89444932e+00,  2.89444932e+00,\n",
       "         2.89444932e+00,  2.89444932e+00,  2.89444932e+00,\n",
       "         2.89444932e+00,  2.89444932e+00,  2.89444932e+00,\n",
       "         2.89444932e+00,  1.82709145e+00,  1.59151978e+00,\n",
       "         2.40989396e+00,  2.69742371e+00,  2.63426594e+00,\n",
       "         2.50187619e+00,  2.39570352e+00,  2.32201906e+00,\n",
       "         2.26511196e+00,  2.21247361e+00],\n",
       "       [ 2.89444932e+00,  2.89444932e+00,  2.89444932e+00,\n",
       "         2.89444932e+00,  2.89444932e+00,  2.89444932e+00,\n",
       "         2.89444932e+00,  2.89444932e+00,  2.89444932e+00,\n",
       "         2.89444932e+00,  1.82709145e+00,  1.59151978e+00,\n",
       "         2.40989396e+00,  2.69742371e+00,  2.63426594e+00,\n",
       "         2.50187619e+00,  2.39570352e+00,  2.32201906e+00,\n",
       "         2.26511196e+00,  2.21247361e+00],\n",
       "       [ 2.89444932e+00,  2.89444932e+00,  2.89444932e+00,\n",
       "         2.89444932e+00,  2.89444932e+00,  2.89444932e+00,\n",
       "         2.89444932e+00,  2.89444932e+00,  2.89444932e+00,\n",
       "         2.89444932e+00,  1.82709145e+00,  1.59151978e+00,\n",
       "         2.40989396e+00,  2.69742371e+00,  2.63426594e+00,\n",
       "         2.50187619e+00,  2.39570352e+00,  2.32201906e+00,\n",
       "         2.26511196e+00,  2.21247361e+00],\n",
       "       [ 1.67894728e+00,  1.67894728e+00,  1.67894728e+00,\n",
       "         1.67894728e+00,  1.67894728e+00,  1.67894728e+00,\n",
       "         1.67894728e+00,  1.67894728e+00,  1.67894728e+00,\n",
       "         1.67894728e+00, -1.91076592e+12, -1.03947170e+13,\n",
       "        -9.97927985e+12,  9.66051875e+12,  1.05999440e+13,\n",
       "        -1.89083856e+12, -1.39974174e+13, -2.42475307e+13,\n",
       "        -3.42112304e+13, -4.52890483e+13],\n",
       "       [ 1.66539271e+00,  1.66539271e+00,  1.66539271e+00,\n",
       "         1.66539271e+00,  1.66539271e+00,  1.66539271e+00,\n",
       "         1.66539271e+00,  1.66539271e+00,  1.66539271e+00,\n",
       "         1.66539271e+00, -1.98162025e+12, -1.07801402e+13,\n",
       "        -1.03491616e+13,  1.00191500e+13,  1.09933050e+13,\n",
       "        -1.96090359e+12, -1.42503145e+13, -2.30319221e+13,\n",
       "        -2.83591492e+13, -3.04968869e+13],\n",
       "       [ 2.68221064e+00,  2.68221064e+00,  2.68221064e+00,\n",
       "         2.68221064e+00,  2.68221064e+00,  2.68221064e+00,\n",
       "         2.68221064e+00,  2.68221064e+00,  2.68221064e+00,\n",
       "         2.68221064e+00, -4.00890940e+11, -2.18084278e+12,\n",
       "        -2.09351971e+12,  2.02731714e+12,  2.22428922e+12,\n",
       "        -3.96650314e+11, -2.49046456e+12, -1.54147944e+12,\n",
       "         4.76147952e+12,  1.81545727e+13],\n",
       "       [ 2.90817989e+00,  2.90817989e+00,  2.90817989e+00,\n",
       "         2.90817989e+00,  2.90817989e+00,  2.90817989e+00,\n",
       "         2.90817989e+00,  2.90817989e+00,  2.90817989e+00,\n",
       "         2.90817989e+00,  2.56566094e+10,  1.39556460e+11,\n",
       "         1.33898433e+11, -1.29951661e+11, -1.42503835e+11,\n",
       "         2.53596056e+10,  4.33465641e+11,  2.27569885e+12,\n",
       "         7.02546318e+12,  1.59241131e+13],\n",
       "       [ 2.86751412e+00,  2.86751412e+00,  2.86751412e+00,\n",
       "         2.86751412e+00,  2.86751412e+00,  2.86751412e+00,\n",
       "         2.86751412e+00,  2.86751412e+00,  2.86751412e+00,\n",
       "         2.86751412e+00,  1.27062285e+10,  6.90769646e+10,\n",
       "         6.61052025e+10, -6.48594868e+10, -7.09443024e+10,\n",
       "         1.24964904e+10,  1.18752257e+11,  3.64485104e+11,\n",
       "         9.11573864e+11,  2.06481745e+12],\n",
       "       [ 2.86236719e+00,  2.86236719e+00,  2.86236719e+00,\n",
       "         2.86236719e+00,  2.86236719e+00,  2.86236719e+00,\n",
       "         2.86236719e+00,  2.86236719e+00,  2.86236719e+00,\n",
       "         2.86236719e+00,  3.81701378e+09,  2.07336247e+10,\n",
       "         1.97614596e+10, -1.97191167e+10, -2.14854400e+10,\n",
       "         3.72467306e+09, -5.08819093e+10, -5.78368299e+11,\n",
       "        -2.04233109e+12, -4.61162702e+12],\n",
       "       [ 2.88015385e+00,  2.88015385e+00,  2.88015385e+00,\n",
       "         2.88015385e+00,  2.88015385e+00,  2.88015385e+00,\n",
       "         2.88015385e+00,  2.88015385e+00,  2.88015385e+00,\n",
       "         2.88015385e+00, -2.35467311e+08, -1.27720473e+09,\n",
       "        -1.20889903e+09,  1.24110655e+09,  1.34360765e+09,\n",
       "        -2.26705052e+08, -1.02218805e+11, -8.01253546e+11,\n",
       "        -2.69199563e+12, -6.07955264e+12],\n",
       "       [ 2.90654361e+00,  2.90654361e+00,  2.90654361e+00,\n",
       "         2.90654361e+00,  2.90654361e+00,  2.90654361e+00,\n",
       "         2.90654361e+00,  2.90654361e+00,  2.90654361e+00,\n",
       "         2.90654361e+00, -1.13094177e+09, -6.11639277e+09,\n",
       "        -5.70641550e+09,  6.20332035e+09,  6.63212630e+09,\n",
       "        -1.05857581e+09, -8.09520843e+10, -5.91074585e+11,\n",
       "        -1.96188787e+12, -4.42855309e+12],\n",
       "       [ 2.92720596e+00,  2.92720596e+00,  2.92720596e+00,\n",
       "         2.92720596e+00,  2.92720596e+00,  2.92720596e+00,\n",
       "         2.92720596e+00,  2.92720596e+00,  2.92720596e+00,\n",
       "         2.92720596e+00, -5.49136568e+08, -2.94480830e+09,\n",
       "        -2.63163186e+09,  3.34966214e+09,  3.46940169e+09,\n",
       "        -4.71871058e+08, -3.27754015e+10, -2.34735360e+11,\n",
       "        -7.76475956e+11, -1.74822203e+12],\n",
       "       [ 2.92976892e+00,  2.92976892e+00,  2.92976892e+00,\n",
       "         2.92976892e+00,  2.92976892e+00,  2.92976892e+00,\n",
       "         2.92976892e+00,  2.92976892e+00,  2.92976892e+00,\n",
       "         2.92976892e+00, -2.59859061e+07, -1.35879649e+08,\n",
       "        -1.05239247e+08,  2.05316227e+08,  1.98716572e+08,\n",
       "        -1.64892254e+07,  7.47100620e+08,  7.20049828e+09,\n",
       "         2.49237980e+10,  6.42516444e+10]])"
      ]
     },
     "execution_count": 93,
     "metadata": {},
     "output_type": "execute_result"
    }
   ],
   "source": [
    "ax = plt.axes(projection='3d')\n",
    "ax.scatter3D(df.values[:,0], df.values[:,1], df.values[:,2], c= df.values[:,2], cmap='Greens');"
   ]
  },
  {
   "cell_type": "code",
   "execution_count": 89,
   "id": "85a50829",
   "metadata": {
    "ExecuteTime": {
     "end_time": "2021-06-11T11:58:13.165458Z",
     "start_time": "2021-06-11T11:58:13.156922Z"
    }
   },
   "outputs": [
    {
     "data": {
      "text/plain": [
       "array([-0.484375, -0.453125, -0.421875, -0.390625, -0.359375, -0.328125,\n",
       "       -0.296875, -0.265625, -0.234375, -0.203125, -0.171875, -0.140625,\n",
       "       -0.109375, -0.078125, -0.046875, -0.015625,  0.015625,  0.046875,\n",
       "        0.078125,  0.109375,  0.140625,  0.171875,  0.203125,  0.234375,\n",
       "        0.265625,  0.296875,  0.328125,  0.359375,  0.390625,  0.421875,\n",
       "        0.453125,  0.484375])"
      ]
     },
     "execution_count": 89,
     "metadata": {},
     "output_type": "execute_result"
    }
   ],
   "source": [
    "x"
   ]
  }
 ],
 "metadata": {
  "kernelspec": {
   "display_name": "Python 3",
   "language": "python",
   "name": "python3"
  },
  "language_info": {
   "codemirror_mode": {
    "name": "ipython",
    "version": 3
   },
   "file_extension": ".py",
   "mimetype": "text/x-python",
   "name": "python",
   "nbconvert_exporter": "python",
   "pygments_lexer": "ipython3",
   "version": "3.9.4"
  }
 },
 "nbformat": 4,
 "nbformat_minor": 5
}
