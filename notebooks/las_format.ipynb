{
 "cells": [
  {
   "cell_type": "code",
   "execution_count": 43,
   "id": "4fc3aed5",
   "metadata": {
    "ExecuteTime": {
     "end_time": "2021-06-24T10:19:01.763844Z",
     "start_time": "2021-06-24T10:19:01.754787Z"
    }
   },
   "outputs": [
    {
     "name": "stdout",
     "output_type": "stream",
     "text": [
      "False\n",
      "Everything is imported\n",
      "False\n"
     ]
    }
   ],
   "source": [
    "import warnings\n",
    "\n",
    "warnings.simplefilter(action=\"ignore\")\n",
    "\n",
    "import functools\n",
    "import numpy as np\n",
    "import pandas as pd\n",
    "\n",
    "from sklearn.model_selection import KFold\n",
    "import os\n",
    "import time\n",
    "import torch\n",
    "import torchnet as tnt\n",
    "\n",
    "import torch.nn as nn\n",
    "\n",
    "import matplotlib\n",
    "\n",
    "# Weird behavior: loading twice in cell appears to remove an elsewise occuring error.\n",
    "for i in range(2):\n",
    "    try:\n",
    "        matplotlib.use(\"TkAgg\")  # rerun this cell if an error occurs.\n",
    "    except:\n",
    "        print(\"!\")\n",
    "\n",
    "print(torch.cuda.is_available())\n",
    "np.random.seed(42)\n",
    "torch.cuda.empty_cache()\n",
    "\n",
    "# We import from other files\n",
    "\n",
    "import sys\n",
    "sys.path.append(\"/home/CGaydon/Documents/LIDAR PAC/plot_vegetation_coverage/\")\n",
    "\n",
    "from config import args\n",
    "from utils.useful_functions import *\n",
    "from data_loader.loader import *\n",
    "from utils.load_las_data import load_all_las_from_folder, open_metadata_dataframe\n",
    "from model.loss_functions import *\n",
    "from model.accuracy import *\n",
    "from em_gamma.get_gamma_parameters_em import *\n",
    "from model.train import train_full\n",
    "import laspy\n",
    "print(\"Everything is imported\")\n",
    "\n",
    "\n",
    "print(torch.cuda.is_available())\n",
    "np.random.seed(42)\n",
    "torch.cuda.empty_cache()"
   ]
  },
  {
   "cell_type": "code",
   "execution_count": 44,
   "id": "a3846a62",
   "metadata": {
    "ExecuteTime": {
     "end_time": "2021-06-24T10:19:01.900553Z",
     "start_time": "2021-06-24T10:19:01.891255Z"
    }
   },
   "outputs": [],
   "source": [
    "from laspy.file import File\n",
    "\n",
    "# Parse LAS files\n",
    "las = File('/home/CGaydon/Documents/LIDAR PAC/plot_vegetation_coverage/data/placettes_dataset/las_classes/2021_POINT_OBS98.las', mode=\"r\")\n",
    "x_las = las.X / 100  # we divide by 100 as all the values in las are in cm\n",
    "y_las = las.Y / 100\n",
    "z_las = las.Z / 100\n",
    "r = las.Red\n",
    "g = las.Green\n",
    "b = las.Blue\n",
    "nir = las.nir\n",
    "intensity = las.intensity\n",
    "return_nb = las.return_num\n",
    "points_nparray = np.asarray(\n",
    "    [x_las, y_las, z_las, r, g, b, nir, intensity, return_nb]\n",
    ").T"
   ]
  },
  {
   "cell_type": "code",
   "execution_count": 45,
   "id": "5171baa4",
   "metadata": {
    "ExecuteTime": {
     "end_time": "2021-06-24T10:19:02.023724Z",
     "start_time": "2021-06-24T10:19:02.017992Z"
    }
   },
   "outputs": [
    {
     "data": {
      "text/plain": [
       "3206"
      ]
     },
     "execution_count": 45,
     "metadata": {},
     "output_type": "execute_result"
    }
   ],
   "source": [
    "(las.num_returns >= las.return_num).sum()"
   ]
  },
  {
   "cell_type": "code",
   "execution_count": 66,
   "id": "8e652e9e",
   "metadata": {
    "ExecuteTime": {
     "end_time": "2021-06-24T10:22:42.815366Z",
     "start_time": "2021-06-24T10:22:42.809470Z"
    }
   },
   "outputs": [
    {
     "data": {
      "text/plain": [
       "'point format = 8'"
      ]
     },
     "execution_count": 66,
     "metadata": {},
     "output_type": "execute_result"
    }
   ],
   "source": [
    "las.point_format.format_type"
   ]
  },
  {
   "cell_type": "code",
   "execution_count": 47,
   "id": "170a44fd",
   "metadata": {
    "ExecuteTime": {
     "end_time": "2021-06-24T10:19:02.297026Z",
     "start_time": "2021-06-24T10:19:02.291334Z"
    }
   },
   "outputs": [
    {
     "data": {
      "text/plain": [
       "array([1, 1, 1, ..., 2, 1, 1], dtype=uint8)"
      ]
     },
     "execution_count": 47,
     "metadata": {},
     "output_type": "execute_result"
    }
   ],
   "source": [
    "las.return_num"
   ]
  },
  {
   "cell_type": "code",
   "execution_count": 80,
   "id": "9a466f59",
   "metadata": {
    "ExecuteTime": {
     "end_time": "2021-06-24T10:37:57.065896Z",
     "start_time": "2021-06-24T10:37:57.059719Z"
    }
   },
   "outputs": [
    {
     "data": {
      "text/plain": [
       "array([[       nan,        nan, 0.07404465, 0.35846573, 0.11586906],\n",
       "       [       nan,        nan, 0.33089802, 0.06355835, 0.31098232],\n",
       "       [0.32518332, 0.72960618, 0.63755747, 0.88721274, 0.47221493],\n",
       "       [0.11959425, 0.71324479, 0.76078505, 0.5612772 , 0.77096718],\n",
       "       [0.4937956 , 0.52273283, 0.42754102, 0.02541913, 0.10789143]])"
      ]
     },
     "execution_count": 80,
     "metadata": {},
     "output_type": "execute_result"
    }
   ],
   "source": [
    "a = np.random.random((5,5))\n",
    "a[:2,:2] = np.nan\n",
    "a"
   ]
  },
  {
   "cell_type": "code",
   "execution_count": 79,
   "id": "7f36b40a",
   "metadata": {
    "ExecuteTime": {
     "end_time": "2021-06-24T10:37:51.617220Z",
     "start_time": "2021-06-24T10:37:51.610525Z"
    }
   },
   "outputs": [
    {
     "data": {
      "text/plain": [
       "array([[ True,  True, False, False, False],\n",
       "       [ True,  True, False, False, False],\n",
       "       [False, False, False, False, False],\n",
       "       [False, False, False, False, False],\n",
       "       [False, False, False, False, False]])"
      ]
     },
     "execution_count": 79,
     "metadata": {},
     "output_type": "execute_result"
    }
   ],
   "source": [
    "anan = np.isnan(a)\n",
    "anan"
   ]
  },
  {
   "cell_type": "code",
   "execution_count": 97,
   "id": "b0851dfe",
   "metadata": {
    "ExecuteTime": {
     "end_time": "2021-06-24T10:40:48.764616Z",
     "start_time": "2021-06-24T10:40:48.750471Z"
    }
   },
   "outputs": [
    {
     "data": {
      "text/plain": [
       "array([[       nan,        nan, 0.07404465, 0.35846573, 0.11586906],\n",
       "       [       nan,        nan, 0.33089802, 0.06355835, 0.31098232],\n",
       "       [0.32518332, 1.        , 1.        , 1.        , 0.47221493],\n",
       "       [0.11959425, 1.        , 1.        , 1.        , 1.        ],\n",
       "       [0.4937956 , 1.        , 0.42754102, 0.02541913, 0.10789143]])"
      ]
     },
     "execution_count": 97,
     "metadata": {},
     "output_type": "execute_result"
    }
   ],
   "source": [
    "import numpy.ma as ma \n",
    "amask = ma.masked_invalid(a)\n",
    "a[amask>0.5] = 1\n",
    "a"
   ]
  }
 ],
 "metadata": {
  "kernelspec": {
   "display_name": "Python 3",
   "language": "python",
   "name": "python3"
  },
  "language_info": {
   "codemirror_mode": {
    "name": "ipython",
    "version": 3
   },
   "file_extension": ".py",
   "mimetype": "text/x-python",
   "name": "python",
   "nbconvert_exporter": "python",
   "pygments_lexer": "ipython3",
   "version": "3.9.4"
  }
 },
 "nbformat": 4,
 "nbformat_minor": 5
}
