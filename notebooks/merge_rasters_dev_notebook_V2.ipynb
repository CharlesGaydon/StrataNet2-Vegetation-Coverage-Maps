{
 "cells": [
  {
   "cell_type": "markdown",
   "id": "c880efff",
   "metadata": {},
   "source": [
    "# Useful to test syntaxes, data, structure before adding them to scripts"
   ]
  },
  {
   "cell_type": "code",
   "execution_count": 21,
   "id": "775e98cf",
   "metadata": {
    "ExecuteTime": {
     "end_time": "2021-06-21T13:57:47.226473Z",
     "start_time": "2021-06-21T13:57:46.974854Z"
    },
    "init_cell": true
   },
   "outputs": [
    {
     "name": "stdout",
     "output_type": "stream",
     "text": [
      "False\n",
      "Everything is imported\n"
     ]
    }
   ],
   "source": [
    "import warnings\n",
    "warnings.simplefilter(action='ignore')\n",
    "\n",
    "import functools\n",
    "import argparse\n",
    "import numpy as np\n",
    "import pandas as pd\n",
    "\n",
    "from sklearn.model_selection import KFold\n",
    "from torch.utils.tensorboard import SummaryWriter\n",
    "from scipy.stats import gamma\n",
    "import os\n",
    "import time\n",
    "import torch\n",
    "import torch.optim as optim\n",
    "from torch.optim.lr_scheduler import StepLR\n",
    "import torchnet as tnt\n",
    "from sklearn.neighbors import NearestNeighbors\n",
    "import gc\n",
    "\n",
    "import torch.nn as nn\n",
    "from scipy.special import digamma, polygamma\n",
    "\n",
    "import matplotlib\n",
    "# Weird behavior: loading twice in cell appears to remove an elsewise occuring error.\n",
    "for i in range(2):\n",
    "    try:\n",
    "        matplotlib.use('TkAgg')  # rerun this cell if an error occurs.\n",
    "    except:\n",
    "        print(\"!\")\n",
    "import matplotlib.pyplot as plt\n",
    "\n",
    "\n",
    "import pickle\n",
    "from torch_scatter import scatter_max, scatter_mean\n",
    "\n",
    "print(torch.cuda.is_available())\n",
    "np.random.seed(42)\n",
    "torch.cuda.empty_cache()\n",
    "print(\"Everything is imported\")"
   ]
  },
  {
   "cell_type": "code",
   "execution_count": 22,
   "id": "3e68f216",
   "metadata": {
    "ExecuteTime": {
     "end_time": "2021-06-21T13:57:47.323004Z",
     "start_time": "2021-06-21T13:57:47.230295Z"
    },
    "init_cell": true
   },
   "outputs": [],
   "source": [
    "%matplotlib inline\n",
    "import matplotlib.colors as clr"
   ]
  },
  {
   "cell_type": "code",
   "execution_count": 5,
   "id": "89ed9153",
   "metadata": {
    "ExecuteTime": {
     "end_time": "2021-06-21T09:43:48.171470Z",
     "start_time": "2021-06-21T09:43:47.691469Z"
    }
   },
   "outputs": [
    {
     "name": "stdout",
     "output_type": "stream",
     "text": [
      "Dataset folder in use: /home/CGaydon/Documents/LIDAR PAC/plot_vegetation_coverage/data/\n",
      "Arguments were imported in PROD mode\n"
     ]
    }
   ],
   "source": [
    "from osgeo import gdal\n",
    "import sys\n",
    "import os\n",
    "sys.path.append(\"/home/CGaydon/Documents/LIDAR PAC/plot_vegetation_coverage/\")\n",
    "from config import args\n",
    "from utils.useful_functions import create_new_experiment_folder, print_stats"
   ]
  },
  {
   "cell_type": "code",
   "execution_count": 6,
   "id": "d3244dfb",
   "metadata": {
    "ExecuteTime": {
     "end_time": "2021-06-21T09:45:56.069297Z",
     "start_time": "2021-06-21T09:45:56.066814Z"
    }
   },
   "outputs": [],
   "source": [
    "# work with previous inference results\n",
    "args.stats_path = \"/home/CGaydon/Documents/LIDAR PAC/plot_vegetation_coverage/experiments/RESULTS_3_strata/only_stratum/DEV/inference/2021-06-08_17h51m52s/\"\n",
    "tiff_folder_path = os.path.join(args.stats_path, \"img/rasters/004000715-5-18/\")\n",
    "input_file_list = os.path.join(tiff_folder_path, \"rasters_paths.txt\")"
   ]
  },
  {
   "cell_type": "code",
   "execution_count": null,
   "id": "41f35fd6",
   "metadata": {},
   "outputs": [],
   "source": []
  },
  {
   "cell_type": "code",
   "execution_count": null,
   "id": "61d05522",
   "metadata": {},
   "outputs": [],
   "source": []
  },
  {
   "cell_type": "code",
   "execution_count": null,
   "id": "6371fb86",
   "metadata": {},
   "outputs": [],
   "source": []
  },
  {
   "cell_type": "markdown",
   "id": "469a9c17",
   "metadata": {},
   "source": [
    "# Create fake TIF and merge them with all options and NODATA"
   ]
  },
  {
   "cell_type": "code",
   "execution_count": 88,
   "id": "c9c3b405",
   "metadata": {
    "ExecuteTime": {
     "end_time": "2021-06-21T11:39:39.896222Z",
     "start_time": "2021-06-21T11:39:39.875194Z"
    }
   },
   "outputs": [
    {
     "name": "stdout",
     "output_type": "stream",
     "text": [
      "0\n",
      "1\n"
     ]
    }
   ],
   "source": [
    "from osgeo import osr\n",
    "from osgeo import gdal\n",
    "\n",
    "nb_channels_scores = 3\n",
    "nb_channels = 2 * nb_channels_scores  # one for scores doubled with weights \n",
    "a = np.clip(np.random.random((nb_channels, 32, 32))+0.4, 0,1)\n",
    "a[nb_channels_scores:] = 1\n",
    "b = np.random.random((nb_channels, 32, 32))\n",
    "b[nb_channels_scores:] = 1\n",
    "\n",
    "# We set Lambert 93 projection\n",
    "srs = osr.SpatialReference()\n",
    "srs.ImportFromEPSG(2154)\n",
    "proj = srs.ExportToWkt()\n",
    "geotransformation = [\n",
    "    [\n",
    "        924462.2800000001,  # x coordinate upper_left of upper_left pixel\n",
    "        0.6199999999989814,  # pixel width - not 0.625 ?? -> calculated with min/max of points !\n",
    "        0,  # rotation\n",
    "        6323318.64,  # same for y\n",
    "        0,\n",
    "        -0.6224999999976717,  # pixel height - can be negative to reverse !\n",
    "    ],\n",
    "    [\n",
    "        924462.2800000001+8,  # x coordinate upper_left of upper_left pixel\n",
    "        0.6199999999989814,  # pixel width - not 0.625 ?? -> calculated with min/max of points !\n",
    "        0,  # rotation\n",
    "        6323318.64+8,  # same for y\n",
    "        0,\n",
    "        -0.6224999999976717,  # pixel height - can be negative to reverse !\n",
    "    ],\n",
    "]  # from vscode\n",
    "\n",
    "NODATAVALUE = np.nan\n",
    "\n",
    "b[:,:,:3] = NODATAVALUE\n",
    "a[:,-3:,:] = NODATAVALUE\n",
    "\n",
    "for idx, data_array in enumerate([a, b]):\n",
    "    print(idx)\n",
    "    srs = osr.SpatialReference()\n",
    "    srs.ImportFromEPSG(2154)\n",
    "    proj = srs.ExportToWkt()\n",
    "\n",
    "    driver_tiff = gdal.GetDriverByName(\"GTiff\")\n",
    "    dst_ds = driver_tiff.Create(\n",
    "        f\"./temp_tif_merge_rasterio/test_{idx}.tif\", 32, 32, nb_channels, gdal.GDT_Float32\n",
    "    )\n",
    "    dst_ds.SetGeoTransform(geotransformation[idx])\n",
    "    dst_ds.SetProjection(proj)\n",
    "\n",
    "    if nb_channels == 1:\n",
    "        outband = dst_ds.GetRasterBand(1)\n",
    "        outband.WriteArray(data_array)\n",
    "        outband.SetNoDataValue(NODATAVALUE)\n",
    "        outband = None\n",
    "    else:\n",
    "        for ch in range(nb_channels):\n",
    "            outband = dst_ds.GetRasterBand(ch + 1)\n",
    "            outband.WriteArray(data_array[ch])\n",
    "            outband.SetNoDataValue(NODATAVALUE)\n",
    "            outband = None\n",
    "\n",
    "    dst_ds.FlushCache()  # write to file\n",
    "    dst_ds = None"
   ]
  },
  {
   "cell_type": "code",
   "execution_count": 14,
   "id": "1002f64b",
   "metadata": {
    "ExecuteTime": {
     "end_time": "2021-06-21T12:18:09.597282Z",
     "start_time": "2021-06-21T12:18:09.088391Z"
    }
   },
   "outputs": [
    {
     "data": {
      "image/png": "[encoded data removed]",
      "text/plain": [
       "<Figure size 432x288 with 1 Axes>"
      ]
     },
     "metadata": {
      "needs_background": "light"
     },
     "output_type": "display_data"
    },
    {
     "data": {
      "text/plain": [
       "<AxesSubplot:>"
      ]
     },
     "execution_count": 14,
     "metadata": {},
     "output_type": "execute_result"
    }
   ],
   "source": [
    "# test merge with rasterio\n",
    "import rasterio\n",
    "import glob\n",
    "from rasterio.merge import merge\n",
    "from rasterio.plot import show\n",
    "\n",
    "# https://automating-gis-processes.github.io/CSC18/lessons/L6/raster-mosaic.html\n",
    "# merge :; https://rasterio.readthedocs.io/en/latest/api/rasterio.merge.html\n",
    "\n",
    "\n",
    "def weighted_sum(\n",
    "    old_data, new_data, old_nodata, new_nodata, index=None, roff=None, coff=None\n",
    "):\n",
    "    \"\"\"\n",
    "    Input data is composed of rasters with C * 2 bands, where C is the number of score.\n",
    "    A weighted sum is performed on both scores bands [0:C] and weights [C:] using weights.\n",
    "    One then needs to divide scores by the values of weights.\n",
    "    \"\"\"\n",
    "\n",
    "    weights_sum = np.zeros_like(old_data)\n",
    "    n_score_channels = int(len(old_data) / 2)\n",
    "    for band_idx in range(n_score_channels):  # for each score band\n",
    "        w_idx = n_score_channels + band_idx\n",
    "        # scale the score with weights, ignoring nodata in scores\n",
    "        old_data[band_idx] = (\n",
    "            old_data[band_idx] * old_data[w_idx] * (1 - old_nodata[band_idx])  # contrib is zero if nodata\n",
    "        )\n",
    "        new_data[band_idx] = (\n",
    "            new_data[band_idx] * new_data[w_idx] * (1 - new_nodata[band_idx])  # contrib is zero if nodata\n",
    "        )\n",
    "        \n",
    "        # scale the weights with themselves, ignoring nodata in scores\n",
    "        w_idx = n_score_channels + band_idx \n",
    "        old_data[w_idx] = old_data[w_idx] * (1 - old_nodata[band_idx])  # contrib is zero if nodata\n",
    "        new_data[w_idx] = new_data[w_idx] * (1 - new_nodata[band_idx])  # contrib is zero if nodata\n",
    "        \n",
    "    # set back to NoDataValue\n",
    "    old_data[old_nodata] = np.nan\n",
    "    new_data[new_nodata] = np.nan\n",
    "        \n",
    "    \n",
    "    # sum everything\n",
    "    out_data = np.nansum(\n",
    "        [old_data, new_data], axis=0\n",
    "    )  # nansum the two rasters -> (2*C,32,32) output\n",
    "#     data_sum[np.isnan(data_sum)] = NODATAVALUE\n",
    "\n",
    "    # we have to update the content of the input argument\n",
    "    old_data[:] = out_data[:]  \n",
    "\n",
    "\n",
    "\n",
    "a0 = f\"./temp_tif_merge_rasterio/test_0.tif\"\n",
    "a1 = f\"./temp_tif_merge_rasterio/test_1.tif\"\n",
    "dem_fps = [a0, a1]\n",
    "src_files_to_mosaic = []\n",
    "for fp in dem_fps:\n",
    "    src = rasterio.open(fp)\n",
    "    src_files_to_mosaic.append(src)\n",
    "\n",
    "mosaic, out_trans = merge(src_files_to_mosaic, method=weighted_sum)\n",
    "\n",
    "# average using weights\n",
    "mosaic[:3] = mosaic[:3] / mosaic[3:]\n",
    "\n",
    "show(mosaic[:3,:,:])"
   ]
  },
  {
   "cell_type": "code",
   "execution_count": 20,
   "id": "dcec9634",
   "metadata": {
    "ExecuteTime": {
     "end_time": "2021-06-21T13:46:02.867718Z",
     "start_time": "2021-06-21T13:46:02.860637Z"
    }
   },
   "outputs": [
    {
     "data": {
      "text/plain": [
       "array([ 4.67860930e-310,  0.00000000e+000,  1.90032054e-165,\n",
       "        3.78954807e-270,  7.01994014e-067, -1.05819076e+178,\n",
       "        1.69326792e+001, -1.02655089e+155,  4.02434397e-226,\n",
       "        8.54601156e-227,  1.18208647e-124,  7.07948134e-067,\n",
       "        6.55882338e+287,  1.06933812e-295, -3.30290519e-219,\n",
       "        8.24355457e+176, -4.28534641e+303, -4.68928047e+057])"
      ]
     },
     "execution_count": 20,
     "metadata": {},
     "output_type": "execute_result"
    }
   ],
   "source": [
    "np.empty(18)"
   ]
  },
  {
   "cell_type": "code",
   "execution_count": 15,
   "id": "7a207588",
   "metadata": {
    "ExecuteTime": {
     "end_time": "2021-06-21T12:20:15.875692Z",
     "start_time": "2021-06-21T12:20:15.866150Z"
    }
   },
   "outputs": [
    {
     "data": {
      "text/plain": [
       "Affine(0.6199999999989814, 0.0, 924462.2800000001,\n",
       "       0.0, -0.6224999999976717, 6323326.64)"
      ]
     },
     "execution_count": 15,
     "metadata": {},
     "output_type": "execute_result"
    }
   ],
   "source": [
    "out_trans"
   ]
  },
  {
   "cell_type": "code",
   "execution_count": 18,
   "id": "2ffc5353",
   "metadata": {
    "ExecuteTime": {
     "end_time": "2021-06-21T09:55:48.758443Z",
     "start_time": "2021-06-21T09:55:48.753920Z"
    }
   },
   "outputs": [],
   "source": [
    "?np.concatenate"
   ]
  },
  {
   "cell_type": "code",
   "execution_count": 99,
   "id": "2501ad49",
   "metadata": {
    "ExecuteTime": {
     "end_time": "2021-06-21T11:41:39.308829Z",
     "start_time": "2021-06-21T11:41:39.237024Z"
    }
   },
   "outputs": [],
   "source": [
    "# save to\n",
    "out_fp = \"./temp_tif_merge_rasterio/merged.tif\"\n",
    "\n",
    "\n",
    "# Copy the metadata\n",
    "out_meta = src.meta.copy()\n",
    "\n",
    "# Update the metadata\n",
    "out_meta.update(\n",
    "    {\n",
    "        \"driver\": \"GTiff\",\n",
    "        \"height\": mosaic.shape[1],\n",
    "        \"width\": mosaic.shape[2],\n",
    "        \"transform\": out_trans,\n",
    "        #         \"crs\": \"+proj=utm +zone=35 +ellps=GRS80 +units=m +no_defs \",\n",
    "    }\n",
    ")\n",
    "with rasterio.open(out_fp, \"w\", **out_meta) as dest:\n",
    "    dest.write(mosaic)"
   ]
  },
  {
   "cell_type": "code",
   "execution_count": 98,
   "id": "36b39dfb",
   "metadata": {
    "ExecuteTime": {
     "end_time": "2021-06-21T11:40:50.389851Z",
     "start_time": "2021-06-21T11:40:50.379894Z"
    }
   },
   "outputs": [
    {
     "data": {
      "text/plain": [
       "{'driver': 'GTiff',\n",
       " 'dtype': 'float32',\n",
       " 'nodata': nan,\n",
       " 'width': 45,\n",
       " 'height': 45,\n",
       " 'count': 6,\n",
       " 'crs': CRS.from_epsg(2154),\n",
       " 'transform': Affine(0.6199999999989814, 0.0, 924462.2800000001,\n",
       "        0.0, -0.6224999999976717, 6323326.64)}"
      ]
     },
     "execution_count": 98,
     "metadata": {},
     "output_type": "execute_result"
    }
   ],
   "source": [
    "out_meta"
   ]
  }
 ],
 "metadata": {
  "celltoolbar": "Initialization Cell",
  "kernelspec": {
   "display_name": "Python 3",
   "language": "python",
   "name": "python3"
  },
  "language_info": {
   "codemirror_mode": {
    "name": "ipython",
    "version": 3
   },
   "file_extension": ".py",
   "mimetype": "text/x-python",
   "name": "python",
   "nbconvert_exporter": "python",
   "pygments_lexer": "ipython3",
   "version": "3.9.4"
  }
 },
 "nbformat": 4,
 "nbformat_minor": 5
}
