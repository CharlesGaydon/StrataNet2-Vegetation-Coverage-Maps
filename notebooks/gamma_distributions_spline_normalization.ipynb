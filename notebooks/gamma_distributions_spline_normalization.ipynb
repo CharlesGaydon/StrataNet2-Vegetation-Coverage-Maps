{
 "cells": [
  {
   "cell_type": "code",
   "execution_count": 12,
   "id": "931f8404",
   "metadata": {
    "ExecuteTime": {
     "end_time": "2021-07-05T13:38:33.554685Z",
     "start_time": "2021-07-05T13:38:32.505719Z"
    },
    "init_cell": true
   },
   "outputs": [],
   "source": [
    "import matplotlib.pyplot as plt\n",
    "import numpy as np\n",
    "from random import random, shuffle\n",
    "\n",
    "from scipy.integrate import simps\n",
    "import pandas as pd\n",
    "import sys\n",
    "import math\n",
    "from mpl_toolkits import mplot3d\n",
    "%matplotlib inline\n",
    "import numpy as np\n",
    "import matplotlib.pyplot as plt\n",
    "from scipy import interpolate\n",
    "import seaborn as sns\n",
    "\n",
    "sys.path.append(\"..\")\n",
    "from utils.load_las_data import normalize_z_with_minz_in_a_radius\n",
    "\n",
    "from config import args\n",
    "from utils.load_las_data import *\n",
    "from utils.useful_functions import *\n",
    "import os\n",
    "import numpy as np; np. set_printoptions(suppress=True);  # display values without scientific notation\n",
    "import pandas as pd\n",
    "from laspy.file import File\n",
    "from sklearn.neighbors import NearestNeighbors\n",
    "import warnings\n",
    "import random"
   ]
  },
  {
   "cell_type": "code",
   "execution_count": 13,
   "id": "0ba9e2ae",
   "metadata": {
    "ExecuteTime": {
     "end_time": "2021-07-05T13:38:33.565226Z",
     "start_time": "2021-07-05T13:38:33.555975Z"
    },
    "init_cell": true
   },
   "outputs": [],
   "source": [
    "def load_and_clean_single_las(las_filename):\n",
    "    \"\"\"Load a LAD file into a np.array, convert coordinates to meters, clean a few anomalies in plots.\"\"\"\n",
    "    # Parse LAS files\n",
    "    las = File(las_filename, mode=\"r\")\n",
    "    x_las = las.X / 100  # we divide by 100 as all the values in las are in cm\n",
    "    y_las = las.Y / 100\n",
    "    z_las = las.Z / 100\n",
    "    r = las.Red\n",
    "    g = las.Green\n",
    "    b = las.Blue\n",
    "    nir = las.nir\n",
    "    intensity = las.intensity\n",
    "    return_num = las.return_num\n",
    "    num_returns = las.num_returns\n",
    "    points_nparray = np.asarray(\n",
    "        [x_las, y_las, z_las, r, g, b, nir, intensity, return_num, num_returns]\n",
    "    ).T\n",
    "\n",
    "    # There is a file with 2 points 60m above others (maybe birds), we delete these points\n",
    "    if las_filename.endswith(\"Releve_Lidar_F70.las\"):\n",
    "        points_nparray = points_nparray[points_nparray[:, 2] < 640]\n",
    "    # We do the same for the intensity\n",
    "    if las_filename.endswith(\"POINT_OBS8.las\"):\n",
    "        points_nparray = points_nparray[points_nparray[:, -2] < 32768]\n",
    "    if las_filename.endswith(\"Releve_Lidar_F39.las\"):\n",
    "        points_nparray = points_nparray[points_nparray[:, -2] < 20000]\n",
    "\n",
    "    # get the center of a rectangle bounding the points\n",
    "    xy_centers = [\n",
    "        (x_las.max() - x_las.min()) / 2.0,\n",
    "        (y_las.max() - y_las.min()) / 2.0,\n",
    "    ]\n",
    "    return points_nparray, xy_centers\n",
    "\n",
    "\n",
    "def load_my_norm_data(args):\n",
    "\n",
    "    # We open las files and create a training dataset\n",
    "    nparray_clouds_dict = {}  # dict to store numpy array with each plot separately\n",
    "    xy_centers_dict = (\n",
    "        {}\n",
    "    )  # we keep track of plots means to reverse the normalisation in the future\n",
    "\n",
    "    # We iterate through las files and transform them to np array\n",
    "    las_filenames = get_files_of_type_in_folder(args.las_placettes_folder_path, \".las\")\n",
    "\n",
    "    all_points_nparray = np.empty((0, len(args.input_feats) - 1))\n",
    "    for las_filename in las_filenames:\n",
    "        # Parse LAS files\n",
    "        points_nparray, xy_centers = load_and_clean_single_las(las_filename)\n",
    "        points_nparray = normalize_z_with_smooth_spline(\n",
    "            points_nparray, xy_centers, args\n",
    "        )\n",
    "        #         points_nparray = transform_features_of_plot_cloud(\n",
    "        #             points_nparray, args\n",
    "        #         )\n",
    "        all_points_nparray = np.append(all_points_nparray, points_nparray, axis=0)\n",
    "        plot_name = get_filename_no_extension(las_filename)\n",
    "        nparray_clouds_dict[plot_name] = points_nparray\n",
    "        xy_centers_dict[plot_name] = xy_centers\n",
    "\n",
    "    return all_points_nparray, nparray_clouds_dict, xy_centers_dict\n",
    "\n",
    "\n",
    "def select_my_clouds():\n",
    "    # F49 = nparray_clouds_dict[\"Releve_Lidar_F49\"][:,:3]\n",
    "    # F68 = nparray_clouds_dict[\"Releve_Lidar_F68\"][:,:3]  # Vm everywhere\n",
    "    # OBS_2021_6 = nparray_clouds_dict[\"2021_POINT_OBS6\"][:,:3]  # \"hyper flag en termes de MNT\"\n",
    "    # F20 = nparray_clouds_dict[\"Releve_Lidar_F20\"][:,:3]  # \"hyper flag en termes de MNT\"\n",
    "\n",
    "    plots_of_interest = [\n",
    "        \"Releve_Lidar_F69\",\n",
    "        \"2021_POINT_OBS9\",  # grass 100%, high slope: 0-3m to 0-0.4cm slope with 1.5\n",
    "        \"Releve_Lidar_F49\",  # loads of high vegetation. Ok with 1.5m\n",
    "        \"Releve_Lidar_F68\",  # dense bushes. Ok with 1.5 : adds contrast.\n",
    "        \"2021_POINT_OBS6\",  # 75% grass (subestimation of model). might add contrats linked to grass\n",
    "        \"Releve_Lidar_F20\",  # 75% grass, 25% mid veg. ok,\n",
    "        \"2021_POINT_OBS59\",\n",
    "    ]\n",
    "    # focus on medium veg\n",
    "    plots_of_interest = plots_of_interest + []\n",
    "    selection = {\n",
    "        key: value\n",
    "        for key, value in nparray_clouds_dict.items()\n",
    "        if key in plots_of_interest\n",
    "    }\n",
    "    return selection"
   ]
  },
  {
   "cell_type": "code",
   "execution_count": 3,
   "id": "057daed2",
   "metadata": {
    "ExecuteTime": {
     "end_time": "2021-07-05T13:28:18.677541Z",
     "start_time": "2021-07-05T13:27:57.524735Z"
    }
   },
   "outputs": [],
   "source": [
    "all_points_nparray, nparray_clouds_dict, xy_centers_dict = load_my_norm_data(args)\n",
    "selection = select_my_clouds()"
   ]
  },
  {
   "cell_type": "code",
   "execution_count": 25,
   "id": "a439b8b8",
   "metadata": {
    "ExecuteTime": {
     "end_time": "2021-07-05T13:41:44.766626Z",
     "start_time": "2021-07-05T13:41:44.548273Z"
    }
   },
   "outputs": [
    {
     "data": {
      "text/plain": [
       "<Figure size 432x288 with 0 Axes>"
      ]
     },
     "metadata": {},
     "output_type": "display_data"
    },
    {
     "data": {
      "image/png": "[encoded data removed]",
      "text/plain": [
       "<Figure size 360x360 with 1 Axes>"
      ]
     },
     "metadata": {
      "needs_background": "light"
     },
     "output_type": "display_data"
    }
   ],
   "source": [
    "sigma, clip = 0.01, 0.03\n",
    "plt.figure()\n",
    "v1 = np.clip(\n",
    "    sigma * np.random.randn(2,1000),\n",
    "    a_min=-clip,\n",
    "    a_max=clip,\n",
    ").astype(np.float32) * 25\n",
    "v2 = np.clip(\n",
    "    sigma * np.random.randn(2,1000),\n",
    "    a_min=-clip,\n",
    "    a_max=clip,\n",
    ").astype(np.float32) * 25\n",
    "sns.displot(np.sqrt((v1-v2)*(v1-v2)).sum(axis=0))\n",
    "plt.show()"
   ]
  },
  {
   "cell_type": "code",
   "execution_count": 21,
   "id": "e58de3f4",
   "metadata": {
    "ExecuteTime": {
     "end_time": "2021-07-05T13:40:37.518272Z",
     "start_time": "2021-07-05T13:40:37.507168Z"
    }
   },
   "outputs": [
    {
     "data": {
      "text/plain": [
       "(2, 10000)"
      ]
     },
     "execution_count": 21,
     "metadata": {},
     "output_type": "execute_result"
    }
   ],
   "source": [
    "np.random.randn(2,10000).shape"
   ]
  },
  {
   "cell_type": "code",
   "execution_count": 4,
   "id": "494ca77d",
   "metadata": {
    "ExecuteTime": {
     "end_time": "2021-07-05T13:28:24.542683Z",
     "start_time": "2021-07-05T13:28:18.682542Z"
    },
    "scrolled": true
   },
   "outputs": [
    {
     "name": "stdout",
     "output_type": "stream",
     "text": [
      "Likelihood at init: 0.576\n",
      "    NR it 0 - obj = 1.394 -0.451\n",
      "    NR it 1 - obj = 0.548 0.309\n",
      "    NR it 2 - obj = 0.151 0.052\n",
      "    NR it 3 - obj = 0.018 0.002\n",
      "    NR it 4 - obj = 0.000 0.000\n",
      "Newton Rachson terminated\n",
      "Likelihood at ite 0: 1.962\n",
      "    NR it 0 - obj = 2.040 0.056\n",
      "    NR it 1 - obj = 0.806 0.003\n",
      "    NR it 2 - obj = 0.226 0.000\n",
      "    NR it 3 - obj = 0.028 0.000\n",
      "    NR it 4 - obj = 0.001 0.000\n",
      "Newton Rachson terminated\n",
      "Likelihood at ite 1: 1.629\n",
      "    NR it 0 - obj = 0.511 0.015\n",
      "    NR it 1 - obj = 0.116 0.000\n",
      "    NR it 2 - obj = 0.009 0.000\n",
      "    NR it 3 - obj = 0.000 0.000\n",
      "Newton Rachson terminated\n",
      "Likelihood at ite 2: 1.651\n",
      "    NR it 0 - obj = 0.630 0.025\n",
      "    NR it 1 - obj = 0.155 0.001\n",
      "    NR it 2 - obj = 0.014 0.000\n",
      "    NR it 3 - obj = 0.000 0.000\n",
      "Newton Rachson terminated\n",
      "Likelihood at ite 3: 1.606\n",
      "    NR it 0 - obj = 0.312 0.019\n",
      "    NR it 1 - obj = 0.050 0.000\n",
      "    NR it 2 - obj = 0.002 0.000\n",
      "    NR it 3 - obj = 0.000 0.000\n",
      "Newton Rachson terminated\n",
      "Likelihood at ite 4: 1.601\n"
     ]
    }
   ],
   "source": [
    "from utils.load_las_data import normalize_z_with_smooth_spline\n",
    "from em_gamma.get_gamma_parameters_em import get_gamma_parameters\n",
    "# Fit a mixture of 2 gamma distribution if not already done\n",
    "all_z = all_points_nparray[:, 2]\n",
    "params = get_gamma_parameters(all_z, args)"
   ]
  },
  {
   "cell_type": "code",
   "execution_count": 5,
   "id": "c1a6d51a",
   "metadata": {
    "ExecuteTime": {
     "end_time": "2021-07-05T13:28:32.554393Z",
     "start_time": "2021-07-05T13:28:24.543927Z"
    }
   },
   "outputs": [],
   "source": [
    "from scipy.stats import gamma\n",
    "\n",
    "def view_distribution(params, all_z):\n",
    "    fig, ax = plt.subplots(1, 1, figsize=(10, 5))\n",
    "    x = np.linspace(0, 10, 100)\n",
    "    plt.hist(all_z, bins=100, range=(0, 10), density=True)\n",
    "    plt.plot(\n",
    "        x, params[\"phi\"] * gamma.pdf(x, params[\"a_g\"], 0, params[\"scale_g\"]), \"r-\", lw=1, label=\"gamma1\"\n",
    "    )\n",
    "    plt.plot(\n",
    "        x, params[\"phi_2\"] * gamma.pdf(x, params[\"a_v\"], 0, params[\"scale_v\"]), \"k-\", lw=1, label=\"gamma2\"\n",
    "    )\n",
    "    plt.tight_layout()\n",
    "    axes = plt.gca()\n",
    "    axes.set_ylim([0, 0.5])\n",
    "    plt.show(block=True)\n",
    "view_distribution(params, all_z)"
   ]
  },
  {
   "cell_type": "code",
   "execution_count": 6,
   "id": "17cf2680",
   "metadata": {
    "ExecuteTime": {
     "end_time": "2021-07-05T13:28:32.577563Z",
     "start_time": "2021-07-05T13:28:32.564288Z"
    }
   },
   "outputs": [
    {
     "data": {
      "text/plain": [
       "{'phi': 0.5083025351931484,\n",
       " 'a_g': 0.4287375828029705,\n",
       " 'a_v': 3.9842894945640164,\n",
       " 'loc_g': 0,\n",
       " 'loc_v': 0,\n",
       " 'phi_2': 0.49169746480685156,\n",
       " 'scale_g': 0.536849407125017,\n",
       " 'scale_v': 1.3661828203042392}"
      ]
     },
     "execution_count": 6,
     "metadata": {},
     "output_type": "execute_result"
    }
   ],
   "source": [
    "params"
   ]
  },
  {
   "cell_type": "code",
   "execution_count": null,
   "id": "682cdd25",
   "metadata": {},
   "outputs": [],
   "source": []
  },
  {
   "cell_type": "code",
   "execution_count": null,
   "id": "8c49db29",
   "metadata": {},
   "outputs": [],
   "source": []
  }
 ],
 "metadata": {
  "celltoolbar": "Initialization Cell",
  "kernelspec": {
   "display_name": "Python 3",
   "language": "python",
   "name": "python3"
  },
  "language_info": {
   "codemirror_mode": {
    "name": "ipython",
    "version": 3
   },
   "file_extension": ".py",
   "mimetype": "text/x-python",
   "name": "python",
   "nbconvert_exporter": "python",
   "pygments_lexer": "ipython3",
   "version": "3.9.4"
  }
 },
 "nbformat": 4,
 "nbformat_minor": 5
}
