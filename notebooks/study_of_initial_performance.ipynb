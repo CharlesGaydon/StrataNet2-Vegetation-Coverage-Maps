{
 "cells": [
  {
   "cell_type": "code",
   "execution_count": 2,
   "id": "c1b5d3bb",
   "metadata": {
    "ExecuteTime": {
     "end_time": "2021-06-08T09:13:18.090124Z",
     "start_time": "2021-06-08T09:13:17.622644Z"
    },
    "init_cell": true
   },
   "outputs": [],
   "source": [
    "import matplotlib.pyplot as plt\n",
    "import numpy as np\n",
    "from scipy.integrate import simps\n",
    "import pandas as pd\n",
    "import sys\n",
    "# sys.path.append(\"..\")"
   ]
  },
  {
   "cell_type": "markdown",
   "id": "e20681cc",
   "metadata": {},
   "source": [
    "Chargement du fichier de résultats"
   ]
  },
  {
   "cell_type": "code",
   "execution_count": 3,
   "id": "e44fb3b0",
   "metadata": {
    "ExecuteTime": {
     "end_time": "2021-06-08T09:13:18.110355Z",
     "start_time": "2021-06-08T09:13:18.091149Z"
    },
    "init_cell": true
   },
   "outputs": [
    {
     "data": {
      "text/html": [
       "<div>\n",
       "<style scoped>\n",
       "    .dataframe tbody tr th:only-of-type {\n",
       "        vertical-align: middle;\n",
       "    }\n",
       "\n",
       "    .dataframe tbody tr th {\n",
       "        vertical-align: top;\n",
       "    }\n",
       "\n",
       "    .dataframe thead th {\n",
       "        text-align: right;\n",
       "    }\n",
       "</style>\n",
       "<table border=\"1\" class=\"dataframe\">\n",
       "  <thead>\n",
       "    <tr style=\"text-align: right;\">\n",
       "      <th></th>\n",
       "      <th>pl_id</th>\n",
       "      <th>vt_veg_b</th>\n",
       "      <th>vt_veg_moy</th>\n",
       "      <th>vt_veg_h</th>\n",
       "    </tr>\n",
       "  </thead>\n",
       "  <tbody>\n",
       "    <tr>\n",
       "      <th>0</th>\n",
       "      <td>Releve_Lidar_F68</td>\n",
       "      <td>0.0</td>\n",
       "      <td>100.0</td>\n",
       "      <td>0.0</td>\n",
       "    </tr>\n",
       "    <tr>\n",
       "      <th>1</th>\n",
       "      <td>2021_POINT_OBS60</td>\n",
       "      <td>25.0</td>\n",
       "      <td>75.0</td>\n",
       "      <td>0.0</td>\n",
       "    </tr>\n",
       "    <tr>\n",
       "      <th>2</th>\n",
       "      <td>POINT_OBS67</td>\n",
       "      <td>10.0</td>\n",
       "      <td>75.0</td>\n",
       "      <td>33.0</td>\n",
       "    </tr>\n",
       "    <tr>\n",
       "      <th>3</th>\n",
       "      <td>POINT_OBS71</td>\n",
       "      <td>25.0</td>\n",
       "      <td>75.0</td>\n",
       "      <td>90.0</td>\n",
       "    </tr>\n",
       "    <tr>\n",
       "      <th>4</th>\n",
       "      <td>Releve_Lidar_F69</td>\n",
       "      <td>10.0</td>\n",
       "      <td>75.0</td>\n",
       "      <td>75.0</td>\n",
       "    </tr>\n",
       "  </tbody>\n",
       "</table>\n",
       "</div>"
      ],
      "text/plain": [
       "              pl_id  vt_veg_b  vt_veg_moy  vt_veg_h\n",
       "0  Releve_Lidar_F68       0.0       100.0       0.0\n",
       "1  2021_POINT_OBS60      25.0        75.0       0.0\n",
       "2       POINT_OBS67      10.0        75.0      33.0\n",
       "3       POINT_OBS71      25.0        75.0      90.0\n",
       "4  Releve_Lidar_F69      10.0        75.0      75.0"
      ]
     },
     "execution_count": 3,
     "metadata": {},
     "output_type": "execute_result"
    }
   ],
   "source": [
    "experiment_rel_path = \"../experiments/RESULTS_3_strata/only_stratum/PROD/2021-05-31_11h40m21s/PCC_inference_all_placettes.csv\"\n",
    "format_percentage_to_float = lambda x: float(x.replace(\"%\",\"\"))\n",
    "cols_to_format = ['pred_veg_b', 'pred_sol_nu', 'pred_veg_moy', 'pred_veg_h',\n",
    "                  'vt_veg_b', 'vt_sol_nu', 'vt_veg_moy', 'vt_veg_h','error_veg_b', \n",
    "                  'error_veg_moy', 'error_veg_b_and_moy']\n",
    "df = pd.read_csv(experiment_rel_path, converters={key:format_percentage_to_float for key in cols_to_format})\n",
    "df[[\"pl_id\",\"vt_veg_b\",\"vt_veg_moy\",\"vt_veg_h\"]].head()"
   ]
  },
  {
   "cell_type": "markdown",
   "id": "8dd8d07c",
   "metadata": {},
   "source": [
    "Visualization of quantification noise"
   ]
  },
  {
   "cell_type": "code",
   "execution_count": 18,
   "id": "1de0ba1c",
   "metadata": {
    "ExecuteTime": {
     "end_time": "2021-06-08T08:28:39.745588Z",
     "start_time": "2021-06-08T08:28:39.636038Z"
    }
   },
   "outputs": [
    {
     "data": {
      "image/png": "[encoded data removed]",
      "text/plain": [
       "<Figure size 432x288 with 1 Axes>"
      ]
     },
     "metadata": {
      "needs_background": "light"
     },
     "output_type": "display_data"
    }
   ],
   "source": [
    "x = np.linspace(0,100,2001)\n",
    "bins_borders = np.array([5,17.5,29,41.5,58.5,71,82.5,95,101])\n",
    "bins_centers = np.array([0,10,25,33,50,67,75,90,100])\n",
    "y_classes = np.digitize(x, bins_borders)\n",
    "y_quant = bins_centers[y_classes[:,None]].squeeze()\n",
    "error = np.abs(x-y_quant)\n",
    "\n",
    "plt.title(\"Quantification error depends on coverage value\")\n",
    "plt.plot(x, y_quant, label=\"coverage (discrete)\")\n",
    "plt.plot(x, x, label = \"coverage\")\n",
    "plt.plot(x, error, label = \"quantification noise\")\n",
    "plt.xlabel(\"Coverage (%)\")\n",
    "plt.legend()\n",
    "\n",
    "plt.show()"
   ]
  },
  {
   "cell_type": "markdown",
   "id": "7d568a6b",
   "metadata": {},
   "source": [
    "Calculation of quantification noise expected value, under uniform coverage distribution assumptions"
   ]
  },
  {
   "cell_type": "code",
   "execution_count": 19,
   "id": "9e6c61a0",
   "metadata": {
    "ExecuteTime": {
     "end_time": "2021-06-08T08:28:40.610673Z",
     "start_time": "2021-06-08T08:28:40.604554Z"
    }
   },
   "outputs": [
    {
     "data": {
      "text/plain": [
       "3.39"
      ]
     },
     "execution_count": 19,
     "metadata": {},
     "output_type": "execute_result"
    }
   ],
   "source": [
    "error.mean().round(2)"
   ]
  },
  {
   "cell_type": "markdown",
   "id": "a26d75bb",
   "metadata": {},
   "source": [
    "Calculation of quantification noise expected value, under plots coverage distribution"
   ]
  },
  {
   "cell_type": "code",
   "execution_count": 20,
   "id": "de1be4a7",
   "metadata": {
    "ExecuteTime": {
     "end_time": "2021-06-08T08:28:41.742813Z",
     "start_time": "2021-06-08T08:28:41.732743Z"
    }
   },
   "outputs": [
    {
     "data": {
      "text/plain": [
       "[(0, '->', 2.48, '%pts'),\n",
       " (10, '->', 3.24, '%pts'),\n",
       " (25, '->', 3.15, '%pts'),\n",
       " (33, '->', 3.52, '%pts'),\n",
       " (50, '->', 4.25, '%pts'),\n",
       " (67, '->', 3.54, '%pts'),\n",
       " (75, '->', 3.13, '%pts'),\n",
       " (90, '->', 3.25, '%pts'),\n",
       " (100, '->', 2.5, '%pts')]"
      ]
     },
     "execution_count": 20,
     "metadata": {},
     "output_type": "execute_result"
    }
   ],
   "source": [
    "errors_by_class = np.zeros(shape=(9,))\n",
    "for i in range(9):\n",
    "    errors_by_class[i] = error[y_classes==i].mean()\n",
    "errors_by_class = errors_by_class.round(2)\n",
    "errors_by_class_mapper = {val_quant:mean_error for val_quant,mean_error in zip(bins_centers, errors_by_class)}\n",
    "# See values:\n",
    "l = list(zip(bins_centers, len(bins_centers)*[\"->\"],errors_by_class, len(bins_centers)*[\"%pts\"]))\n",
    "l"
   ]
  },
  {
   "cell_type": "markdown",
   "id": "d88c9a3c",
   "metadata": {},
   "source": [
    "Actual expected error of oracle by vegetation strata"
   ]
  },
  {
   "cell_type": "code",
   "execution_count": 21,
   "id": "1909e2b2",
   "metadata": {
    "ExecuteTime": {
     "end_time": "2021-06-08T08:28:52.342898Z",
     "start_time": "2021-06-08T08:28:52.308115Z"
    }
   },
   "outputs": [
    {
     "name": "stdout",
     "output_type": "stream",
     "text": [
      "Actual error due to quantization: 3.070735042735043\n"
     ]
    },
    {
     "data": {
      "text/plain": [
       "vt_veg_b      3.143077\n",
       "vt_veg_moy    3.047179\n",
       "vt_veg_h      3.021949\n",
       "Name: mean, dtype: float64"
      ]
     },
     "execution_count": 21,
     "metadata": {},
     "output_type": "execute_result"
    }
   ],
   "source": [
    "df_errors = df.copy()\n",
    "df_errors[[\"vt_veg_b\",\"vt_veg_moy\",\"vt_veg_h\"]] = df_errors[[\"vt_veg_b\",\"vt_veg_moy\",\"vt_veg_h\"]].replace(errors_by_class_mapper)\n",
    "print(f\"Actual error due to quantization: {df_errors[['vt_veg_b','vt_veg_moy','vt_veg_h']].values.mean()}\")\n",
    "df_errors[[\"vt_veg_b\",\"vt_veg_moy\",\"vt_veg_h\"]].describe().loc[\"mean\"]"
   ]
  },
  {
   "cell_type": "markdown",
   "id": "c7f3fae2",
   "metadata": {},
   "source": [
    "Calculation of class accuracy"
   ]
  },
  {
   "cell_type": "code",
   "execution_count": 45,
   "id": "31fceca0",
   "metadata": {
    "ExecuteTime": {
     "end_time": "2021-06-08T08:41:52.271688Z",
     "start_time": "2021-06-08T08:41:52.258265Z"
    }
   },
   "outputs": [
    {
     "name": "stdout",
     "output_type": "stream",
     "text": [
      "[0.45, 0.45, 0.58] 0.49\n"
     ]
    }
   ],
   "source": [
    "df_class_acc = df.copy()\n",
    "for coln in [\"pred_veg_b\", \"pred_veg_moy\",\"pred_veg_h\"]:\n",
    "    df_class_acc[coln] = pd.cut(df_class_acc[coln], [-1] + bins_borders.tolist(), labels=bins_centers)\n",
    "\n",
    "acc_b = (df_class_acc[\"pred_veg_b\"] == df_class_acc[\"vt_veg_b\"]).mean().round(2)\n",
    "acc_moy = (df_class_acc[\"pred_veg_moy\"] == df_class_acc[\"vt_veg_moy\"]).mean().round(2)\n",
    "acc_h = (df_class_acc[\"pred_veg_h\"] == df_class_acc[\"vt_veg_h\"]).mean().round(2)\n",
    "t = [acc_b, acc_moy, acc_h]\n",
    "print(t, np.mean(t).round(2))"
   ]
  },
  {
   "cell_type": "markdown",
   "id": "1cc2df0a",
   "metadata": {},
   "source": [
    "Calculation of class accuracy with a margin"
   ]
  },
  {
   "cell_type": "code",
   "execution_count": 44,
   "id": "3288cf24",
   "metadata": {
    "ExecuteTime": {
     "end_time": "2021-06-08T08:41:38.952109Z",
     "start_time": "2021-06-08T08:41:38.931592Z"
    }
   },
   "outputs": [
    {
     "name": "stdout",
     "output_type": "stream",
     "text": [
      "[0.93, 0.72, 0.98] 0.88\n"
     ]
    }
   ],
   "source": [
    "df_class_acc = df.copy()\n",
    "\n",
    "bb = [0] + bins_borders.tolist()\n",
    "center_to_border_dict = {center: borders for center, borders in zip(bins_centers, zip(bb[:-1], bb[1:]))}\n",
    "\n",
    "for coln in [\"vt_veg_b\", \"vt_veg_moy\",\"vt_veg_h\"]:\n",
    "    df_class_acc[coln + \"_bounds\"] = df_class_acc[coln].apply(lambda c: center_to_border_dict[c])\n",
    "\n",
    "def is_accurate_with_margin(v, bounds, margin = 10):\n",
    "    if bounds[0] - margin <= v <= bounds[1] + v:\n",
    "        return True\n",
    "    else:\n",
    "        return False\n",
    "\n",
    "acc2_b = (df_class_acc.apply(lambda x: is_accurate_with_margin(x[\"pred_veg_b\"], x[\"vt_veg_b\"+\"_bounds\"]), axis=1)).mean().round(2)\n",
    "acc2_moy = (df_class_acc.apply(lambda x: is_accurate_with_margin(x[\"pred_veg_moy\"], x[\"vt_veg_moy\"+\"_bounds\"]), axis=1)).mean().round(2)\n",
    "acc2_h = (df_class_acc.apply(lambda x: is_accurate_with_margin(x[\"pred_veg_h\"], x[\"vt_veg_h\"+\"_bounds\"]), axis=1)).mean().round(2)\n",
    "t = [acc2_b, acc2_moy, acc2_h]\n",
    "print(t, np.mean(t).round(2))"
   ]
  },
  {
   "cell_type": "markdown",
   "id": "f80a5561",
   "metadata": {},
   "source": [
    "Calculation of adapted MAE, relative to class to predict"
   ]
  },
  {
   "cell_type": "code",
   "execution_count": null,
   "id": "20a92a55",
   "metadata": {
    "ExecuteTime": {
     "start_time": "2021-06-08T09:09:43.372Z"
    }
   },
   "outputs": [],
   "source": [
    "# mae2\n",
    "df_mae2 = df.copy()\n",
    "bb = [0] + bins_borders.tolist()\n",
    "center_to_border_dict = {center: borders for center, borders in zip(bins_centers, zip(bb[:-1], bb[1:]))}\n",
    "center_to_border_dict\n",
    "def compute_mae2(pred, vt):\n",
    "    borders = center_to_border_dict[vt]\n",
    "    if borders[0] <= pred <= borders[1]:\n",
    "        return 0.0\n",
    "    else:\n",
    "        return min( abs(borders[0]-pred), abs(borders[1]-pred))\n",
    "    \n",
    "# apply to df\n",
    "mae2_b = df_mae2.apply(lambda x: compute_mae2(x.pred_veg_b, x.vt_veg_b), axis=1).mean().round(2)\n",
    "mae2_moy = df_mae2.apply(lambda x: compute_mae2(x.pred_veg_moy, x.vt_veg_moy), axis=1).mean().round(2)\n",
    "mae2_h = df_mae2.apply(lambda x: compute_mae2(x.pred_veg_h, x.vt_veg_h), axis=1).mean().round(2)\n",
    "mae2_b, mae2_moy, mae2_h"
   ]
  },
  {
   "cell_type": "code",
   "execution_count": 11,
   "id": "35e53700",
   "metadata": {
    "ExecuteTime": {
     "end_time": "2021-06-07T15:22:05.500344Z",
     "start_time": "2021-06-07T15:22:05.481312Z"
    }
   },
   "outputs": [
    {
     "data": {
      "text/plain": [
       "(10.75, 9.89, 9.83)"
      ]
     },
     "execution_count": 11,
     "metadata": {},
     "output_type": "execute_result"
    }
   ],
   "source": [
    "# get average width of class for each class\n",
    "def compute_width(vt):\n",
    "    borders = center_to_border_dict[vt]\n",
    "    return abs(borders[0] -borders[1])  \n",
    "# apply to df\n",
    "width_b = df_mae2.apply(lambda x: compute_width(x.vt_veg_b), axis=1).mean().round(2)\n",
    "width_moy = df_mae2.apply(lambda x: compute_width(x.vt_veg_moy), axis=1).mean().round(2)\n",
    "width_h = df_mae2.apply(lambda x: compute_width(x.vt_veg_h), axis=1).mean().round(2)\n",
    "width_b, width_moy, width_h"
   ]
  },
  {
   "cell_type": "markdown",
   "id": "4b29ee4d",
   "metadata": {},
   "source": [
    "Calculation of induced error under the hypothesis of a normally distributed, small error made by the agent. "
   ]
  },
  {
   "cell_type": "code",
   "execution_count": 76,
   "id": "9aee3113",
   "metadata": {
    "ExecuteTime": {
     "end_time": "2021-06-07T16:06:07.471086Z",
     "start_time": "2021-06-07T16:06:07.355786Z"
    }
   },
   "outputs": [
    {
     "data": {
      "text/plain": [
       "[<matplotlib.lines.Line2D at 0x7f3e96add6d0>]"
      ]
     },
     "execution_count": 76,
     "metadata": {},
     "output_type": "execute_result"
    },
    {
     "data": {
      "image/png": "[encoded data removed]",
      "text/plain": [
       "<Figure size 432x288 with 1 Axes>"
      ]
     },
     "metadata": {
      "needs_background": "light"
     },
     "output_type": "display_data"
    }
   ],
   "source": [
    "from scipy.stats import norm\n",
    "fig, ax = plt.subplots(1, 1)\n",
    "x = np.linspace(imprecision_generator.ppf(0.01),\n",
    "                imprecision_generator.ppf(0.99), 100)\n",
    "ax.plot(x, imprecision_generator.pdf(x),\n",
    "       'r-', lw=5, alpha=0.6, label='norm pdf')"
   ]
  },
  {
   "cell_type": "code",
   "execution_count": 109,
   "id": "638becd7",
   "metadata": {
    "ExecuteTime": {
     "end_time": "2021-06-07T16:38:56.197433Z",
     "start_time": "2021-06-07T16:38:47.188248Z"
    }
   },
   "outputs": [
    {
     "name": "stdout",
     "output_type": "stream",
     "text": [
      "Deltas d for p(e>p) for proba \n",
      "p = [0.01, 0.05, 0.25, 0.5, 0.75, 0.95, 0.99] are\n",
      "d = [-11.6, -8.2, -3.4, 0.0, 3.4, 8.2, 11.6]\n",
      "proba of an error above 20% is 0.00\n",
      "e=2.9% for range [0;5.0]\n",
      "e=3.9% for range [5.0;17.5]\n",
      "e=3.9% for range [17.5;29.0]\n",
      "e=3.9% for range [29.0;41.5]\n",
      "e=5.2% for range [41.5;58.5]\n",
      "e=3.9% for range [58.5;71.0]\n",
      "e=3.9% for range [71.0;82.5]\n",
      "e=3.9% for range [82.5;95.0]\n",
      "e=2.6% for range [95.0;101.0]\n",
      "Expected error with evaluation error of stdev=5 is 3.8\n"
     ]
    }
   ],
   "source": [
    "from scipy.stats import norm\n",
    "stdev_of_error = 5  # in percentage of coverage ; 95.4% of values will be in [-2*sigma, +2*sigma]\n",
    "imprecision_generator = norm(0, stdev_of_error)\n",
    "print(f\"Deltas d for p(e>p) for proba \\np = {[0.01,0.05,0.25,0.5,0.75,0.95,0.99]} are\\nd = {[np.round(imprecision_generator.ppf(f),1) for f in [0.01,0.05,0.25,0.5,0.75,0.95,0.99]]}\")\n",
    "print(f\"proba of an error above 20% is {imprecision_generator.cdf(-20) * 2:.2f}\")\n",
    "# refind\n",
    "bb = [0] + bins_borders.tolist()\n",
    "center_to_border_dict = {center: borders for center, borders in zip(bins_centers, zip(bb[:-1], bb[1:]))}\n",
    "\n",
    "expected_E = []\n",
    "for center, (lower_b, upper_b) in center_to_border_dict.items():\n",
    "    E_list = []\n",
    "    for coverage in np.arange(lower_b,upper_b + 0.1, 0.25):  # we always include both border in this range\n",
    "        E = 0.0\n",
    "        W = 0.0\n",
    "        for imprecision_delta in np.arange(-33,33, 0.25):\n",
    "            w = imprecision_generator.pdf(imprecision_delta)\n",
    "            coverage_with_imprecision = coverage + imprecision_delta\n",
    "            # we accept that 0% and 100% are more likely errors when close to them\n",
    "            coverage_with_imprecision = max(coverage_with_imprecision, 0)\n",
    "            coverage_with_imprecision = min(coverage_with_imprecision, 100)\n",
    "            if lower_b <= coverage_with_imprecision <= upper_b:\n",
    "                E = E + w * abs(coverage - center)  # quantification noise N°1\n",
    "            else:\n",
    "                closest_center = bins_centers[np.argsort(abs(bins_centers - coverage_with_imprecision))[1]]\n",
    "                E = E + w * abs(coverage -  closest_center)  # quantification noise N°2\n",
    "            W = W + w\n",
    "        E_list.append(E / W)\n",
    "    expected_E_in_class = np.mean(E_list)\n",
    "    \n",
    "    print(f\"e={expected_E_in_class:.2}% for range [{lower_b};{upper_b}]\")\n",
    "    expected_E.append(expected_E_in_class)\n",
    "print(f\"Expected error with evaluation error of stdev={stdev_of_error} is {np.mean(expected_E).round(2)}\")"
   ]
  }
 ],
 "metadata": {
  "celltoolbar": "Initialization Cell",
  "kernelspec": {
   "display_name": "Python 3",
   "language": "python",
   "name": "python3"
  },
  "language_info": {
   "codemirror_mode": {
    "name": "ipython",
    "version": 3
   },
   "file_extension": ".py",
   "mimetype": "text/x-python",
   "name": "python",
   "nbconvert_exporter": "python",
   "pygments_lexer": "ipython3",
   "version": "3.9.4"
  }
 },
 "nbformat": 4,
 "nbformat_minor": 5
}
