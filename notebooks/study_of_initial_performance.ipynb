{
 "cells": [
  {
   "cell_type": "code",
   "execution_count": 1,
   "id": "c1b5d3bb",
   "metadata": {},
   "outputs": [],
   "source": [
    "import matplotlib.pyplot as plt\n",
    "import numpy as np\n",
    "from scipy.integrate import simps\n",
    "import pandas as pd\n",
    "import sys\n",
    "# sys.path.append(\"..\")"
   ]
  },
  {
   "cell_type": "markdown",
   "id": "8dd8d07c",
   "metadata": {},
   "source": [
    "Visualization of quantification noise"
   ]
  },
  {
   "cell_type": "code",
   "execution_count": 2,
   "id": "1de0ba1c",
   "metadata": {},
   "outputs": [
    {
     "data": {
      "image/png": "[encoded data removed]",
      "text/plain": [
       "<Figure size 432x288 with 1 Axes>"
      ]
     },
     "metadata": {
      "needs_background": "light"
     },
     "output_type": "display_data"
    }
   ],
   "source": [
    "x = np.linspace(0,100,20001)\n",
    "bins_borders = np.array([5,17.5,29,41.5,58.5,71,82.5,95,101])\n",
    "bins_centers = np.array([0,10,25,33,50,67,75,90,100])\n",
    "y_classes = np.digitize(x, bins_borders)\n",
    "y_quant = bins_centers[y_classes[:,None]].squeeze()\n",
    "error = np.abs(x-y_quant)\n",
    "\n",
    "plt.title(\"Quantification error depends on coverage value\")\n",
    "plt.plot(x, y_quant, label=\"coverage (discrete)\")\n",
    "plt.plot(x, x, label = \"coverage\")\n",
    "plt.plot(x, error, label = \"quantification noise\")\n",
    "plt.xlabel(\"Coverage (%)\")\n",
    "plt.legend()\n",
    "\n",
    "plt.show()"
   ]
  },
  {
   "cell_type": "markdown",
   "id": "7d568a6b",
   "metadata": {},
   "source": [
    "Calculation of quantification noise expected value, under uniform coverage distribution assumptions"
   ]
  },
  {
   "cell_type": "code",
   "execution_count": 3,
   "id": "9e6c61a0",
   "metadata": {},
   "outputs": [
    {
     "data": {
      "text/plain": [
       "3.39"
      ]
     },
     "execution_count": 3,
     "metadata": {},
     "output_type": "execute_result"
    }
   ],
   "source": [
    "error.mean().round(2)"
   ]
  },
  {
   "cell_type": "markdown",
   "id": "a26d75bb",
   "metadata": {},
   "source": [
    "Calculation of quantification noise expected value, under plots coverage distribution"
   ]
  },
  {
   "cell_type": "code",
   "execution_count": 4,
   "id": "de1be4a7",
   "metadata": {},
   "outputs": [
    {
     "data": {
      "text/plain": [
       "[(0, '->', 2.5, '%pts'),\n",
       " (10, '->', 3.25, '%pts'),\n",
       " (25, '->', 3.14, '%pts'),\n",
       " (33, '->', 3.53, '%pts'),\n",
       " (50, '->', 4.25, '%pts'),\n",
       " (67, '->', 3.53, '%pts'),\n",
       " (75, '->', 3.14, '%pts'),\n",
       " (90, '->', 3.25, '%pts'),\n",
       " (100, '->', 2.5, '%pts')]"
      ]
     },
     "execution_count": 4,
     "metadata": {},
     "output_type": "execute_result"
    }
   ],
   "source": [
    "errors_by_class = np.zeros(shape=(9,))\n",
    "for i in range(9):\n",
    "    errors_by_class[i] = error[y_classes==i].mean()\n",
    "errors_by_class = errors_by_class.round(2)\n",
    "errors_by_class_mapper = {val_quant:mean_error for val_quant,mean_error in zip(bins_centers, errors_by_class)}\n",
    "# See values:\n",
    "l = list(zip(bins_centers, len(bins_centers)*[\"->\"],errors_by_class, len(bins_centers)*[\"%pts\"]))\n",
    "l"
   ]
  },
  {
   "cell_type": "markdown",
   "id": "e20681cc",
   "metadata": {},
   "source": [
    "Chargement du fichier de résultats"
   ]
  },
  {
   "cell_type": "code",
   "execution_count": 5,
   "id": "e44fb3b0",
   "metadata": {},
   "outputs": [
    {
     "data": {
      "text/html": [
       "<div>\n",
       "<style scoped>\n",
       "    .dataframe tbody tr th:only-of-type {\n",
       "        vertical-align: middle;\n",
       "    }\n",
       "\n",
       "    .dataframe tbody tr th {\n",
       "        vertical-align: top;\n",
       "    }\n",
       "\n",
       "    .dataframe thead th {\n",
       "        text-align: right;\n",
       "    }\n",
       "</style>\n",
       "<table border=\"1\" class=\"dataframe\">\n",
       "  <thead>\n",
       "    <tr style=\"text-align: right;\">\n",
       "      <th></th>\n",
       "      <th>pl_id</th>\n",
       "      <th>vt_veg_b</th>\n",
       "      <th>vt_veg_moy</th>\n",
       "      <th>vt_veg_h</th>\n",
       "    </tr>\n",
       "  </thead>\n",
       "  <tbody>\n",
       "    <tr>\n",
       "      <th>0</th>\n",
       "      <td>Releve_Lidar_F68</td>\n",
       "      <td>0.0</td>\n",
       "      <td>100.0</td>\n",
       "      <td>0.0</td>\n",
       "    </tr>\n",
       "    <tr>\n",
       "      <th>1</th>\n",
       "      <td>2021_POINT_OBS60</td>\n",
       "      <td>25.0</td>\n",
       "      <td>75.0</td>\n",
       "      <td>0.0</td>\n",
       "    </tr>\n",
       "    <tr>\n",
       "      <th>2</th>\n",
       "      <td>POINT_OBS67</td>\n",
       "      <td>10.0</td>\n",
       "      <td>75.0</td>\n",
       "      <td>33.0</td>\n",
       "    </tr>\n",
       "    <tr>\n",
       "      <th>3</th>\n",
       "      <td>POINT_OBS71</td>\n",
       "      <td>25.0</td>\n",
       "      <td>75.0</td>\n",
       "      <td>90.0</td>\n",
       "    </tr>\n",
       "    <tr>\n",
       "      <th>4</th>\n",
       "      <td>Releve_Lidar_F69</td>\n",
       "      <td>10.0</td>\n",
       "      <td>75.0</td>\n",
       "      <td>75.0</td>\n",
       "    </tr>\n",
       "  </tbody>\n",
       "</table>\n",
       "</div>"
      ],
      "text/plain": [
       "              pl_id  vt_veg_b  vt_veg_moy  vt_veg_h\n",
       "0  Releve_Lidar_F68       0.0       100.0       0.0\n",
       "1  2021_POINT_OBS60      25.0        75.0       0.0\n",
       "2       POINT_OBS67      10.0        75.0      33.0\n",
       "3       POINT_OBS71      25.0        75.0      90.0\n",
       "4  Releve_Lidar_F69      10.0        75.0      75.0"
      ]
     },
     "execution_count": 5,
     "metadata": {},
     "output_type": "execute_result"
    }
   ],
   "source": [
    "experiment_rel_path = \"../experiments/RESULTS_3_strata/only_stratum/PROD/2021-05-31_11h40m21s/PCC_inference_all_placettes.csv\"\n",
    "format_percentage_to_float = lambda x: float(x.replace(\"%\",\"\"))\n",
    "cols_to_format = ['pred_veg_b', 'pred_sol_nu', 'pred_veg_moy', 'pred_veg_h',\n",
    "                  'vt_veg_b', 'vt_sol_nu', 'vt_veg_moy', 'vt_veg_h','error_veg_b', \n",
    "                  'error_veg_moy', 'error_veg_b_and_moy']\n",
    "df = pd.read_csv(experiment_rel_path, converters={key:format_percentage_to_float for key in cols_to_format})\n",
    "df[[\"pl_id\",\"vt_veg_b\",\"vt_veg_moy\",\"vt_veg_h\"]].head()"
   ]
  },
  {
   "cell_type": "markdown",
   "id": "d88c9a3c",
   "metadata": {},
   "source": [
    "Actual expected error of oracle by vegetation strata"
   ]
  },
  {
   "cell_type": "code",
   "execution_count": 6,
   "id": "1909e2b2",
   "metadata": {},
   "outputs": [
    {
     "name": "stdout",
     "output_type": "stream",
     "text": [
      "Actual error due to quantization: 3.077384615384615\n"
     ]
    },
    {
     "data": {
      "text/plain": [
       "vt_veg_b      3.145538\n",
       "vt_veg_moy    3.056410\n",
       "vt_veg_h      3.030205\n",
       "Name: mean, dtype: float64"
      ]
     },
     "execution_count": 6,
     "metadata": {},
     "output_type": "execute_result"
    }
   ],
   "source": [
    "df_errors = df.copy()\n",
    "df_errors[[\"vt_veg_b\",\"vt_veg_moy\",\"vt_veg_h\"]] = df_errors[[\"vt_veg_b\",\"vt_veg_moy\",\"vt_veg_h\"]].replace(errors_by_class_mapper)\n",
    "print(f\"Actual error due to quantization: {df_errors[['vt_veg_b','vt_veg_moy','vt_veg_h']].values.mean()}\")\n",
    "df_errors[[\"vt_veg_b\",\"vt_veg_moy\",\"vt_veg_h\"]].describe().loc[\"mean\"]"
   ]
  },
  {
   "cell_type": "markdown",
   "id": "c7f3fae2",
   "metadata": {},
   "source": [
    "Calculation of class accuracy"
   ]
  },
  {
   "cell_type": "code",
   "execution_count": 7,
   "id": "31fceca0",
   "metadata": {},
   "outputs": [],
   "source": [
    "df_class_acc = df.copy()\n",
    "for coln in [\"pred_veg_b\", \"pred_veg_moy\",\"pred_veg_h\"]:\n",
    "    df_class_acc[coln] = pd.cut(df_class_acc[coln], [-1] + bins_borders.tolist(), labels=bins_centers)"
   ]
  },
  {
   "cell_type": "code",
   "execution_count": 8,
   "id": "3268449e",
   "metadata": {},
   "outputs": [
    {
     "name": "stdout",
     "output_type": "stream",
     "text": [
      "[0.45, 0.45, 0.58] 0.49\n"
     ]
    }
   ],
   "source": [
    "acc_b = (df_class_acc[\"pred_veg_b\"] == df_class_acc[\"vt_veg_b\"]).mean().round(2)\n",
    "acc_moy = (df_class_acc[\"pred_veg_moy\"] == df_class_acc[\"vt_veg_moy\"]).mean().round(2)\n",
    "acc_h = (df_class_acc[\"pred_veg_h\"] == df_class_acc[\"vt_veg_h\"]).mean().round(2)\n",
    "t = [acc_b, acc_moy, acc_h]\n",
    "print(t, np.mean(t).round(2))"
   ]
  },
  {
   "cell_type": "markdown",
   "id": "f80a5561",
   "metadata": {},
   "source": [
    "Calculation of adapted MAE, relative to class to predict"
   ]
  },
  {
   "cell_type": "code",
   "execution_count": 49,
   "id": "51539785",
   "metadata": {},
   "outputs": [],
   "source": [
    "df_mae2 = df.copy()\n",
    "# for coln in [\"vt_veg_b\", \"vt_veg_moy\",\"vt_veg_h\"]:\n",
    "#     df_mae2[coln] = pd.cut(df_mae2[coln], [-1] + bins_borders.tolist())"
   ]
  },
  {
   "cell_type": "code",
   "execution_count": 52,
   "id": "20a92a55",
   "metadata": {},
   "outputs": [
    {
     "data": {
      "text/plain": [
       "(11.59, 9.96, 3.68)"
      ]
     },
     "execution_count": 52,
     "metadata": {},
     "output_type": "execute_result"
    }
   ],
   "source": [
    "# define mae2\n",
    "bb = [0] + bins_borders.tolist()\n",
    "center_to_border_dict = {center: borders for center, borders in zip(bins_centers, zip(bb[:-1], bb[1:]))}\n",
    "center_to_border_dict\n",
    "def compute_mae2(pred, vt):\n",
    "    borders = center_to_border_dict[vt]\n",
    "    if borders[0] <= pred <= borders[1]:\n",
    "        return 0.0\n",
    "    else:\n",
    "        return min( abs(borders[0]-pred), abs(borders[1]-pred))\n",
    "    \n",
    "# apply to df\n",
    "mae2_b = df_mae2.apply(lambda x: compute_mae2(x.pred_veg_b, x.vt_veg_b), axis=1).mean().round(2)\n",
    "mae2_moy = df_mae2.apply(lambda x: compute_mae2(x.pred_veg_moy, x.vt_veg_moy), axis=1).mean().round(2)\n",
    "mae2_h = df_mae2.apply(lambda x: compute_mae2(x.pred_veg_h, x.vt_veg_h), axis=1).mean().round(2)\n",
    "mae2_b, mae2_moy, mae2_h"
   ]
  },
  {
   "cell_type": "code",
   "execution_count": 64,
   "id": "35e53700",
   "metadata": {},
   "outputs": [
    {
     "data": {
      "text/plain": [
       "(10.75, 9.89, 9.83)"
      ]
     },
     "execution_count": 64,
     "metadata": {},
     "output_type": "execute_result"
    }
   ],
   "source": [
    "# get average width of class for each class\n",
    "def compute_width(vt):\n",
    "    borders = center_to_border_dict[vt]\n",
    "    return abs(borders[0] -borders[1])  \n",
    "# apply to df\n",
    "width_b = df_mae2.apply(lambda x: compute_width(x.vt_veg_b), axis=1).mean().round(2)\n",
    "width_moy = df_mae2.apply(lambda x: compute_width(x.vt_veg_moy), axis=1).mean().round(2)\n",
    "width_h = df_mae2.apply(lambda x: compute_width(x.vt_veg_h), axis=1).mean().round(2)\n",
    "width_b, width_moy, width_h"
   ]
  }
 ],
 "metadata": {
  "kernelspec": {
   "display_name": "Python 3",
   "language": "python",
   "name": "python3"
  },
  "language_info": {
   "codemirror_mode": {
    "name": "ipython",
    "version": 3
   },
   "file_extension": ".py",
   "mimetype": "text/x-python",
   "name": "python",
   "nbconvert_exporter": "python",
   "pygments_lexer": "ipython3",
   "version": "3.9.4"
  }
 },
 "nbformat": 4,
 "nbformat_minor": 5
}
