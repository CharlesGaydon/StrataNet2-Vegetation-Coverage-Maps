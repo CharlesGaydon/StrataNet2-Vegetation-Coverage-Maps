{
 "cells": [
  {
   "cell_type": "markdown",
   "id": "c880efff",
   "metadata": {},
   "source": [
    "# Useful to test syntaxes, data, structure before adding them to scripts"
   ]
  },
  {
   "cell_type": "code",
   "execution_count": 1,
   "id": "775e98cf",
   "metadata": {},
   "outputs": [
    {
     "name": "stdout",
     "output_type": "stream",
     "text": [
      "False\n",
      "Everything is imported\n"
     ]
    }
   ],
   "source": [
    "import warnings\n",
    "warnings.simplefilter(action='ignore')\n",
    "\n",
    "import functools\n",
    "import argparse\n",
    "import numpy as np\n",
    "import pandas as pd\n",
    "\n",
    "from sklearn.model_selection import KFold\n",
    "from torch.utils.tensorboard import SummaryWriter\n",
    "from scipy.stats import gamma\n",
    "import os\n",
    "import time\n",
    "import torch\n",
    "import torch.optim as optim\n",
    "from torch.optim.lr_scheduler import StepLR\n",
    "import torchnet as tnt\n",
    "from sklearn.neighbors import NearestNeighbors\n",
    "from osgeo import gdal\n",
    "import gc\n",
    "\n",
    "import torch.nn as nn\n",
    "from scipy.special import digamma, polygamma\n",
    "\n",
    "import matplotlib\n",
    "# Weird behavior: loading twice in cell appears to remove an elsewise occuring error.\n",
    "for i in range(2):\n",
    "    try:\n",
    "        matplotlib.use('TkAgg')  # rerun this cell if an error occurs.\n",
    "    except:\n",
    "        print(\"!\")\n",
    "import matplotlib.pyplot as plt\n",
    "\n",
    "\n",
    "import pickle\n",
    "from torch_scatter import scatter_max, scatter_mean\n",
    "\n",
    "print(torch.cuda.is_available())\n",
    "np.random.seed(42)\n",
    "torch.cuda.empty_cache()\n",
    "print(\"Everything is imported\")"
   ]
  },
  {
   "cell_type": "code",
   "execution_count": 5,
   "id": "2ef85686",
   "metadata": {},
   "outputs": [],
   "source": [
    "# We import functions from github repository\n",
    "import sys\n",
    "sys.path.append(\"..\")\n",
    "from config import args\n",
    "from model.model import PointNet\n",
    "from utils.point_cloud_classifier import PointCloudClassifier\n",
    "from utils.useful_functions import *\n",
    "from data_loader.loader import *\n",
    "from utils.open_las import *\n",
    "from model.loss_functions import *\n",
    "from model.accuracy import *\n",
    "from em_gamma.get_gamma_parameters_em import *\n"
   ]
  },
  {
   "cell_type": "code",
   "execution_count": 2,
   "id": "c3b7d416",
   "metadata": {},
   "outputs": [
    {
     "name": "stderr",
     "output_type": "stream",
     "text": [
      "usage: ipykernel_launcher [-h] [--mode MODE] [--path PATH]\n",
      "                          [--dataset_folder_path DATASET_FOLDER_PATH]\n",
      "                          [--las_files_folder_path LAS_FILES_FOLDER_PATH]\n",
      "                          [--gt_file_path GT_FILE_PATH] [--cuda CUDA]\n",
      "                          [--folds FOLDS]\n",
      "                          [--coln_mapper_dict COLN_MAPPER_DICT]\n",
      "                          [--create_final_images_bool CREATE_FINAL_IMAGES_BOOL]\n",
      "                          [--results_path RESULTS_PATH]\n",
      "                          [--stats_path STATS_PATH] [--stats_file STATS_FILE]\n",
      "                          [--n_class N_CLASS] [--input_feats INPUT_FEATS]\n",
      "                          [--subsample_size SUBSAMPLE_SIZE]\n",
      "                          [--diam_pix DIAM_PIX] [--m M]\n",
      "                          [--norm_ground NORM_GROUND] [--ent ENT] [--e E]\n",
      "                          [--adm ADM] [--nb_stratum NB_STRATUM]\n",
      "                          [--ECM_ite_max ECM_ITE_MAX]\n",
      "                          [--NR_ite_max NR_ITE_MAX] [--MLP_1 MLP_1]\n",
      "                          [--MLP_2 MLP_2] [--MLP_3 MLP_3] [--drop DROP]\n",
      "                          [--soft SOFT] [--wd WD] [--lr LR]\n",
      "                          [--step_size STEP_SIZE] [--lr_decay LR_DECAY]\n",
      "                          [--n_epoch N_EPOCH] [--n_epoch_test N_EPOCH_TEST]\n",
      "                          [--batch_size BATCH_SIZE]\n",
      "ipykernel_launcher: error: argument --folds: invalid int value: '/tmp/tmp-26933bydTYss6t54H.json'\n",
      "ERROR:root:Internal Python error in the inspect module.\n",
      "Below is the traceback from this internal error.\n",
      "\n",
      "Dataset folder in use: /home/CGaydon/Documents/LIDAR PAC/plot_vegetation_coverage/data/placettes_dataset/\n",
      "Traceback (most recent call last):\n",
      "  File \"/home/CGaydon/anaconda3/envs/lidar_pac/lib/python3.9/argparse.py\", line 2476, in _get_value\n",
      "    result = type_func(arg_string)\n",
      "ValueError: invalid literal for int() with base 10: '/tmp/tmp-26933bydTYss6t54H.json'\n",
      "\n",
      "During handling of the above exception, another exception occurred:\n",
      "\n",
      "Traceback (most recent call last):\n",
      "  File \"/home/CGaydon/anaconda3/envs/lidar_pac/lib/python3.9/argparse.py\", line 1851, in parse_known_args\n",
      "    namespace, args = self._parse_known_args(args, namespace)\n",
      "  File \"/home/CGaydon/anaconda3/envs/lidar_pac/lib/python3.9/argparse.py\", line 2060, in _parse_known_args\n",
      "    start_index = consume_optional(start_index)\n",
      "  File \"/home/CGaydon/anaconda3/envs/lidar_pac/lib/python3.9/argparse.py\", line 2000, in consume_optional\n",
      "    take_action(action, args, option_string)\n",
      "  File \"/home/CGaydon/anaconda3/envs/lidar_pac/lib/python3.9/argparse.py\", line 1912, in take_action\n",
      "    argument_values = self._get_values(action, argument_strings)\n",
      "  File \"/home/CGaydon/anaconda3/envs/lidar_pac/lib/python3.9/argparse.py\", line 2443, in _get_values\n",
      "    value = self._get_value(action, arg_string)\n",
      "  File \"/home/CGaydon/anaconda3/envs/lidar_pac/lib/python3.9/argparse.py\", line 2489, in _get_value\n",
      "    raise ArgumentError(action, msg % args)\n",
      "argparse.ArgumentError: argument --folds: invalid int value: '/tmp/tmp-26933bydTYss6t54H.json'\n",
      "\n",
      "During handling of the above exception, another exception occurred:\n",
      "\n",
      "Traceback (most recent call last):\n",
      "  File \"/home/CGaydon/anaconda3/envs/lidar_pac/lib/python3.9/site-packages/IPython/core/interactiveshell.py\", line 3437, in run_code\n",
      "    exec(code_obj, self.user_global_ns, self.user_ns)\n",
      "  File \"<ipython-input-2-02811dcbc598>\", line 5, in <module>\n",
      "    from config import args\n",
      "  File \"../config.py\", line 78, in <module>\n",
      "    args, _ = parser.parse_known_args()\n",
      "  File \"/home/CGaydon/anaconda3/envs/lidar_pac/lib/python3.9/argparse.py\", line 1854, in parse_known_args\n",
      "    self.error(str(err))\n",
      "  File \"/home/CGaydon/anaconda3/envs/lidar_pac/lib/python3.9/argparse.py\", line 2575, in error\n",
      "    self.exit(2, _('%(prog)s: error: %(message)s\\n') % args)\n",
      "  File \"/home/CGaydon/anaconda3/envs/lidar_pac/lib/python3.9/argparse.py\", line 2562, in exit\n",
      "    _sys.exit(status)\n",
      "SystemExit: 2\n",
      "\n",
      "During handling of the above exception, another exception occurred:\n",
      "\n",
      "Traceback (most recent call last):\n",
      "  File \"/home/CGaydon/anaconda3/envs/lidar_pac/lib/python3.9/site-packages/IPython/core/ultratb.py\", line 1101, in get_records\n",
      "    return _fixed_getinnerframes(etb, number_of_lines_of_context, tb_offset)\n",
      "  File \"/home/CGaydon/anaconda3/envs/lidar_pac/lib/python3.9/site-packages/IPython/core/ultratb.py\", line 248, in wrapped\n",
      "    return f(*args, **kwargs)\n",
      "  File \"/home/CGaydon/anaconda3/envs/lidar_pac/lib/python3.9/site-packages/IPython/core/ultratb.py\", line 281, in _fixed_getinnerframes\n",
      "    records = fix_frame_records_filenames(inspect.getinnerframes(etb, context))\n",
      "  File \"/home/CGaydon/anaconda3/envs/lidar_pac/lib/python3.9/inspect.py\", line 1541, in getinnerframes\n",
      "    frameinfo = (tb.tb_frame,) + getframeinfo(tb, context)\n",
      "AttributeError: 'tuple' object has no attribute 'tb_frame'\n"
     ]
    },
    {
     "ename": "TypeError",
     "evalue": "object of type 'NoneType' has no len()",
     "output_type": "error",
     "traceback": [
      "\u001b[0;31m---------------------------------------------------------------------------\u001b[0m",
      "\u001b[0;31mValueError\u001b[0m                                Traceback (most recent call last)",
      "\u001b[0;32m~/anaconda3/envs/lidar_pac/lib/python3.9/argparse.py\u001b[0m in \u001b[0;36m_get_value\u001b[0;34m(self, action, arg_string)\u001b[0m\n\u001b[1;32m   2475\u001b[0m         \u001b[0;32mtry\u001b[0m\u001b[0;34m:\u001b[0m\u001b[0;34m\u001b[0m\u001b[0;34m\u001b[0m\u001b[0m\n\u001b[0;32m-> 2476\u001b[0;31m             \u001b[0mresult\u001b[0m \u001b[0;34m=\u001b[0m \u001b[0mtype_func\u001b[0m\u001b[0;34m(\u001b[0m\u001b[0marg_string\u001b[0m\u001b[0;34m)\u001b[0m\u001b[0;34m\u001b[0m\u001b[0;34m\u001b[0m\u001b[0m\n\u001b[0m\u001b[1;32m   2477\u001b[0m \u001b[0;34m\u001b[0m\u001b[0m\n",
      "\u001b[0;31mValueError\u001b[0m: invalid literal for int() with base 10: '/tmp/tmp-26933bydTYss6t54H.json'",
      "\nDuring handling of the above exception, another exception occurred:\n",
      "\u001b[0;31mArgumentError\u001b[0m                             Traceback (most recent call last)",
      "\u001b[0;32m~/anaconda3/envs/lidar_pac/lib/python3.9/argparse.py\u001b[0m in \u001b[0;36mparse_known_args\u001b[0;34m(self, args, namespace)\u001b[0m\n\u001b[1;32m   1850\u001b[0m             \u001b[0;32mtry\u001b[0m\u001b[0;34m:\u001b[0m\u001b[0;34m\u001b[0m\u001b[0;34m\u001b[0m\u001b[0m\n\u001b[0;32m-> 1851\u001b[0;31m                 \u001b[0mnamespace\u001b[0m\u001b[0;34m,\u001b[0m \u001b[0margs\u001b[0m \u001b[0;34m=\u001b[0m \u001b[0mself\u001b[0m\u001b[0;34m.\u001b[0m\u001b[0m_parse_known_args\u001b[0m\u001b[0;34m(\u001b[0m\u001b[0margs\u001b[0m\u001b[0;34m,\u001b[0m \u001b[0mnamespace\u001b[0m\u001b[0;34m)\u001b[0m\u001b[0;34m\u001b[0m\u001b[0;34m\u001b[0m\u001b[0m\n\u001b[0m\u001b[1;32m   1852\u001b[0m             \u001b[0;32mexcept\u001b[0m \u001b[0mArgumentError\u001b[0m\u001b[0;34m:\u001b[0m\u001b[0;34m\u001b[0m\u001b[0;34m\u001b[0m\u001b[0m\n",
      "\u001b[0;32m~/anaconda3/envs/lidar_pac/lib/python3.9/argparse.py\u001b[0m in \u001b[0;36m_parse_known_args\u001b[0;34m(self, arg_strings, namespace)\u001b[0m\n\u001b[1;32m   2059\u001b[0m             \u001b[0;31m# consume the next optional and any arguments for it\u001b[0m\u001b[0;34m\u001b[0m\u001b[0;34m\u001b[0m\u001b[0;34m\u001b[0m\u001b[0m\n\u001b[0;32m-> 2060\u001b[0;31m             \u001b[0mstart_index\u001b[0m \u001b[0;34m=\u001b[0m \u001b[0mconsume_optional\u001b[0m\u001b[0;34m(\u001b[0m\u001b[0mstart_index\u001b[0m\u001b[0;34m)\u001b[0m\u001b[0;34m\u001b[0m\u001b[0;34m\u001b[0m\u001b[0m\n\u001b[0m\u001b[1;32m   2061\u001b[0m \u001b[0;34m\u001b[0m\u001b[0m\n",
      "\u001b[0;32m~/anaconda3/envs/lidar_pac/lib/python3.9/argparse.py\u001b[0m in \u001b[0;36mconsume_optional\u001b[0;34m(start_index)\u001b[0m\n\u001b[1;32m   1999\u001b[0m             \u001b[0;32mfor\u001b[0m \u001b[0maction\u001b[0m\u001b[0;34m,\u001b[0m \u001b[0margs\u001b[0m\u001b[0;34m,\u001b[0m \u001b[0moption_string\u001b[0m \u001b[0;32min\u001b[0m \u001b[0maction_tuples\u001b[0m\u001b[0;34m:\u001b[0m\u001b[0;34m\u001b[0m\u001b[0;34m\u001b[0m\u001b[0m\n\u001b[0;32m-> 2000\u001b[0;31m                 \u001b[0mtake_action\u001b[0m\u001b[0;34m(\u001b[0m\u001b[0maction\u001b[0m\u001b[0;34m,\u001b[0m \u001b[0margs\u001b[0m\u001b[0;34m,\u001b[0m \u001b[0moption_string\u001b[0m\u001b[0;34m)\u001b[0m\u001b[0;34m\u001b[0m\u001b[0;34m\u001b[0m\u001b[0m\n\u001b[0m\u001b[1;32m   2001\u001b[0m             \u001b[0;32mreturn\u001b[0m \u001b[0mstop\u001b[0m\u001b[0;34m\u001b[0m\u001b[0;34m\u001b[0m\u001b[0m\n",
      "\u001b[0;32m~/anaconda3/envs/lidar_pac/lib/python3.9/argparse.py\u001b[0m in \u001b[0;36mtake_action\u001b[0;34m(action, argument_strings, option_string)\u001b[0m\n\u001b[1;32m   1911\u001b[0m             \u001b[0mseen_actions\u001b[0m\u001b[0;34m.\u001b[0m\u001b[0madd\u001b[0m\u001b[0;34m(\u001b[0m\u001b[0maction\u001b[0m\u001b[0;34m)\u001b[0m\u001b[0;34m\u001b[0m\u001b[0;34m\u001b[0m\u001b[0m\n\u001b[0;32m-> 1912\u001b[0;31m             \u001b[0margument_values\u001b[0m \u001b[0;34m=\u001b[0m \u001b[0mself\u001b[0m\u001b[0;34m.\u001b[0m\u001b[0m_get_values\u001b[0m\u001b[0;34m(\u001b[0m\u001b[0maction\u001b[0m\u001b[0;34m,\u001b[0m \u001b[0margument_strings\u001b[0m\u001b[0;34m)\u001b[0m\u001b[0;34m\u001b[0m\u001b[0;34m\u001b[0m\u001b[0m\n\u001b[0m\u001b[1;32m   1913\u001b[0m \u001b[0;34m\u001b[0m\u001b[0m\n",
      "\u001b[0;32m~/anaconda3/envs/lidar_pac/lib/python3.9/argparse.py\u001b[0m in \u001b[0;36m_get_values\u001b[0;34m(self, action, arg_strings)\u001b[0m\n\u001b[1;32m   2442\u001b[0m             \u001b[0marg_string\u001b[0m\u001b[0;34m,\u001b[0m \u001b[0;34m=\u001b[0m \u001b[0marg_strings\u001b[0m\u001b[0;34m\u001b[0m\u001b[0;34m\u001b[0m\u001b[0m\n\u001b[0;32m-> 2443\u001b[0;31m             \u001b[0mvalue\u001b[0m \u001b[0;34m=\u001b[0m \u001b[0mself\u001b[0m\u001b[0;34m.\u001b[0m\u001b[0m_get_value\u001b[0m\u001b[0;34m(\u001b[0m\u001b[0maction\u001b[0m\u001b[0;34m,\u001b[0m \u001b[0marg_string\u001b[0m\u001b[0;34m)\u001b[0m\u001b[0;34m\u001b[0m\u001b[0;34m\u001b[0m\u001b[0m\n\u001b[0m\u001b[1;32m   2444\u001b[0m             \u001b[0mself\u001b[0m\u001b[0;34m.\u001b[0m\u001b[0m_check_value\u001b[0m\u001b[0;34m(\u001b[0m\u001b[0maction\u001b[0m\u001b[0;34m,\u001b[0m \u001b[0mvalue\u001b[0m\u001b[0;34m)\u001b[0m\u001b[0;34m\u001b[0m\u001b[0;34m\u001b[0m\u001b[0m\n",
      "\u001b[0;32m~/anaconda3/envs/lidar_pac/lib/python3.9/argparse.py\u001b[0m in \u001b[0;36m_get_value\u001b[0;34m(self, action, arg_string)\u001b[0m\n\u001b[1;32m   2488\u001b[0m             \u001b[0mmsg\u001b[0m \u001b[0;34m=\u001b[0m \u001b[0m_\u001b[0m\u001b[0;34m(\u001b[0m\u001b[0;34m'invalid %(type)s value: %(value)r'\u001b[0m\u001b[0;34m)\u001b[0m\u001b[0;34m\u001b[0m\u001b[0;34m\u001b[0m\u001b[0m\n\u001b[0;32m-> 2489\u001b[0;31m             \u001b[0;32mraise\u001b[0m \u001b[0mArgumentError\u001b[0m\u001b[0;34m(\u001b[0m\u001b[0maction\u001b[0m\u001b[0;34m,\u001b[0m \u001b[0mmsg\u001b[0m \u001b[0;34m%\u001b[0m \u001b[0margs\u001b[0m\u001b[0;34m)\u001b[0m\u001b[0;34m\u001b[0m\u001b[0;34m\u001b[0m\u001b[0m\n\u001b[0m\u001b[1;32m   2490\u001b[0m \u001b[0;34m\u001b[0m\u001b[0m\n",
      "\u001b[0;31mArgumentError\u001b[0m: argument --folds: invalid int value: '/tmp/tmp-26933bydTYss6t54H.json'",
      "\nDuring handling of the above exception, another exception occurred:\n",
      "\u001b[0;31mSystemExit\u001b[0m                                Traceback (most recent call last)",
      "    \u001b[0;31m[... skipping hidden 1 frame]\u001b[0m\n",
      "\u001b[0;32m<ipython-input-2-02811dcbc598>\u001b[0m in \u001b[0;36m<module>\u001b[0;34m\u001b[0m\n\u001b[1;32m      4\u001b[0m \u001b[0;34m\u001b[0m\u001b[0m\n\u001b[0;32m----> 5\u001b[0;31m \u001b[0;32mfrom\u001b[0m \u001b[0mconfig\u001b[0m \u001b[0;32mimport\u001b[0m \u001b[0margs\u001b[0m\u001b[0;34m\u001b[0m\u001b[0;34m\u001b[0m\u001b[0m\n\u001b[0m\u001b[1;32m      6\u001b[0m \u001b[0;32mfrom\u001b[0m \u001b[0mmodel\u001b[0m\u001b[0;34m.\u001b[0m\u001b[0mmodel\u001b[0m \u001b[0;32mimport\u001b[0m \u001b[0mPointNet\u001b[0m\u001b[0;34m\u001b[0m\u001b[0;34m\u001b[0m\u001b[0m\n",
      "\u001b[0;32m~/Documents/LIDAR PAC/plot_vegetation_coverage/config.py\u001b[0m in \u001b[0;36m<module>\u001b[0;34m\u001b[0m\n\u001b[1;32m     77\u001b[0m \u001b[0;34m\u001b[0m\u001b[0m\n\u001b[0;32m---> 78\u001b[0;31m \u001b[0margs\u001b[0m\u001b[0;34m,\u001b[0m \u001b[0m_\u001b[0m \u001b[0;34m=\u001b[0m \u001b[0mparser\u001b[0m\u001b[0;34m.\u001b[0m\u001b[0mparse_known_args\u001b[0m\u001b[0;34m(\u001b[0m\u001b[0;34m)\u001b[0m\u001b[0;34m\u001b[0m\u001b[0;34m\u001b[0m\u001b[0m\n\u001b[0m\u001b[1;32m     79\u001b[0m \u001b[0;34m\u001b[0m\u001b[0m\n",
      "\u001b[0;32m~/anaconda3/envs/lidar_pac/lib/python3.9/argparse.py\u001b[0m in \u001b[0;36mparse_known_args\u001b[0;34m(self, args, namespace)\u001b[0m\n\u001b[1;32m   1853\u001b[0m                 \u001b[0merr\u001b[0m \u001b[0;34m=\u001b[0m \u001b[0m_sys\u001b[0m\u001b[0;34m.\u001b[0m\u001b[0mexc_info\u001b[0m\u001b[0;34m(\u001b[0m\u001b[0;34m)\u001b[0m\u001b[0;34m[\u001b[0m\u001b[0;36m1\u001b[0m\u001b[0;34m]\u001b[0m\u001b[0;34m\u001b[0m\u001b[0;34m\u001b[0m\u001b[0m\n\u001b[0;32m-> 1854\u001b[0;31m                 \u001b[0mself\u001b[0m\u001b[0;34m.\u001b[0m\u001b[0merror\u001b[0m\u001b[0;34m(\u001b[0m\u001b[0mstr\u001b[0m\u001b[0;34m(\u001b[0m\u001b[0merr\u001b[0m\u001b[0;34m)\u001b[0m\u001b[0;34m)\u001b[0m\u001b[0;34m\u001b[0m\u001b[0;34m\u001b[0m\u001b[0m\n\u001b[0m\u001b[1;32m   1855\u001b[0m         \u001b[0;32melse\u001b[0m\u001b[0;34m:\u001b[0m\u001b[0;34m\u001b[0m\u001b[0;34m\u001b[0m\u001b[0m\n",
      "\u001b[0;32m~/anaconda3/envs/lidar_pac/lib/python3.9/argparse.py\u001b[0m in \u001b[0;36merror\u001b[0;34m(self, message)\u001b[0m\n\u001b[1;32m   2574\u001b[0m         \u001b[0margs\u001b[0m \u001b[0;34m=\u001b[0m \u001b[0;34m{\u001b[0m\u001b[0;34m'prog'\u001b[0m\u001b[0;34m:\u001b[0m \u001b[0mself\u001b[0m\u001b[0;34m.\u001b[0m\u001b[0mprog\u001b[0m\u001b[0;34m,\u001b[0m \u001b[0;34m'message'\u001b[0m\u001b[0;34m:\u001b[0m \u001b[0mmessage\u001b[0m\u001b[0;34m}\u001b[0m\u001b[0;34m\u001b[0m\u001b[0;34m\u001b[0m\u001b[0m\n\u001b[0;32m-> 2575\u001b[0;31m         \u001b[0mself\u001b[0m\u001b[0;34m.\u001b[0m\u001b[0mexit\u001b[0m\u001b[0;34m(\u001b[0m\u001b[0;36m2\u001b[0m\u001b[0;34m,\u001b[0m \u001b[0m_\u001b[0m\u001b[0;34m(\u001b[0m\u001b[0;34m'%(prog)s: error: %(message)s\\n'\u001b[0m\u001b[0;34m)\u001b[0m \u001b[0;34m%\u001b[0m \u001b[0margs\u001b[0m\u001b[0;34m)\u001b[0m\u001b[0;34m\u001b[0m\u001b[0;34m\u001b[0m\u001b[0m\n\u001b[0m",
      "\u001b[0;32m~/anaconda3/envs/lidar_pac/lib/python3.9/argparse.py\u001b[0m in \u001b[0;36mexit\u001b[0;34m(self, status, message)\u001b[0m\n\u001b[1;32m   2561\u001b[0m             \u001b[0mself\u001b[0m\u001b[0;34m.\u001b[0m\u001b[0m_print_message\u001b[0m\u001b[0;34m(\u001b[0m\u001b[0mmessage\u001b[0m\u001b[0;34m,\u001b[0m \u001b[0m_sys\u001b[0m\u001b[0;34m.\u001b[0m\u001b[0mstderr\u001b[0m\u001b[0;34m)\u001b[0m\u001b[0;34m\u001b[0m\u001b[0;34m\u001b[0m\u001b[0m\n\u001b[0;32m-> 2562\u001b[0;31m         \u001b[0m_sys\u001b[0m\u001b[0;34m.\u001b[0m\u001b[0mexit\u001b[0m\u001b[0;34m(\u001b[0m\u001b[0mstatus\u001b[0m\u001b[0;34m)\u001b[0m\u001b[0;34m\u001b[0m\u001b[0;34m\u001b[0m\u001b[0m\n\u001b[0m\u001b[1;32m   2563\u001b[0m \u001b[0;34m\u001b[0m\u001b[0m\n",
      "\u001b[0;31mSystemExit\u001b[0m: 2",
      "\nDuring handling of the above exception, another exception occurred:\n",
      "\u001b[0;31mTypeError\u001b[0m                                 Traceback (most recent call last)",
      "    \u001b[0;31m[... skipping hidden 1 frame]\u001b[0m\n",
      "\u001b[0;32m~/anaconda3/envs/lidar_pac/lib/python3.9/site-packages/IPython/core/interactiveshell.py\u001b[0m in \u001b[0;36mshowtraceback\u001b[0;34m(self, exc_tuple, filename, tb_offset, exception_only, running_compiled_code)\u001b[0m\n\u001b[1;32m   2052\u001b[0m                     stb = ['An exception has occurred, use %tb to see '\n\u001b[1;32m   2053\u001b[0m                            'the full traceback.\\n']\n\u001b[0;32m-> 2054\u001b[0;31m                     stb.extend(self.InteractiveTB.get_exception_only(etype,\n\u001b[0m\u001b[1;32m   2055\u001b[0m                                                                      value))\n\u001b[1;32m   2056\u001b[0m                 \u001b[0;32melse\u001b[0m\u001b[0;34m:\u001b[0m\u001b[0;34m\u001b[0m\u001b[0;34m\u001b[0m\u001b[0m\n",
      "\u001b[0;32m~/anaconda3/envs/lidar_pac/lib/python3.9/site-packages/IPython/core/ultratb.py\u001b[0m in \u001b[0;36mget_exception_only\u001b[0;34m(self, etype, value)\u001b[0m\n\u001b[1;32m    752\u001b[0m         \u001b[0mvalue\u001b[0m \u001b[0;34m:\u001b[0m \u001b[0mexception\u001b[0m \u001b[0mvalue\u001b[0m\u001b[0;34m\u001b[0m\u001b[0;34m\u001b[0m\u001b[0m\n\u001b[1;32m    753\u001b[0m         \"\"\"\n\u001b[0;32m--> 754\u001b[0;31m         \u001b[0;32mreturn\u001b[0m \u001b[0mListTB\u001b[0m\u001b[0;34m.\u001b[0m\u001b[0mstructured_traceback\u001b[0m\u001b[0;34m(\u001b[0m\u001b[0mself\u001b[0m\u001b[0;34m,\u001b[0m \u001b[0metype\u001b[0m\u001b[0;34m,\u001b[0m \u001b[0mvalue\u001b[0m\u001b[0;34m)\u001b[0m\u001b[0;34m\u001b[0m\u001b[0;34m\u001b[0m\u001b[0m\n\u001b[0m\u001b[1;32m    755\u001b[0m \u001b[0;34m\u001b[0m\u001b[0m\n\u001b[1;32m    756\u001b[0m     \u001b[0;32mdef\u001b[0m \u001b[0mshow_exception_only\u001b[0m\u001b[0;34m(\u001b[0m\u001b[0mself\u001b[0m\u001b[0;34m,\u001b[0m \u001b[0metype\u001b[0m\u001b[0;34m,\u001b[0m \u001b[0mevalue\u001b[0m\u001b[0;34m)\u001b[0m\u001b[0;34m:\u001b[0m\u001b[0;34m\u001b[0m\u001b[0;34m\u001b[0m\u001b[0m\n",
      "\u001b[0;32m~/anaconda3/envs/lidar_pac/lib/python3.9/site-packages/IPython/core/ultratb.py\u001b[0m in \u001b[0;36mstructured_traceback\u001b[0;34m(self, etype, evalue, etb, tb_offset, context)\u001b[0m\n\u001b[1;32m    627\u001b[0m             \u001b[0mchained_exceptions_tb_offset\u001b[0m \u001b[0;34m=\u001b[0m \u001b[0;36m0\u001b[0m\u001b[0;34m\u001b[0m\u001b[0;34m\u001b[0m\u001b[0m\n\u001b[1;32m    628\u001b[0m             out_list = (\n\u001b[0;32m--> 629\u001b[0;31m                 self.structured_traceback(\n\u001b[0m\u001b[1;32m    630\u001b[0m                     \u001b[0metype\u001b[0m\u001b[0;34m,\u001b[0m \u001b[0mevalue\u001b[0m\u001b[0;34m,\u001b[0m \u001b[0;34m(\u001b[0m\u001b[0metb\u001b[0m\u001b[0;34m,\u001b[0m \u001b[0mchained_exc_ids\u001b[0m\u001b[0;34m)\u001b[0m\u001b[0;34m,\u001b[0m\u001b[0;34m\u001b[0m\u001b[0;34m\u001b[0m\u001b[0m\n\u001b[1;32m    631\u001b[0m                     chained_exceptions_tb_offset, context)\n",
      "\u001b[0;32m~/anaconda3/envs/lidar_pac/lib/python3.9/site-packages/IPython/core/ultratb.py\u001b[0m in \u001b[0;36mstructured_traceback\u001b[0;34m(self, etype, value, tb, tb_offset, number_of_lines_of_context)\u001b[0m\n\u001b[1;32m   1365\u001b[0m         \u001b[0;32melse\u001b[0m\u001b[0;34m:\u001b[0m\u001b[0;34m\u001b[0m\u001b[0;34m\u001b[0m\u001b[0m\n\u001b[1;32m   1366\u001b[0m             \u001b[0mself\u001b[0m\u001b[0;34m.\u001b[0m\u001b[0mtb\u001b[0m \u001b[0;34m=\u001b[0m \u001b[0mtb\u001b[0m\u001b[0;34m\u001b[0m\u001b[0;34m\u001b[0m\u001b[0m\n\u001b[0;32m-> 1367\u001b[0;31m         return FormattedTB.structured_traceback(\n\u001b[0m\u001b[1;32m   1368\u001b[0m             self, etype, value, tb, tb_offset, number_of_lines_of_context)\n\u001b[1;32m   1369\u001b[0m \u001b[0;34m\u001b[0m\u001b[0m\n",
      "\u001b[0;32m~/anaconda3/envs/lidar_pac/lib/python3.9/site-packages/IPython/core/ultratb.py\u001b[0m in \u001b[0;36mstructured_traceback\u001b[0;34m(self, etype, value, tb, tb_offset, number_of_lines_of_context)\u001b[0m\n\u001b[1;32m   1265\u001b[0m         \u001b[0;32mif\u001b[0m \u001b[0mmode\u001b[0m \u001b[0;32min\u001b[0m \u001b[0mself\u001b[0m\u001b[0;34m.\u001b[0m\u001b[0mverbose_modes\u001b[0m\u001b[0;34m:\u001b[0m\u001b[0;34m\u001b[0m\u001b[0;34m\u001b[0m\u001b[0m\n\u001b[1;32m   1266\u001b[0m             \u001b[0;31m# Verbose modes need a full traceback\u001b[0m\u001b[0;34m\u001b[0m\u001b[0;34m\u001b[0m\u001b[0;34m\u001b[0m\u001b[0m\n\u001b[0;32m-> 1267\u001b[0;31m             return VerboseTB.structured_traceback(\n\u001b[0m\u001b[1;32m   1268\u001b[0m                 \u001b[0mself\u001b[0m\u001b[0;34m,\u001b[0m \u001b[0metype\u001b[0m\u001b[0;34m,\u001b[0m \u001b[0mvalue\u001b[0m\u001b[0;34m,\u001b[0m \u001b[0mtb\u001b[0m\u001b[0;34m,\u001b[0m \u001b[0mtb_offset\u001b[0m\u001b[0;34m,\u001b[0m \u001b[0mnumber_of_lines_of_context\u001b[0m\u001b[0;34m\u001b[0m\u001b[0;34m\u001b[0m\u001b[0m\n\u001b[1;32m   1269\u001b[0m             )\n",
      "\u001b[0;32m~/anaconda3/envs/lidar_pac/lib/python3.9/site-packages/IPython/core/ultratb.py\u001b[0m in \u001b[0;36mstructured_traceback\u001b[0;34m(self, etype, evalue, etb, tb_offset, number_of_lines_of_context)\u001b[0m\n\u001b[1;32m   1122\u001b[0m         \u001b[0;34m\"\"\"Return a nice text document describing the traceback.\"\"\"\u001b[0m\u001b[0;34m\u001b[0m\u001b[0;34m\u001b[0m\u001b[0m\n\u001b[1;32m   1123\u001b[0m \u001b[0;34m\u001b[0m\u001b[0m\n\u001b[0;32m-> 1124\u001b[0;31m         formatted_exception = self.format_exception_as_a_whole(etype, evalue, etb, number_of_lines_of_context,\n\u001b[0m\u001b[1;32m   1125\u001b[0m                                                                tb_offset)\n\u001b[1;32m   1126\u001b[0m \u001b[0;34m\u001b[0m\u001b[0m\n",
      "\u001b[0;32m~/anaconda3/envs/lidar_pac/lib/python3.9/site-packages/IPython/core/ultratb.py\u001b[0m in \u001b[0;36mformat_exception_as_a_whole\u001b[0;34m(self, etype, evalue, etb, number_of_lines_of_context, tb_offset)\u001b[0m\n\u001b[1;32m   1080\u001b[0m \u001b[0;34m\u001b[0m\u001b[0m\n\u001b[1;32m   1081\u001b[0m \u001b[0;34m\u001b[0m\u001b[0m\n\u001b[0;32m-> 1082\u001b[0;31m         \u001b[0mlast_unique\u001b[0m\u001b[0;34m,\u001b[0m \u001b[0mrecursion_repeat\u001b[0m \u001b[0;34m=\u001b[0m \u001b[0mfind_recursion\u001b[0m\u001b[0;34m(\u001b[0m\u001b[0morig_etype\u001b[0m\u001b[0;34m,\u001b[0m \u001b[0mevalue\u001b[0m\u001b[0;34m,\u001b[0m \u001b[0mrecords\u001b[0m\u001b[0;34m)\u001b[0m\u001b[0;34m\u001b[0m\u001b[0;34m\u001b[0m\u001b[0m\n\u001b[0m\u001b[1;32m   1083\u001b[0m \u001b[0;34m\u001b[0m\u001b[0m\n\u001b[1;32m   1084\u001b[0m         \u001b[0mframes\u001b[0m \u001b[0;34m=\u001b[0m \u001b[0mself\u001b[0m\u001b[0;34m.\u001b[0m\u001b[0mformat_records\u001b[0m\u001b[0;34m(\u001b[0m\u001b[0mrecords\u001b[0m\u001b[0;34m,\u001b[0m \u001b[0mlast_unique\u001b[0m\u001b[0;34m,\u001b[0m \u001b[0mrecursion_repeat\u001b[0m\u001b[0;34m)\u001b[0m\u001b[0;34m\u001b[0m\u001b[0;34m\u001b[0m\u001b[0m\n",
      "\u001b[0;32m~/anaconda3/envs/lidar_pac/lib/python3.9/site-packages/IPython/core/ultratb.py\u001b[0m in \u001b[0;36mfind_recursion\u001b[0;34m(etype, value, records)\u001b[0m\n\u001b[1;32m    380\u001b[0m     \u001b[0;31m# first frame (from in to out) that looks different.\u001b[0m\u001b[0;34m\u001b[0m\u001b[0;34m\u001b[0m\u001b[0;34m\u001b[0m\u001b[0m\n\u001b[1;32m    381\u001b[0m     \u001b[0;32mif\u001b[0m \u001b[0;32mnot\u001b[0m \u001b[0mis_recursion_error\u001b[0m\u001b[0;34m(\u001b[0m\u001b[0metype\u001b[0m\u001b[0;34m,\u001b[0m \u001b[0mvalue\u001b[0m\u001b[0;34m,\u001b[0m \u001b[0mrecords\u001b[0m\u001b[0;34m)\u001b[0m\u001b[0;34m:\u001b[0m\u001b[0;34m\u001b[0m\u001b[0;34m\u001b[0m\u001b[0m\n\u001b[0;32m--> 382\u001b[0;31m         \u001b[0;32mreturn\u001b[0m \u001b[0mlen\u001b[0m\u001b[0;34m(\u001b[0m\u001b[0mrecords\u001b[0m\u001b[0;34m)\u001b[0m\u001b[0;34m,\u001b[0m \u001b[0;36m0\u001b[0m\u001b[0;34m\u001b[0m\u001b[0;34m\u001b[0m\u001b[0m\n\u001b[0m\u001b[1;32m    383\u001b[0m \u001b[0;34m\u001b[0m\u001b[0m\n\u001b[1;32m    384\u001b[0m     \u001b[0;31m# Select filename, lineno, func_name to track frames with\u001b[0m\u001b[0;34m\u001b[0m\u001b[0;34m\u001b[0m\u001b[0;34m\u001b[0m\u001b[0m\n",
      "\u001b[0;31mTypeError\u001b[0m: object of type 'NoneType' has no len()"
     ]
    }
   ],
   "source": [
    "# We import functions from github repository\n",
    "import sys\n",
    "sys.path.append(\"..\")\n",
    "\n",
    "from config import args\n",
    "from model.model import PointNet\n",
    "from utils.point_cloud_classifier import PointCloudClassifier\n",
    "from utils.useful_functions import *\n",
    "from data_loader.loader import *\n",
    "from utils.open_las import open_las, open_metadata_dataframe\n",
    "from model.loss_functions import *\n",
    "from model.accuracy import *\n",
    "from em_gamma.get_gamma_parameters_em import *\n",
    "\n",
    "print(\"Everything is imported\")"
   ]
  },
  {
   "cell_type": "code",
   "execution_count": null,
   "id": "5a3d6ec4",
   "metadata": {},
   "outputs": [],
   "source": []
  },
  {
   "cell_type": "code",
   "execution_count": 3,
   "id": "ee4679eb",
   "metadata": {},
   "outputs": [
    {
     "name": "stdout",
     "output_type": "stream",
     "text": [
      "14:44:32\n",
      "Results folder:  /home/CGaydon/Documents/LIDAR PAC/plot_vegetation_coverage/experiments/RESULTS_3_strata/only_stratum/2021-05-26_16h44m32s/\n",
      "   COUV_BASSE  COUV_SOL  COUV_INTER  COUV_RESSO  COUV_HAUTE  NON_ACC_1  \\\n",
      "0          90        10          25          90          10          0   \n",
      "1          25        75          10          25           0          0   \n",
      "2         100         0          10         100          10          0   \n",
      "3         100         0           0         100           0          0   \n",
      "4          50        50          10          50           0          0   \n",
      "\n",
      "   NON_ACC_2  NON_ACC1_2  OBS              Name  couv_bas_1  couv_int  ADM  \n",
      "0          0           0  NaN  2021_POINT_OBS 1        78.6      19.4   90  \n",
      "1          0           0  NaN  2021_POINT_OBS 2        20.6       7.4   25  \n",
      "2          0           0  NaN  2021_POINT_OBS 3       100.0      23.0  100  \n",
      "3          0           0  NaN  2021_POINT_OBS 4        98.3       5.1  100  \n",
      "4          0           0  NaN  2021_POINT_OBS 5        58.8      17.3   50  \n",
      "Our dataset contains 199 plots.\n"
     ]
    }
   ],
   "source": [
    "# Create the result folder\n",
    "create_new_experiment_folder(args)  # new paths are added to args\n",
    "# Load groun truth csv file\n",
    "# Name, 'COUV_BASSE', 'COUV_SOL', 'COUV_INTER', 'COUV_HAUTE', 'ADM'\n",
    "df_gt, placettes_names = open_metadata_dataframe(args)\n",
    "print(df_gt.head())\n",
    "# Load Las files for placettes\n",
    "all_points, dataset, mean_dataset = open_las(args.dataset_folder_path)\n",
    "print(\"Our dataset contains \" + str(len(dataset)) + \" plots.\" )"
   ]
  },
  {
   "cell_type": "code",
   "execution_count": 9,
   "id": "e06f64f7",
   "metadata": {
    "scrolled": true
   },
   "outputs": [
    {
     "name": "stdout",
     "output_type": "stream",
     "text": [
      "Namespace(path='/home/CGaydon/Documents/LIDAR PAC/plot_vegetation_coverage', dataset_folder_path='/home/CGaydon/Documents/LIDAR PAC/plot_vegetation_coverage/data/placettes_dataset_20210526/', gt_file_path='/home/CGaydon/Documents/LIDAR PAC/plot_vegetation_coverage/data/placettes_dataset_20210526/placettes_metadata.csv', cuda=0, folds=5, coln_mapper_dict={'nom': 'Name'}, n_class=4, input_feats='xyzrgbnir', subsample_size=4096, diam_pix=32, m=1, norm_ground=True, adm=False, nb_stratum=3, ECM_ite_max=5, NR_ite_max=10, MLP_1=[32, 32], MLP_2=[64, 128], MLP_3=[64, 32], drop=0.4, soft=True, wd=0.001, lr=0.001, step_size=50, lr_decay=0.1, n_epoch=2, n_epoch_test=1, batch_size=20, results_path='/home/CGaydon/Documents/LIDAR PAC/plot_vegetation_coverage/experiments/RESULTS_3_strata/only_stratum/', stats_path='/home/CGaydon/Documents/LIDAR PAC/plot_vegetation_coverage/experiments/RESULTS_3_strata/only_stratum/2021-05-26_16h44m32s/', stats_file='/home/CGaydon/Documents/LIDAR PAC/plot_vegetation_coverage/experiments/RESULTS_3_strata/only_stratum/2021-05-26_16h44m32s/stats.txt', z_max=24.140000000000043, n_input_feats=9)\n",
      "Computing gamma mixture (should only happen once)\n",
      "Likelihood at init: 0.444\n",
      "    NR it 0 - obj = 1.762 -0.287\n",
      "    NR it 1 - obj = 0.695 0.119\n",
      "    NR it 2 - obj = 0.193 0.011\n",
      "    NR it 3 - obj = 0.023 0.000\n",
      "    NR it 4 - obj = 0.000 0.000\n",
      "Newton Rachson terminated\n",
      "Likelihood at ite 0: 1.686\n",
      "    NR it 0 - obj = 3.004 0.039\n",
      "    NR it 1 - obj = 1.248 0.002\n",
      "    NR it 2 - obj = 0.399 0.000\n",
      "    NR it 3 - obj = 0.068 0.000\n",
      "    NR it 4 - obj = 0.003 0.000\n",
      "    NR it 5 - obj = 0.000 -0.000\n",
      "Newton Rachson terminated\n",
      "Likelihood at ite 1: 1.455\n",
      "    NR it 0 - obj = 1.170 0.031\n",
      "    NR it 1 - obj = 0.378 0.001\n",
      "    NR it 2 - obj = 0.065 0.000\n",
      "    NR it 3 - obj = 0.003 0.000\n",
      "    NR it 4 - obj = 0.000 -0.000\n",
      "Newton Rachson terminated\n",
      "Likelihood at ite 2: 1.477\n",
      "    NR it 0 - obj = 1.573 0.009\n",
      "    NR it 1 - obj = 0.556 0.000\n",
      "    NR it 2 - obj = 0.120 0.000\n",
      "    NR it 3 - obj = 0.008 0.000\n",
      "    NR it 4 - obj = 0.000 0.000\n",
      "Newton Rachson terminated\n",
      "Likelihood at ite 3: 1.441\n",
      "    NR it 0 - obj = 1.096 0.030\n",
      "    NR it 1 - obj = 0.341 0.001\n",
      "    NR it 2 - obj = 0.054 0.000\n",
      "    NR it 3 - obj = 0.002 0.000\n",
      "    NR it 4 - obj = 0.000 0.000\n",
      "Newton Rachson terminated\n",
      "Likelihood at ite 4: 1.444\n",
      "{'phi': 0.5383159155842648, 'a_g': 0.24155521382678039, 'a_v': 3.6542990237688864, 'loc_g': 0, 'loc_v': 0, 'scale_g': 0.49477586317387146, 'scale_v': 1.4962798732396112}\n"
     ]
    }
   ],
   "source": [
    "# Fit a mixture of 2 gamma distribution if not already done\n",
    "\n",
    "z_all = all_points[:, 2]\n",
    "args.z_max = np.max(z_all)   # maximum z value for data normalization, obtained from the normalized dataset analysis\n",
    "args.n_input_feats = len(args.input_feats)  # number of input features\n",
    "print_stats(args.stats_file, str(args), print_to_console=True)  # save all the args parameters\n",
    "\n",
    "params = run_or_load_em_analysis(z_all, args)\n",
    "print_stats(args.stats_file, str(params), print_to_console=True)"
   ]
  },
  {
   "cell_type": "code",
   "execution_count": 13,
   "id": "35faf8f2",
   "metadata": {},
   "outputs": [
    {
     "data": {
      "text/html": [
       "<div>\n",
       "<style scoped>\n",
       "    .dataframe tbody tr th:only-of-type {\n",
       "        vertical-align: middle;\n",
       "    }\n",
       "\n",
       "    .dataframe tbody tr th {\n",
       "        vertical-align: top;\n",
       "    }\n",
       "\n",
       "    .dataframe thead th {\n",
       "        text-align: right;\n",
       "    }\n",
       "</style>\n",
       "<table border=\"1\" class=\"dataframe\">\n",
       "  <thead>\n",
       "    <tr style=\"text-align: right;\">\n",
       "      <th></th>\n",
       "      <th>COUV_BASSE</th>\n",
       "      <th>COUV_SOL</th>\n",
       "      <th>COUV_INTER</th>\n",
       "      <th>COUV_RESSO</th>\n",
       "      <th>COUV_HAUTE</th>\n",
       "      <th>NON_ACC_1</th>\n",
       "      <th>NON_ACC_2</th>\n",
       "      <th>NON_ACC1_2</th>\n",
       "      <th>OBS</th>\n",
       "      <th>Name</th>\n",
       "      <th>couv_bas_1</th>\n",
       "      <th>couv_int</th>\n",
       "      <th>ADM</th>\n",
       "    </tr>\n",
       "  </thead>\n",
       "  <tbody>\n",
       "  </tbody>\n",
       "</table>\n",
       "</div>"
      ],
      "text/plain": [
       "Empty DataFrame\n",
       "Columns: [COUV_BASSE, COUV_SOL, COUV_INTER, COUV_RESSO, COUV_HAUTE, NON_ACC_1, NON_ACC_2, NON_ACC1_2, OBS, Name, couv_bas_1, couv_int, ADM]\n",
       "Index: []"
      ]
     },
     "execution_count": 13,
     "metadata": {},
     "output_type": "execute_result"
    }
   ],
   "source": [
    "df_gt[df_gt[\"Name\"].isin(dataset.keys())]"
   ]
  },
  {
   "cell_type": "code",
   "execution_count": 16,
   "id": "a65f9720",
   "metadata": {},
   "outputs": [
    {
     "data": {
      "text/plain": [
       "dict_keys(['2021_POINT_OBS101', 'POINT_OBS106', '2021_POINT_OBS28', '2021_POINT_OBS88', 'POINT_OBS101', '2021_POINT_OBS96', 'POINT_OBS23', '2021_POINT_OBS36', '2021_POINT_OBS22', 'POINT_OBS24', '2021_POINT_OBS9', '2021_POINT_OBS40', '2021_POINT_OBS105', '2021_POINT_OBS64', 'Releve_Lidar_F15', 'POINT_OBS64', '2021_POINT_OBS53', 'Releve_Lidar_F110', 'POINT_OBS11', '2021_POINT_OBS74', 'Releve_Lidar_F65', '2021_POINT_OBS6', 'POINT_OBS67', 'Releve_Lidar_F99', 'Releve_Lidar_F25', '2021_POINT_OBS3', '2021_POINT_OBS55', '2021_POINT_OBS65', 'POINT_OBS38', '2021_POINT_OBS77', 'Releve_Lidar_F46', 'Releve_Lidar_F68', '2021_POINT_OBS92', '2021_POINT_OBS4', 'POINT_OBS40', 'POINT_OBS58', 'POINT_OBS96', 'POINT_OBS35', '2021_POINT_OBS59', 'POINT_OBS59', '2021_POINT_OBS8', 'Releve_Lidar_F89', 'POINT_OBS30', 'POINT_OBS48', 'POINT_OBS28', '2021_POINT_OBS31', 'Releve_Lidar_F102', '2021_POINT_OBS19', '2021_POINT_OBS67', '2021_POINT_OBS7', 'POINT_OBS_8', 'Releve_Lidar_F75', 'Releve_Lidar_F69', '2021_POINT_OBS86', '2021_POINT_OBS89', '2021_POINT_OBS60', 'Releve_Lidar_F73', '2021_POINT_OBS91', '2021_POINT_OBS1', '2021_POINT_OBS33', 'Releve_Lidar_F74', 'Releve_Lidar_F52', 'Releve_Lidar_F14', 'Releve_Lidar_F12', 'Releve_Lidar_F55', '2021_POINT_OBS100', 'Releve_Lidar_F39', 'Releve_Lidar_F107', '2021_POINT_OBS52', 'Releve_Lidar_F60', 'Releve_Lidar_F80', '2021_POINT_OBS42', '2021_POINT_OBS103', 'POINT_OBS71', 'Releve_Lidar_F37', 'Releve_Lidar_F88', 'POINT_OBS81', 'POINT_OBS32', '2021_POINT_OBS21', 'POINT_OBS87', 'Releve_Lidar_F54', 'POINT_OBS41', 'POINT_OBS33', 'POINT_OBS90', 'Releve_Lidar_F93', 'POINT_OBS10', 'POINT_OBS86', 'POINT_OBS111', 'POINT_OBS110', '2021_POINT_OBS97', 'Releve_Lidar_F103', 'Releve_Lidar_F105', '2021_POINT_OBS51', 'Releve_Lidar_F36', '2021_POINT_OBS10', '2021_POINT_OBS54', '2021_POINT_OBS17', '2021_POINT_OBS32', '2021_POINT_OBS46', 'POINT_OBS_7', '2021_POINT_OBS76', '2021_POINT_OBS58', '2021_POINT_OBS48', 'POINT_OBS34', 'POINT_OBS57', '2021_POINT_OBS34', '2021_POINT_OBS104', '2021_POINT_OBS47', '2021_POINT_OBS41', '2021_POINT_OBS95', '2021_POINT_OBS50', 'POINT_OBS17', 'POINT_OBS114', '2021_POINT_OBS107', '2021_POINT_OBS79', 'Releve_Lidar_F63', '2021_POINT_OBS93', '2021_POINT_OBS57', '2021_POINT_OBS25', 'POINT_OBS97', '2021_POINT_OBS49', '2021_POINT_OBS99', '2021_POINT_OBS11', '2021_POINT_OBS78', '2021_POINT_OBS20', 'Releve_Lidar_F_20', 'POINT_OBS61', 'Releve_Lidar_F22', 'POINT_OBS109', '2021_POINT_OBS68', 'Releve_Lidar_F92', 'POINT_OBS21', 'POINT_OBS104', '2021_POINT_OBS2', '2021_POINT_OBS29', 'Releve_Lidar_F94', 'Releve_Lidar_F26', '2021_POINT_OBS44', '2021_POINT_OBS98', '2021_POINT_OBS69', 'Releve_Lidar_F82', '2021_POINT_OBS24', 'Releve_Lidar_F50', '2021_POINT_OBS16', 'POINT_OBS29', '2021_POINT_OBS18', 'Releve_Lidar_F17', 'Releve_Lidar_F76', 'Releve_Lidar_F72', 'Releve_Lidar_F70', '2021_POINT_OBS81', '2021_POINT_OBS70', '2021_POINT_OBS94', '2021_POINT_OBS35', 'Releve_Lidar_F51', '2021_POINT_OBS87', 'POINT_OBS_19', 'Releve_Lidar_F79', 'POINT_OBS78', '2021_POINT_OBS56', '2021_POINT_OBS73', 'POINT_OBS12', '2021_POINT_OBS15', 'Releve_Lidar_F43', '2021_POINT_OBS5', 'Releve_Lidar_F62', 'POINT_OBS9', '2021_POINT_OBS83', 'POINT_OBS15', 'Releve_Lidar_F49', '2021_POINT_OBS66', '2021_POINT_OBS37', '2021_POINT_OBS108', '2021_POINT_OBS82', 'Releve_Lidar_F44', 'Releve_Lidar_F47', 'Releve_Lidar_F91', 'POINT_OBS45', 'POINT_OBS85', 'Releve_Lidar_F100', '2021_POINT_OBS80', 'POINT_OBS42', '2021_POINT_OBS26', 'Releve_Lidar_F77', '2021_POINT_OBS72', '2021_POINT_OBS102', '2021_POINT_OBS30', 'Releve_Lidar_F106', '2021_POINT_OBS90', 'Releve_Lidar_F56', 'Releve_Lidar_F53', 'Releve_Lidar_F31', '2021_POINT_OBS43', '2021_POINT_OBS27', 'POINT_OBS18', 'POINT_OBS113', 'POINT_OBS98', 'POINT_OBS95', '2021_POINT_OBS71'])"
      ]
     },
     "execution_count": 16,
     "metadata": {},
     "output_type": "execute_result"
    }
   ],
   "source": [
    "dataset.keys()"
   ]
  },
  {
   "cell_type": "code",
   "execution_count": 18,
   "id": "7d27a588",
   "metadata": {},
   "outputs": [
    {
     "data": {
      "text/plain": [
       "'2021_POINT_OBS 1'"
      ]
     },
     "execution_count": 18,
     "metadata": {},
     "output_type": "execute_result"
    }
   ],
   "source": [
    "df_gt[\"Name\"].loc[0]"
   ]
  }
 ],
 "metadata": {
  "kernelspec": {
   "display_name": "Python 3",
   "language": "python",
   "name": "python3"
  },
  "language_info": {
   "codemirror_mode": {
    "name": "ipython",
    "version": 3
   },
   "file_extension": ".py",
   "mimetype": "text/x-python",
   "name": "python",
   "nbconvert_exporter": "python",
   "pygments_lexer": "ipython3",
   "version": "3.9.4"
  }
 },
 "nbformat": 4,
 "nbformat_minor": 5
}
