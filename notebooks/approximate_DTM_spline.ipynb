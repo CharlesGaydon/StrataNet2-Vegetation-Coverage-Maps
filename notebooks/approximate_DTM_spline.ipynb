{
 "cells": [
  {
   "cell_type": "code",
   "execution_count": 1,
   "id": "3ecb457a",
   "metadata": {
    "ExecuteTime": {
     "end_time": "2021-07-02T13:54:04.833577Z",
     "start_time": "2021-07-02T13:54:02.398075Z"
    },
    "init_cell": true
   },
   "outputs": [
    {
     "name": "stdout",
     "output_type": "stream",
     "text": [
      "Dataset folder in use: /home/CGaydon/Documents/LIDAR PAC/plot_vegetation_coverage/data/\n",
      "Arguments were imported in DEV mode\n"
     ]
    }
   ],
   "source": [
    "import matplotlib.pyplot as plt\n",
    "import numpy as np\n",
    "from random import random, shuffle\n",
    "\n",
    "from scipy.integrate import simps\n",
    "import pandas as pd\n",
    "import sys\n",
    "import math\n",
    "from mpl_toolkits import mplot3d\n",
    "%matplotlib inline\n",
    "import numpy as np\n",
    "import matplotlib.pyplot as plt\n",
    "from scipy import interpolate\n",
    "import seaborn as sns\n",
    "\n",
    "sys.path.append(\"..\")\n",
    "from utils.load_las_data import normalize_z_with_minz_in_a_radius\n",
    "\n",
    "from config import args\n",
    "from utils.load_las_data import *\n",
    "from utils.useful_functions import *\n",
    "import os\n",
    "import numpy as np; np. set_printoptions(suppress=True);  # display values without scientific notation\n",
    "import pandas as pd\n",
    "from laspy.file import File\n",
    "from sklearn.neighbors import NearestNeighbors\n",
    "import warnings\n",
    "import random"
   ]
  },
  {
   "cell_type": "code",
   "execution_count": 2,
   "id": "ed0c07ff",
   "metadata": {
    "ExecuteTime": {
     "end_time": "2021-07-02T13:54:04.850839Z",
     "start_time": "2021-07-02T13:54:04.837741Z"
    },
    "init_cell": true
   },
   "outputs": [],
   "source": [
    "def load_and_clean_single_las(las_filename):\n",
    "    \"\"\"Load a LAD file into a np.array, convert coordinates to meters, clean a few anomalies in plots.\"\"\"\n",
    "    # Parse LAS files\n",
    "    las = File(las_filename, mode=\"r\")\n",
    "    x_las = las.X / 100  # we divide by 100 as all the values in las are in cm\n",
    "    y_las = las.Y / 100\n",
    "    z_las = las.Z / 100\n",
    "    r = las.Red\n",
    "    g = las.Green\n",
    "    b = las.Blue\n",
    "    nir = las.nir\n",
    "    intensity = las.intensity\n",
    "    return_num = las.return_num\n",
    "    num_returns = las.num_returns\n",
    "    points_nparray = np.asarray(\n",
    "        [x_las, y_las, z_las, r, g, b, nir, intensity, return_num, num_returns]\n",
    "    ).T\n",
    "\n",
    "    # There is a file with 2 points 60m above others (maybe birds), we delete these points\n",
    "    if las_filename.endswith(\"Releve_Lidar_F70.las\"):\n",
    "        points_nparray = points_nparray[points_nparray[:, 2] < 640]\n",
    "    # We do the same for the intensity\n",
    "    if las_filename.endswith(\"POINT_OBS8.las\"):\n",
    "        points_nparray = points_nparray[points_nparray[:, -2] < 32768]\n",
    "    if las_filename.endswith(\"Releve_Lidar_F39.las\"):\n",
    "        points_nparray = points_nparray[points_nparray[:, -2] < 20000]\n",
    "\n",
    "    # get the center of a rectangle bounding the points\n",
    "    xy_centers = [\n",
    "        (x_las.max() - x_las.min()) / 2.0,\n",
    "        (y_las.max() - y_las.min()) / 2.0,\n",
    "    ]\n",
    "    return points_nparray, xy_centers"
   ]
  },
  {
   "cell_type": "code",
   "execution_count": 3,
   "id": "fa7a5414",
   "metadata": {
    "ExecuteTime": {
     "end_time": "2021-07-02T13:54:04.873034Z",
     "start_time": "2021-07-02T13:54:04.856448Z"
    },
    "init_cell": true
   },
   "outputs": [],
   "source": [
    "def load_my_data(args):\n",
    "\n",
    "    # We open las files and create a training dataset\n",
    "    nparray_clouds_dict = {}  # dict to store numpy array with each plot separately\n",
    "    xy_centers_dict = (\n",
    "        {}\n",
    "    )  # we keep track of plots means to reverse the normalisation in the future\n",
    "\n",
    "    # We iterate through las files and transform them to np array\n",
    "    las_filenames = get_files_of_type_in_folder(args.las_placettes_folder_path, \".las\")\n",
    "\n",
    "\n",
    "    all_points_nparray = np.empty((0, len(args.input_feats) - 1))\n",
    "    for las_filename in las_filenames:\n",
    "        # Parse LAS files\n",
    "        points_nparray, xy_centers = load_and_clean_single_las(las_filename)\n",
    "#         points_nparray = transform_features_of_plot_cloud(\n",
    "#             points_nparray, args\n",
    "#         )\n",
    "        all_points_nparray = np.append(all_points_nparray, points_nparray, axis=0)\n",
    "        plot_name = get_filename_no_extension(las_filename)\n",
    "        nparray_clouds_dict[plot_name] = points_nparray\n",
    "        xy_centers_dict[plot_name] = xy_centers\n",
    "\n",
    "    return all_points_nparray, nparray_clouds_dict, xy_centers_dict"
   ]
  },
  {
   "cell_type": "code",
   "execution_count": 4,
   "id": "8caec6fd",
   "metadata": {
    "ExecuteTime": {
     "end_time": "2021-07-02T13:54:04.891902Z",
     "start_time": "2021-07-02T13:54:04.874540Z"
    },
    "init_cell": true
   },
   "outputs": [],
   "source": [
    "def select_my_clouds():\n",
    "    # F49 = nparray_clouds_dict[\"Releve_Lidar_F49\"][:,:3]\n",
    "    # F68 = nparray_clouds_dict[\"Releve_Lidar_F68\"][:,:3]  # Vm everywhere\n",
    "    # OBS_2021_6 = nparray_clouds_dict[\"2021_POINT_OBS6\"][:,:3]  # \"hyper flag en termes de MNT\"\n",
    "    # F20 = nparray_clouds_dict[\"Releve_Lidar_F20\"][:,:3]  # \"hyper flag en termes de MNT\"\n",
    "\n",
    "    plots_of_interest = [\n",
    "        \"Releve_Lidar_F69\",\n",
    "        \"2021_POINT_OBS9\",  # grass 100%, high slope: 0-3m to 0-0.4cm slope with 1.5\n",
    "        \"Releve_Lidar_F49\",  # loads of high vegetation. Ok with 1.5m\n",
    "        \"Releve_Lidar_F68\",  # dense bushes. Ok with 1.5 : adds contrast.\n",
    "        \"2021_POINT_OBS6\",  # 75% grass (subestimation of model). might add contrats linked to grass\n",
    "        \"Releve_Lidar_F20\",  # 75% grass, 25% mid veg. ok,\n",
    "        \"2021_POINT_OBS59\",\n",
    "    ]\n",
    "    # focus on medium veg\n",
    "    plots_of_interest = plots_of_interest + []\n",
    "    selection = {\n",
    "        key: value\n",
    "        for key, value in nparray_clouds_dict.items()\n",
    "        if key in plots_of_interest\n",
    "    }\n",
    "    return selection"
   ]
  },
  {
   "cell_type": "code",
   "execution_count": 5,
   "id": "e4f3eef6",
   "metadata": {
    "ExecuteTime": {
     "end_time": "2021-07-02T13:54:04.924579Z",
     "start_time": "2021-07-02T13:54:04.893490Z"
    },
    "init_cell": true
   },
   "outputs": [],
   "source": [
    "# %matplotlib notebook\n",
    "def plot_norm_impact(cloud, cloud_norm, title, output_path):\n",
    "    cloud[:,2] = cloud[:,2] - np.min(cloud[:,2])\n",
    "    \n",
    "    fig = plt.figure(figsize=plt.figaspect(0.8) * 2.5)\n",
    "    fig.patch.set_facecolor('#E0E0E0')\n",
    "    fig.patch.set_alpha(0.7)\n",
    "    fig.suptitle(title)\n",
    "\n",
    "    # without norm\n",
    "    ax = fig.add_subplot(2, 2, 1, projection=\"3d\")\n",
    "    ax.scatter3D(cloud[:, 0], cloud[:, 1], cloud[:, 2], c=cloud[:, 2] + 0.5)\n",
    "    ax.set_xlabel(\"x\")\n",
    "    ax.set_ylabel(\"y\")\n",
    "    ax.set_zlabel(\"z\")\n",
    "    ax.view_init(elev=0., azim=0)\n",
    "\n",
    "    ax = fig.add_subplot(2, 2, 3)\n",
    "    sns.distplot(cloud[:,2],ax=ax, kde=False)\n",
    "\n",
    "\n",
    "    # with norm\n",
    "    cloud_norm[:,2] = cloud_norm[:,2] - np.min(cloud_norm[:,2])\n",
    "    ax = fig.add_subplot(2, 2, 2, projection=\"3d\")\n",
    "    ax.scatter3D(cloud_norm[:, 0], cloud_norm[:, 1], cloud_norm[:, 2], c=cloud_norm[:, 2] + 0.5)\n",
    "    ax.set_xlabel(\"x\")\n",
    "    ax.set_ylabel(\"y\")\n",
    "    ax.set_zlabel(\"z\")\n",
    "    ax.view_init(elev=0., azim=0)\n",
    "\n",
    "    ax = fig.add_subplot(2, 2, 4)\n",
    "    sns.distplot(cloud_norm[:,2],ax=ax, kde=False)\n",
    "\n",
    "    plt.tight_layout()\n",
    "    plt.savefig(output_path, dpi = 100, facecolor=fig.get_facecolor(), edgecolor='none')"
   ]
  },
  {
   "cell_type": "markdown",
   "id": "ea05ced3",
   "metadata": {},
   "source": [
    "### Fonctionnal code to integrate is here "
   ]
  },
  {
   "cell_type": "code",
   "execution_count": 6,
   "id": "3af34933",
   "metadata": {
    "ExecuteTime": {
     "end_time": "2021-07-02T13:54:04.970313Z",
     "start_time": "2021-07-02T13:54:04.925949Z"
    },
    "init_cell": true
   },
   "outputs": [],
   "source": [
    "DIM_METERS = 20\n",
    "\n",
    "\n",
    "def center_plot(cloud, xy_center):\n",
    "    \"\"\"Center the cloud to 0, also return the initial xymin to decenter the cloud\"\"\"\n",
    "    cloud[:, :2] = cloud[:, :2] - xy_center\n",
    "    return cloud\n",
    "\n",
    "\n",
    "def decenter_plot(cloud, xy_center):\n",
    "    cloud[:, :2] = cloud[:, :2] + xy_center\n",
    "    return cloud\n",
    "\n",
    "\n",
    "def xy_to_polar_coordinates(xy):\n",
    "    r = np.sqrt((1.0 * xy * xy).sum(axis=1))\n",
    "    teta = np.arctan2(\n",
    "        xy[:, 1], xy[:, 0]\n",
    "    )  # -pi, pi around (0,0) to (1,0). y and x are args in this order.\n",
    "    rteta = np.stack([r, teta], axis=1)\n",
    "    return rteta\n",
    "\n",
    "\n",
    "def polar_coordinates_to_xy(rteta):\n",
    "    x = rteta[:, 0] * np.cos(rteta[:, 1])\n",
    "    y = rteta[:, 0] * np.sin(rteta[:, 1])\n",
    "    xy = np.stack([x, y], axis=1)\n",
    "    return xy\n",
    "\n",
    "\n",
    "def create_buffer_points(cloud, ring_thickness_meters):\n",
    "    \"\"\"cloud is centered with xy as first coordinates in meters.\"\"\"\n",
    "    candidates_polar = cloud.copy()\n",
    "    candidates_polar[:, :2] = xy_to_polar_coordinates(candidates_polar[:, :2])\n",
    "    candidates_polar = candidates_polar[\n",
    "        candidates_polar[:, 0] > (DIM_METERS // 2 - ring_thickness_meters)\n",
    "    ]  # points in external ring\n",
    "    candidates_polar[:, 0] = candidates_polar[:, 0] + 2 * (\n",
    "        abs(DIM_METERS // 2 - candidates_polar[:, 0])\n",
    "    )  # use border of plot as a mirror\n",
    "    candidates_polar[:, :2] = polar_coordinates_to_xy(candidates_polar[:, :2])\n",
    "    return candidates_polar\n",
    "\n",
    "\n",
    "# TRUE VERSION\n",
    "def normalize_z_with_smooth_spline(cloud, xy_center, pix_size, ring_thickness_meters, s=None):\n",
    "    \"\"\"From a regular grid, find lowest point in each cell/pixel and use them to approximate\n",
    "    the DTM with a spline. Then, normalize z by flattening the ground using the DTM.\n",
    "    \"\"\"\n",
    "    norm_cloud = cloud.copy()\n",
    "\n",
    "    # center in order to use polar coordinate\n",
    "    norm_cloud = center_plot(norm_cloud, xy_center)\n",
    "\n",
    "    # create buffer\n",
    "    buffer_points = create_buffer_points(norm_cloud, ring_thickness_meters)\n",
    "    extended_cloud = np.concatenate([norm_cloud, buffer_points])\n",
    "\n",
    "    # fit\n",
    "    xy_quantified = (\n",
    "        extended_cloud[:, :2] // pix_size + 0.5\n",
    "    ) * pix_size  # quantify (and center) coordinates\n",
    "    xy_pairs, z_argmin = npi.group_by(xy_quantified).argmin(extended_cloud[:, 2])\n",
    "    sbs = SmoothBivariateSpline(\n",
    "        extended_cloud[z_argmin, 0],\n",
    "        extended_cloud[z_argmin, 1],\n",
    "        extended_cloud[z_argmin, 2],\n",
    "        kx=3,\n",
    "        ky=3,\n",
    "        s=s,\n",
    "    )\n",
    "\n",
    "    # predict on normcloud\n",
    "    norm_cloud[:, 2] = norm_cloud[:, 2] - sbs(\n",
    "        norm_cloud[:, 0], norm_cloud[:, 1], grid=False\n",
    "    )\n",
    "    # get back to initial coordinate system\n",
    "    norm_cloud = decenter_plot(norm_cloud, xy_center)\n",
    "    return norm_cloud"
   ]
  },
  {
   "cell_type": "code",
   "execution_count": null,
   "id": "5f30b38e",
   "metadata": {
    "ExecuteTime": {
     "end_time": "2021-06-25T16:23:30.682367Z",
     "start_time": "2021-06-25T16:23:30.637068Z"
    }
   },
   "outputs": [],
   "source": [
    "from scipy.interpolate import SmoothBivariateSpline\n",
    "import numpy_indexed as npi\n",
    "\n",
    "np.random.seed(0)\n",
    "xy_center = np.array([500,500])\n",
    "# fake data\n",
    "xy = (\n",
    "    np.random.random((1000, 2)) * DIM_METERS + xy_center\n",
    ")  # 20*20 and with an offset that needs to be removed\n",
    "\n",
    "\n",
    "def fxy(x, y):\n",
    "    return -np.sin(y * 2) + np.cos(x * 2) * 2 + 2 * np.cos(x) * np.sin(x * 2)\n",
    "\n",
    "\n",
    "z = fxy(xy[:, 0:1], xy[:, 1:2])\n",
    "xyz = np.append(xy, z, axis=1)\n",
    "\n",
    "\n",
    "normalize_z_with_smooth_spline(xyz, xy_center, 1.5, 8, s=None)"
   ]
  },
  {
   "cell_type": "code",
   "execution_count": null,
   "id": "b42c0fdf",
   "metadata": {
    "ExecuteTime": {
     "end_time": "2021-06-25T16:23:30.775288Z",
     "start_time": "2021-06-25T16:23:30.771064Z"
    }
   },
   "outputs": [],
   "source": [
    "np.concatenate([xyz, xyz]).shape"
   ]
  },
  {
   "cell_type": "markdown",
   "id": "377be5ae",
   "metadata": {},
   "source": [
    "# Try with real data"
   ]
  },
  {
   "cell_type": "code",
   "execution_count": null,
   "id": "374b5062",
   "metadata": {
    "ExecuteTime": {
     "end_time": "2021-06-25T16:23:36.976274Z",
     "start_time": "2021-06-25T16:23:31.596821Z"
    }
   },
   "outputs": [],
   "source": [
    "rng"
   ]
  },
  {
   "cell_type": "code",
   "execution_count": null,
   "id": "3303d1ad",
   "metadata": {
    "ExecuteTime": {
     "end_time": "2021-06-25T16:23:36.981169Z",
     "start_time": "2021-06-25T16:23:36.978019Z"
    }
   },
   "outputs": [],
   "source": [
    "print(len(selection))"
   ]
  },
  {
   "cell_type": "code",
   "execution_count": null,
   "id": "5ff9bac8",
   "metadata": {
    "ExecuteTime": {
     "end_time": "2021-06-25T16:28:43.858212Z",
     "start_time": "2021-06-25T16:28:39.883737Z"
    },
    "scrolled": true
   },
   "outputs": [],
   "source": [
    "%matplotlib notebook\n",
    "# range_pix_size = np.arange(0.5, 3, 0.25)\n",
    "range_pix_size = [1.25]\n",
    "\n",
    "for name, my_cloud in selection.items():\n",
    "    for pix_size in range_pix_size:\n",
    "        \n",
    "        # here approximate but should be real coordinates !\n",
    "        xy_min = my_cloud[:, :2].min(axis=0)\n",
    "        xy_center = xy_min + np.array([DIM_METERS // 2, DIM_METERS // 2])\n",
    "        \n",
    "        s = (20 // pix_size) ** 2 * 2\n",
    "        cloud = my_cloud.copy()\n",
    "        output_path = (\n",
    "            f\"./temp_cloud_extension/extended_spline_pl_{name}_pix_size_{pix_size:.02f}.png\"\n",
    "        )\n",
    "        cloud_norm = normalize_z_with_smooth_spline(cloud, xy_center, pix_size, 2, s=s)\n",
    "        title = (\n",
    "            f\"Without and with normalization spline pl_{name} pix_size {pix_size:.02f} s_{s}\"\n",
    "        )\n",
    "        print(output_path)\n",
    "        plot_norm_impact(my_cloud, cloud_norm, title, output_path)"
   ]
  },
  {
   "cell_type": "code",
   "execution_count": null,
   "id": "21b872a6",
   "metadata": {
    "ExecuteTime": {
     "end_time": "2021-06-25T15:28:00.696918Z",
     "start_time": "2021-06-25T15:28:00.684696Z"
    }
   },
   "outputs": [],
   "source": [
    "cloud_norm = normalize_z_with_smooth_spline(cloud, pix_size, 15, s=s)"
   ]
  },
  {
   "cell_type": "code",
   "execution_count": null,
   "id": "4f51a6f1",
   "metadata": {
    "ExecuteTime": {
     "end_time": "2021-06-25T15:28:00.750661Z",
     "start_time": "2021-06-25T15:28:00.735338Z"
    }
   },
   "outputs": [],
   "source": [
    "cloud.shape"
   ]
  },
  {
   "cell_type": "code",
   "execution_count": null,
   "id": "7ead6738",
   "metadata": {},
   "outputs": [],
   "source": []
  },
  {
   "cell_type": "code",
   "execution_count": null,
   "id": "bdfcd4b9",
   "metadata": {},
   "outputs": [],
   "source": []
  },
  {
   "cell_type": "code",
   "execution_count": null,
   "id": "af83c1ee",
   "metadata": {
    "ExecuteTime": {
     "end_time": "2021-06-25T16:18:49.691926Z",
     "start_time": "2021-06-25T16:18:49.065516Z"
    },
    "scrolled": false
   },
   "outputs": [],
   "source": [
    "# DBEUG VERSION\n",
    "# def normalize_z_with_smooth_spline(cloud, pix_size, ring_thickness_meters, s=None):\n",
    "name = \"Releve_Lidar_F68\"\n",
    "cloud = nparray_clouds_dict[name]\n",
    "pix_size=1.5 \n",
    "ring_thickness_meters=1.5 \n",
    "s=None\n",
    "\"\"\"From a regular grid, find lowest point in each cell/pixel and use them to approximate\n",
    "the DTM with a spline. Then, normalize z by flattening the ground using the DTM.\n",
    "\"\"\"\n",
    "\n",
    "# here approximate but should be real coordinates !\n",
    "xy_min = cloud[:, :2].min(axis=0)\n",
    "xy_center = xy_min + np.array([DIM_METERS // 2, DIM_METERS // 2])\n",
    "\n",
    "norm_cloud = cloud.copy()\n",
    "\n",
    "\n",
    "\n",
    "\n",
    "print(cloud.shape)\n",
    "# center in order to use polar coordinate\n",
    "norm_cloud = center_plot(norm_cloud, xy_center)\n",
    "print(norm_cloud.shape)\n",
    "\n",
    "\n",
    "# create buffer\n",
    "buffer_points = create_buffer_points(norm_cloud, ring_thickness_meters)\n",
    "extended_cloud = np.concatenate([norm_cloud, buffer_points])\n",
    "print(buffer_points.shape, extended_cloud.shape)\n",
    "\n",
    "# fit\n",
    "xy_quantified = (\n",
    "    extended_cloud[:, :2] // pix_size + 0.5\n",
    ") * pix_size  # quantify (and center) coordinates\n",
    "print(xy_quantified)\n",
    "\n",
    "xy_pairs, z_argmin = npi.group_by(xy_quantified).argmin(extended_cloud[:, 2])\n",
    "sbs = SmoothBivariateSpline(\n",
    "    extended_cloud[z_argmin, 0],\n",
    "    extended_cloud[z_argmin, 1],\n",
    "    extended_cloud[z_argmin, 2],\n",
    "    kx=5,\n",
    "    ky=5,\n",
    "    s=s,\n",
    ")\n",
    "\n",
    "norm_cloud = buffer_points.copy()\n",
    "\n",
    "# DEBUG: Plot the approximation\n",
    "norm_cloud[:, 2] = sbs(norm_cloud[:, 0], norm_cloud[:, 1], grid=False)\n",
    "# norm_cloud = decenter_plot(norm_cloud, xy_center)\n",
    "\n",
    "output_path = (\n",
    "    f\"./temp_cloud_extension/extended_spline_pl_{name}_pix_size_{pix_size:.02f}.png\"\n",
    ")\n",
    "title = (\n",
    "    f\"Without and with normalization spline pl_{name} pix_size {pix_size:.02f} s_{s}\"\n",
    ")\n",
    "\n",
    "plot_norm_impact(cloud, norm_cloud, title, output_path)"
   ]
  },
  {
   "cell_type": "code",
   "execution_count": null,
   "id": "87483ae6",
   "metadata": {
    "ExecuteTime": {
     "end_time": "2021-06-25T16:02:38.458668Z",
     "start_time": "2021-06-25T16:02:38.448876Z"
    }
   },
   "outputs": [],
   "source": [
    "norm_cloud[:,1].max() - norm_cloud[:,1].min(), (norm_cloud[:,0].max() - norm_cloud[:,0].min())"
   ]
  },
  {
   "cell_type": "code",
   "execution_count": null,
   "id": "9e706365",
   "metadata": {
    "ExecuteTime": {
     "end_time": "2021-06-25T15:59:53.771413Z",
     "start_time": "2021-06-25T15:59:53.690498Z"
    }
   },
   "outputs": [],
   "source": [
    "def my_imshow(gr):\n",
    "    plt.figure()\n",
    "    plt.imshow(gr[:,:2])\n",
    "    plt.colorbar()\n",
    "my_imshow(buffer_points)"
   ]
  },
  {
   "cell_type": "code",
   "execution_count": null,
   "id": "d0631982",
   "metadata": {
    "ExecuteTime": {
     "end_time": "2021-06-25T16:11:31.406704Z",
     "start_time": "2021-06-25T16:11:31.399945Z"
    }
   },
   "outputs": [],
   "source": [
    "candidates_polar = np.array([[-1.,2]])\n",
    "candidates_polar[:, :2] = xy_to_polar_coordinates(candidates_polar[:, :2])\n",
    "candidates_polar"
   ]
  },
  {
   "cell_type": "code",
   "execution_count": null,
   "id": "daa276a9",
   "metadata": {
    "ExecuteTime": {
     "end_time": "2021-06-25T16:31:27.252760Z",
     "start_time": "2021-06-25T16:31:26.404464Z"
    },
    "scrolled": false
   },
   "outputs": [],
   "source": [
    "%matplotlib notebook\n",
    "def visualize_spline_approx(cloud, title):\n",
    "        \n",
    "    # here approximate but should be real coordinates !\n",
    "    xy_min = my_cloud[:, :2].min(axis=0)\n",
    "    xy_center = xy_min + np.array([DIM_METERS // 2, DIM_METERS // 2])\n",
    "    norm_cloud = normalize_z_with_smooth_spline(cloud,xy_center, 1.5, 2, s=None)\n",
    "    cloud_dtm = norm_cloud.copy()\n",
    "    cloud_dtm[:,2] = cloud[:,2] - cloud_dtm[:,2]\n",
    "\n",
    "    # Visualize\n",
    "    plt.figure(figsize=(15,15))\n",
    "    ax = plt.axes(projection='3d')\n",
    "    ax.plot_trisurf(cloud_dtm[:,0], cloud_dtm[:,1], cloud_dtm[:,2]);\n",
    "    ax.scatter3D(cloud[:,0], cloud[:,1], cloud[:,2], c= \"b\", cmap='Greens');\n",
    "    ax.view_init(elev=0., azim=0)\n",
    "#     ax.set_zlim(-5, 5)\n",
    "    plt.title(title)\n",
    "    plt.show()\n",
    "\n",
    "\n",
    "for key in selection:\n",
    "    visualize_spline_approx(nparray_clouds_dict[key], key)\n",
    "pass"
   ]
  }
 ],
 "metadata": {
  "celltoolbar": "Initialization Cell",
  "kernelspec": {
   "display_name": "Python 3",
   "language": "python",
   "name": "python3"
  },
  "language_info": {
   "codemirror_mode": {
    "name": "ipython",
    "version": 3
   },
   "file_extension": ".py",
   "mimetype": "text/x-python",
   "name": "python",
   "nbconvert_exporter": "python",
   "pygments_lexer": "ipython3",
   "version": "3.9.4"
  }
 },
 "nbformat": 4,
 "nbformat_minor": 5
}
