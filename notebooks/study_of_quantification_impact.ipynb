{
 "cells": [
  {
   "cell_type": "markdown",
   "id": "25309b4f",
   "metadata": {},
   "source": [
    "# Study of quantification impact\n",
    "\n",
    "Here we study how imprecision due to quantification, as well as imprecision due to labellers, can impact currently measured criterion of evaluation. We also develop two other criterion : MAE2 and Accuracy2 that takes into consideration the fact that coverage values were quantized. "
   ]
  },
  {
   "cell_type": "code",
   "execution_count": 79,
   "id": "c1b5d3bb",
   "metadata": {
    "ExecuteTime": {
     "end_time": "2021-06-14T14:41:29.961724Z",
     "start_time": "2021-06-14T14:41:29.959240Z"
    },
    "init_cell": true
   },
   "outputs": [],
   "source": [
    "import matplotlib.pyplot as plt\n",
    "import numpy as np\n",
    "from scipy.integrate import simps\n",
    "import pandas as pd\n",
    "import sys\n",
    "sys.path.append(\"..\")"
   ]
  },
  {
   "cell_type": "markdown",
   "id": "e20681cc",
   "metadata": {},
   "source": [
    "Load results files for a particular experiment"
   ]
  },
  {
   "cell_type": "code",
   "execution_count": 34,
   "id": "e44fb3b0",
   "metadata": {
    "ExecuteTime": {
     "end_time": "2021-06-14T13:00:01.215740Z",
     "start_time": "2021-06-14T13:00:01.181755Z"
    },
    "init_cell": true
   },
   "outputs": [
    {
     "data": {
      "text/html": [
       "<div>\n",
       "<style scoped>\n",
       "    .dataframe tbody tr th:only-of-type {\n",
       "        vertical-align: middle;\n",
       "    }\n",
       "\n",
       "    .dataframe tbody tr th {\n",
       "        vertical-align: top;\n",
       "    }\n",
       "\n",
       "    .dataframe thead th {\n",
       "        text-align: right;\n",
       "    }\n",
       "</style>\n",
       "<table border=\"1\" class=\"dataframe\">\n",
       "  <thead>\n",
       "    <tr style=\"text-align: right;\">\n",
       "      <th></th>\n",
       "      <th>pl_id</th>\n",
       "      <th>vt_veg_b</th>\n",
       "      <th>vt_veg_moy</th>\n",
       "      <th>vt_veg_h</th>\n",
       "    </tr>\n",
       "  </thead>\n",
       "  <tbody>\n",
       "    <tr>\n",
       "      <th>0</th>\n",
       "      <td>Releve_Lidar_F68</td>\n",
       "      <td>0.0</td>\n",
       "      <td>100.0</td>\n",
       "      <td>0.0</td>\n",
       "    </tr>\n",
       "    <tr>\n",
       "      <th>1</th>\n",
       "      <td>2021_POINT_OBS60</td>\n",
       "      <td>25.0</td>\n",
       "      <td>75.0</td>\n",
       "      <td>0.0</td>\n",
       "    </tr>\n",
       "    <tr>\n",
       "      <th>2</th>\n",
       "      <td>POINT_OBS67</td>\n",
       "      <td>10.0</td>\n",
       "      <td>75.0</td>\n",
       "      <td>33.0</td>\n",
       "    </tr>\n",
       "    <tr>\n",
       "      <th>3</th>\n",
       "      <td>POINT_OBS71</td>\n",
       "      <td>25.0</td>\n",
       "      <td>75.0</td>\n",
       "      <td>90.0</td>\n",
       "    </tr>\n",
       "    <tr>\n",
       "      <th>4</th>\n",
       "      <td>Releve_Lidar_F69</td>\n",
       "      <td>10.0</td>\n",
       "      <td>75.0</td>\n",
       "      <td>75.0</td>\n",
       "    </tr>\n",
       "  </tbody>\n",
       "</table>\n",
       "</div>"
      ],
      "text/plain": [
       "              pl_id  vt_veg_b  vt_veg_moy  vt_veg_h\n",
       "0  Releve_Lidar_F68       0.0       100.0       0.0\n",
       "1  2021_POINT_OBS60      25.0        75.0       0.0\n",
       "2       POINT_OBS67      10.0        75.0      33.0\n",
       "3       POINT_OBS71      25.0        75.0      90.0\n",
       "4  Releve_Lidar_F69      10.0        75.0      75.0"
      ]
     },
     "execution_count": 34,
     "metadata": {},
     "output_type": "execute_result"
    }
   ],
   "source": [
    "experiment_rel_path = \"../experiments/RESULTS_3_strata/only_stratum/PROD/learning/2021-05-31_11h40m21s/PCC_inference_all_placettes.csv\"\n",
    "format_percentage_to_float = lambda x: float(x.replace(\"%\",\"\"))\n",
    "cols_to_format = ['pred_veg_b', 'pred_sol_nu', 'pred_veg_moy', 'pred_veg_h',\n",
    "                  'vt_veg_b', 'vt_sol_nu', 'vt_veg_moy', 'vt_veg_h','error_veg_b', \n",
    "                  'error_veg_moy', 'error_veg_b_and_moy']\n",
    "df = pd.read_csv(experiment_rel_path, converters={key:format_percentage_to_float for key in cols_to_format})\n",
    "df[[\"pl_id\",\"vt_veg_b\",\"vt_veg_moy\",\"vt_veg_h\"]].head()"
   ]
  },
  {
   "cell_type": "markdown",
   "id": "8dd8d07c",
   "metadata": {},
   "source": [
    "## 1) Visualization of quantification noise, under assumption of perfect model\n",
    "\n",
    "Situation:\n",
    "- Uniform distribution of coverages, that are quantized by observators.\n",
    "- The observator evaluates coverage perfectly <=> Our predictive model outputs perfect predictions\n",
    "- We measure absolute error relative to GT values i.e. coverage class centers (MAE)\n",
    "\n",
    "Conclusions:\n",
    "- Even a perfect observator would have an inherent quantification error\n",
    "- A perfect predictive model would make a symmetrical prediction error"
   ]
  },
  {
   "cell_type": "code",
   "execution_count": 35,
   "id": "1de0ba1c",
   "metadata": {
    "ExecuteTime": {
     "end_time": "2021-06-14T13:00:01.331182Z",
     "start_time": "2021-06-14T13:00:01.216894Z"
    }
   },
   "outputs": [
    {
     "data": {
      "image/png": "[encoded data removed]",
      "text/plain": [
       "<Figure size 432x288 with 1 Axes>"
      ]
     },
     "metadata": {
      "needs_background": "light"
     },
     "output_type": "display_data"
    }
   ],
   "source": [
    "x = np.linspace(0,100,2001)\n",
    "bins_borders = np.array([5,17.5,29,41.5,58.5,71,82.5,95,101])\n",
    "bins_centers = np.array([0,10,25,33,50,67,75,90,100])\n",
    "y_classes = np.digitize(x, bins_borders)\n",
    "y_quant = bins_centers[y_classes[:,None]].squeeze()\n",
    "error = np.abs(x-y_quant)\n",
    "\n",
    "plt.title(\"Quantification error depends on coverage value\")\n",
    "plt.plot(x, y_quant, label=\"coverage (discrete)\")\n",
    "plt.plot(x, x, label = \"coverage\")\n",
    "plt.plot(x, error, label = \"quantification noise\")\n",
    "plt.xlabel(\"Coverage (%)\")\n",
    "plt.legend()\n",
    "\n",
    "plt.show()"
   ]
  },
  {
   "cell_type": "code",
   "execution_count": 36,
   "id": "ecf533fb",
   "metadata": {
    "ExecuteTime": {
     "end_time": "2021-06-14T13:00:01.335599Z",
     "start_time": "2021-06-14T13:00:01.332240Z"
    }
   },
   "outputs": [
    {
     "data": {
      "text/plain": [
       "True"
      ]
     },
     "execution_count": 36,
     "metadata": {},
     "output_type": "execute_result"
    }
   ],
   "source": [
    "# Sanity check of borders and centers\n",
    "list(map(lambda x: abs(x[0] - x[1]), zip(bins_borders[:-1],bins_centers[:-1]))) == list(map(lambda x: abs(x[0] - x[1]), zip(bins_borders,bins_centers[1:])))"
   ]
  },
  {
   "cell_type": "markdown",
   "id": "7d568a6b",
   "metadata": {},
   "source": [
    "Calculation of quantification noise expected value, under uniform coverage distribution assumptions"
   ]
  },
  {
   "cell_type": "code",
   "execution_count": 37,
   "id": "9e6c61a0",
   "metadata": {
    "ExecuteTime": {
     "end_time": "2021-06-14T13:00:01.349902Z",
     "start_time": "2021-06-14T13:00:01.336536Z"
    }
   },
   "outputs": [
    {
     "data": {
      "text/plain": [
       "3.39"
      ]
     },
     "execution_count": 37,
     "metadata": {},
     "output_type": "execute_result"
    }
   ],
   "source": [
    "error.mean().round(2)"
   ]
  },
  {
   "cell_type": "markdown",
   "id": "a26d75bb",
   "metadata": {},
   "source": [
    "Calculation of quantification noise expected value, under plots coverage distribution"
   ]
  },
  {
   "cell_type": "code",
   "execution_count": 38,
   "id": "de1be4a7",
   "metadata": {
    "ExecuteTime": {
     "end_time": "2021-06-14T13:00:01.378932Z",
     "start_time": "2021-06-14T13:00:01.351685Z"
    }
   },
   "outputs": [
    {
     "data": {
      "text/plain": [
       "[(0, '->', 2.48, '%pts'),\n",
       " (10, '->', 3.24, '%pts'),\n",
       " (25, '->', 3.15, '%pts'),\n",
       " (33, '->', 3.52, '%pts'),\n",
       " (50, '->', 4.25, '%pts'),\n",
       " (67, '->', 3.54, '%pts'),\n",
       " (75, '->', 3.13, '%pts'),\n",
       " (90, '->', 3.25, '%pts'),\n",
       " (100, '->', 2.5, '%pts')]"
      ]
     },
     "execution_count": 38,
     "metadata": {},
     "output_type": "execute_result"
    }
   ],
   "source": [
    "errors_by_class = np.zeros(shape=(9,))\n",
    "for i in range(9):\n",
    "    errors_by_class[i] = error[y_classes==i].mean()\n",
    "errors_by_class = errors_by_class.round(2)\n",
    "errors_by_class_mapper = {val_quant:mean_error for val_quant,mean_error in zip(bins_centers, errors_by_class)}\n",
    "# See values:\n",
    "l = list(zip(bins_centers, len(bins_centers)*[\"->\"],errors_by_class, len(bins_centers)*[\"%pts\"]))\n",
    "l"
   ]
  },
  {
   "cell_type": "markdown",
   "id": "d88c9a3c",
   "metadata": {},
   "source": [
    "Actual expected error of oracle by vegetation strata"
   ]
  },
  {
   "cell_type": "code",
   "execution_count": 40,
   "id": "1909e2b2",
   "metadata": {
    "ExecuteTime": {
     "end_time": "2021-06-14T13:00:01.422965Z",
     "start_time": "2021-06-14T13:00:01.393586Z"
    }
   },
   "outputs": [
    {
     "name": "stdout",
     "output_type": "stream",
     "text": [
      "Actual error due to quantization: 3.070735042735043\n"
     ]
    },
    {
     "data": {
      "text/plain": [
       "vt_veg_b      3.143077\n",
       "vt_veg_moy    3.047179\n",
       "vt_veg_h      3.021949\n",
       "Name: mean, dtype: float64"
      ]
     },
     "execution_count": 40,
     "metadata": {},
     "output_type": "execute_result"
    }
   ],
   "source": [
    "df_errors = df.copy()\n",
    "df_errors[[\"vt_veg_b\",\"vt_veg_moy\",\"vt_veg_h\"]] = df_errors[[\"vt_veg_b\",\"vt_veg_moy\",\"vt_veg_h\"]].replace(errors_by_class_mapper)\n",
    "print(f\"Actual error due to quantization: {df_errors[['vt_veg_b','vt_veg_moy','vt_veg_h']].values.mean()}\")\n",
    "df_errors[[\"vt_veg_b\",\"vt_veg_moy\",\"vt_veg_h\"]].describe().loc[\"mean\"]"
   ]
  },
  {
   "cell_type": "markdown",
   "id": "f80a5561",
   "metadata": {},
   "source": [
    "Calculation of adapted MAE, relative to class to predict"
   ]
  },
  {
   "cell_type": "code",
   "execution_count": null,
   "id": "20a92a55",
   "metadata": {
    "ExecuteTime": {
     "start_time": "2021-06-08T09:09:43.372Z"
    }
   },
   "outputs": [],
   "source": [
    "# # mae2\n",
    "# df_mae2 = df.copy()\n",
    "# bb = [0] + bins_borders.tolist()\n",
    "# center_to_border_dict = {center: borders for center, borders in zip(bins_centers, zip(bb[:-1], bb[1:]))}\n",
    "# center_to_border_dict\n",
    "# def compute_mae2(pred, vt):\n",
    "#     borders = center_to_border_dict[vt]\n",
    "#     if borders[0] <= pred <= borders[1]:\n",
    "#         return 0.0\n",
    "#     else:\n",
    "#         return min( abs(borders[0]-pred), abs(borders[1]-pred))\n",
    "    \n",
    "# # apply to df\n",
    "# mae2_b = df_mae2.apply(lambda x: compute_mae2(x.pred_veg_b, x.vt_veg_b), axis=1).mean().round(2)\n",
    "# mae2_moy = df_mae2.apply(lambda x: compute_mae2(x.pred_veg_moy, x.vt_veg_moy), axis=1).mean().round(2)\n",
    "# mae2_h = df_mae2.apply(lambda x: compute_mae2(x.pred_veg_h, x.vt_veg_h), axis=1).mean().round(2)\n",
    "# mae2_b, mae2_moy, mae2_h"
   ]
  },
  {
   "cell_type": "code",
   "execution_count": 11,
   "id": "35e53700",
   "metadata": {
    "ExecuteTime": {
     "end_time": "2021-06-07T15:22:05.500344Z",
     "start_time": "2021-06-07T15:22:05.481312Z"
    }
   },
   "outputs": [
    {
     "data": {
      "text/plain": [
       "(10.75, 9.89, 9.83)"
      ]
     },
     "execution_count": 11,
     "metadata": {},
     "output_type": "execute_result"
    }
   ],
   "source": [
    "# get average width of class for each class\n",
    "def compute_width(vt):\n",
    "    borders = center_to_border_dict[vt]\n",
    "    return abs(borders[0] -borders[1])  \n",
    "# apply to df\n",
    "width_b = df_mae2.apply(lambda x: compute_width(x.vt_veg_b), axis=1).mean().round(2)\n",
    "width_moy = df_mae2.apply(lambda x: compute_width(x.vt_veg_moy), axis=1).mean().round(2)\n",
    "width_h = df_mae2.apply(lambda x: compute_width(x.vt_veg_h), axis=1).mean().round(2)\n",
    "width_b, width_moy, width_h"
   ]
  },
  {
   "cell_type": "markdown",
   "id": "4b29ee4d",
   "metadata": {},
   "source": [
    "## 2. Calculation of induced error under the hypothesis of a normally distributed, small error made by the agent. \n",
    "\n",
    "### 2.A Evaluation using MAE\n",
    "\n",
    "Situation:\n",
    "- Observations have an inherent measurement error, which follows a gaussian variable of zero mean.\n",
    "- This can impacts ground-truths with threshold effects when measurement is ouside GT class, due to quantification.\n",
    "- This time, quantification error amplifies measurement error.\n",
    "- A perfect predictive model would make a symmetrical prediction error relative to ground truths.\n",
    "- Different assumptions of stdev of measurement error are compared.\n",
    "Conclusion:\n",
    "- Even conservative stdev hypotheses lead to high MAE.\n",
    "- We have to compare with MAE2."
   ]
  },
  {
   "cell_type": "markdown",
   "id": "68f4df4e",
   "metadata": {},
   "source": [
    "We first define different gaussian distributions that represent the measurement error. We visualize it and study probabilities of being lower than given absolute errors."
   ]
  },
  {
   "cell_type": "code",
   "execution_count": 45,
   "id": "9aee3113",
   "metadata": {
    "ExecuteTime": {
     "end_time": "2021-06-14T13:09:36.938660Z",
     "start_time": "2021-06-14T13:09:36.838524Z"
    }
   },
   "outputs": [
    {
     "data": {
      "image/png": "[encoded data removed]",
      "text/plain": [
       "<Figure size 432x288 with 1 Axes>"
      ]
     },
     "metadata": {
      "needs_background": "light"
     },
     "output_type": "display_data"
    }
   ],
   "source": [
    "from scipy.stats import norm\n",
    "\n",
    "stdev_of_error = 5  # in percentage of coverage ; 95.4% of values will be in [-2*sigma, +2*sigma]\n",
    "imprecision_generator = norm(0, stdev_of_error)\n",
    "fig, ax = plt.subplots(1, 1)\n",
    "x = np.linspace(imprecision_generator.ppf(0.01),\n",
    "                imprecision_generator.ppf(0.99), 100)\n",
    "ax.plot(x, imprecision_generator.pdf(x),\n",
    "       'r-', lw=5, alpha=0.6, label='norm pdf')\n",
    "plt.show()"
   ]
  },
  {
   "cell_type": "code",
   "execution_count": 77,
   "id": "d45e4067",
   "metadata": {
    "ExecuteTime": {
     "end_time": "2021-06-14T13:53:01.122996Z",
     "start_time": "2021-06-14T13:53:01.085077Z"
    }
   },
   "outputs": [
    {
     "data": {
      "text/html": [
       "<div>\n",
       "<style scoped>\n",
       "    .dataframe tbody tr th:only-of-type {\n",
       "        vertical-align: middle;\n",
       "    }\n",
       "\n",
       "    .dataframe tbody tr th {\n",
       "        vertical-align: top;\n",
       "    }\n",
       "\n",
       "    .dataframe thead th {\n",
       "        text-align: right;\n",
       "    }\n",
       "</style>\n",
       "<table border=\"1\" class=\"dataframe\">\n",
       "  <thead>\n",
       "    <tr style=\"text-align: right;\">\n",
       "      <th></th>\n",
       "      <th>stdev=5</th>\n",
       "      <th>stdev=10</th>\n",
       "      <th>stdev=15</th>\n",
       "      <th>stdev=20</th>\n",
       "    </tr>\n",
       "  </thead>\n",
       "  <tbody>\n",
       "    <tr>\n",
       "      <th>|e|&lt;2.5</th>\n",
       "      <td>0.38</td>\n",
       "      <td>0.20</td>\n",
       "      <td>0.13</td>\n",
       "      <td>0.10</td>\n",
       "    </tr>\n",
       "    <tr>\n",
       "      <th>|e|&lt;5</th>\n",
       "      <td>0.68</td>\n",
       "      <td>0.38</td>\n",
       "      <td>0.26</td>\n",
       "      <td>0.20</td>\n",
       "    </tr>\n",
       "    <tr>\n",
       "      <th>|e|&lt;7.5</th>\n",
       "      <td>0.87</td>\n",
       "      <td>0.55</td>\n",
       "      <td>0.38</td>\n",
       "      <td>0.29</td>\n",
       "    </tr>\n",
       "    <tr>\n",
       "      <th>|e|&lt;10</th>\n",
       "      <td>0.95</td>\n",
       "      <td>0.68</td>\n",
       "      <td>0.50</td>\n",
       "      <td>0.38</td>\n",
       "    </tr>\n",
       "    <tr>\n",
       "      <th>|e|&lt;12.5</th>\n",
       "      <td>0.99</td>\n",
       "      <td>0.79</td>\n",
       "      <td>0.60</td>\n",
       "      <td>0.47</td>\n",
       "    </tr>\n",
       "    <tr>\n",
       "      <th>|e|&lt;15</th>\n",
       "      <td>1.00</td>\n",
       "      <td>0.87</td>\n",
       "      <td>0.68</td>\n",
       "      <td>0.55</td>\n",
       "    </tr>\n",
       "    <tr>\n",
       "      <th>|e|&lt;20</th>\n",
       "      <td>1.00</td>\n",
       "      <td>0.95</td>\n",
       "      <td>0.82</td>\n",
       "      <td>0.68</td>\n",
       "    </tr>\n",
       "    <tr>\n",
       "      <th>|e|&lt;25</th>\n",
       "      <td>1.00</td>\n",
       "      <td>0.99</td>\n",
       "      <td>0.90</td>\n",
       "      <td>0.79</td>\n",
       "    </tr>\n",
       "    <tr>\n",
       "      <th>|e|&lt;30</th>\n",
       "      <td>1.00</td>\n",
       "      <td>1.00</td>\n",
       "      <td>0.95</td>\n",
       "      <td>0.87</td>\n",
       "    </tr>\n",
       "  </tbody>\n",
       "</table>\n",
       "</div>"
      ],
      "text/plain": [
       "          stdev=5  stdev=10  stdev=15  stdev=20\n",
       "|e|<2.5      0.38      0.20      0.13      0.10\n",
       "|e|<5        0.68      0.38      0.26      0.20\n",
       "|e|<7.5      0.87      0.55      0.38      0.29\n",
       "|e|<10       0.95      0.68      0.50      0.38\n",
       "|e|<12.5     0.99      0.79      0.60      0.47\n",
       "|e|<15       1.00      0.87      0.68      0.55\n",
       "|e|<20       1.00      0.95      0.82      0.68\n",
       "|e|<25       1.00      0.99      0.90      0.79\n",
       "|e|<30       1.00      1.00      0.95      0.87"
      ]
     },
     "execution_count": 77,
     "metadata": {},
     "output_type": "execute_result"
    }
   ],
   "source": [
    "stdev_of_error_list = [5, 10, 15, 20]\n",
    "above_error_list = [2.5, 5, 7.5, 10, 12.5, 15, 20, 25, 30]\n",
    "\n",
    "errors = np.empty((len(above_error_list), len(stdev_of_error_list)))\n",
    "\n",
    "for idx_stdev, stdev_of_error in enumerate(stdev_of_error_list):\n",
    "    imprecision_generator = norm(0, stdev_of_error)\n",
    "    for idx_above_error, above_error in enumerate(above_error_list):\n",
    "        prob = imprecision_generator.cdf(above_error) - imprecision_generator.cdf(-above_error)\n",
    "        errors[idx_above_error, idx_stdev] = prob\n",
    "\n",
    "df_errors = pd.DataFrame(\n",
    "    data=errors,\n",
    "    index=[f\"|e|<{s}\" for s in above_error_list],\n",
    "    columns=[f\"stdev={s}\" for s in stdev_of_error_list],\n",
    ").round(2)\n",
    "df_errors"
   ]
  },
  {
   "cell_type": "code",
   "execution_count": 83,
   "id": "638becd7",
   "metadata": {
    "ExecuteTime": {
     "end_time": "2021-06-14T14:42:50.450564Z",
     "start_time": "2021-06-14T14:42:39.705112Z"
    }
   },
   "outputs": [
    {
     "name": "stdout",
     "output_type": "stream",
     "text": [
      "Deltas d for p(e>p) for proba \n",
      "p = [0.01, 0.05, 0.25, 0.5, 0.75, 0.95, 0.99] are\n",
      "d = [-11.6, -8.2, -3.4, 0.0, 3.4, 8.2, 11.6]\n",
      "proba of an error above 20% is 0.00\n",
      "e=5.2% for range [0;5.0]\n",
      "e=5.7% for range [5.0;17.5]\n",
      "e=6.9% for range [17.5;29.0]\n",
      "e=7.2% for range [29.0;41.5]\n",
      "e=8.4% for range [41.5;58.5]\n",
      "e=7.2% for range [58.5;71.0]\n",
      "e=6.9% for range [71.0;82.5]\n",
      "e=5.8% for range [82.5;95.0]\n",
      "e=4.9% for range [95.0;101.0]\n",
      "Expected error with evaluation error of stdev=10 is 6.46\n"
     ]
    }
   ],
   "source": [
    "print(f\"Deltas d for p(e>p) for proba \\np = {[0.01,0.05,0.25,0.5,0.75,0.95,0.99]} are\\nd = {[np.round(imprecision_generator.ppf(f),1) for f in [0.01,0.05,0.25,0.5,0.75,0.95,0.99]]}\")\n",
    "print(f\"proba of an error above 20% is {imprecision_generator.cdf(-20) * 2:.2f}\")\n",
    "stdev_of_error=10\n",
    "bins_borders = np.array([5,17.5,29,41.5,58.5,71,82.5,95,101])\n",
    "bins_centers = np.array([0,10,25,33,50,67,75,90,100])\n",
    "bb = [0] + bins_borders.tolist()\n",
    "center_to_border_dict = {center: borders for center, borders in zip(bins_centers, zip(bb[:-1], bb[1:]))}\n",
    "imprecision_generator = norm(0, stdev_of_error)\n",
    "expected_E = []\n",
    "for center, (lower_b, upper_b) in center_to_border_dict.items():\n",
    "    E_list = []\n",
    "    for coverage in np.arange(lower_b,upper_b + 0.1, 0.25):  # we always include both border in this range\n",
    "        E = 0.0\n",
    "        W = 0.0\n",
    "        for imprecision_delta in np.arange(-33,33, 0.25):\n",
    "            w = imprecision_generator.pdf(imprecision_delta)\n",
    "            coverage_with_imprecision = coverage + imprecision_delta\n",
    "            # we accept that 0% and 100% are more likely errors when close to them\n",
    "            coverage_with_imprecision = max(coverage_with_imprecision, 0)\n",
    "            coverage_with_imprecision = min(coverage_with_imprecision, 100)\n",
    "            if lower_b <= coverage_with_imprecision <= upper_b:\n",
    "                E = E + w * abs(coverage - center)  # quantification noise N°1\n",
    "            else:\n",
    "                closest_center = bins_centers[np.argsort(abs(bins_centers - coverage_with_imprecision))[1]]\n",
    "                E = E + w * abs(coverage -  closest_center)  # quantification noise N°2\n",
    "            W = W + w  # accumularte weights as well\n",
    "        E_list.append(E / W)\n",
    "    expected_E_in_class = np.mean(E_list)\n",
    "    \n",
    "    print(f\"e={expected_E_in_class:.2}% for range [{lower_b};{upper_b}]\")\n",
    "    expected_E.append(expected_E_in_class)\n",
    "print(f\"Expected error with evaluation error of stdev={stdev_of_error} is {np.mean(expected_E).round(2)}\")"
   ]
  },
  {
   "cell_type": "markdown",
   "id": "22fdf2ed",
   "metadata": {},
   "source": [
    "### 2.B Evaluation using MAE2\n",
    "\n",
    "Situation:\n",
    "- Observations have an inherent measurement error, which follows a gaussian variable of zero mean.\n",
    "- This can impacts ground-truths with threshold effects when measurement is ouside GT class, due to quantification.\n",
    "- This time, quantification error amplifies measurement error.\n",
    "- Different assumptions of stdev of measurement error are compared.\n",
    "\n",
    "Conclusion:\n",
    "- Using MAE2 gives a more robust estimation of what on can achieve in terms of performance\n",
    "\n",
    "\n",
    "N.B. analyses are now produced in quantification_error.py"
   ]
  }
 ],
 "metadata": {
  "celltoolbar": "Initialization Cell",
  "kernelspec": {
   "display_name": "Python 3",
   "language": "python",
   "name": "python3"
  },
  "language_info": {
   "codemirror_mode": {
    "name": "ipython",
    "version": 3
   },
   "file_extension": ".py",
   "mimetype": "text/x-python",
   "name": "python",
   "nbconvert_exporter": "python",
   "pygments_lexer": "ipython3",
   "version": "3.9.4"
  }
 },
 "nbformat": 4,
 "nbformat_minor": 5
}
